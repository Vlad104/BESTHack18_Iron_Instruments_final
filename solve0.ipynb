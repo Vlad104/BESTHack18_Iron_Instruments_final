{
 "cells": [
  {
   "cell_type": "markdown",
   "metadata": {},
   "source": [
    "\n",
    "# Задание 1. Команда Iron Insruments\n"
   ]
  },
  {
   "cell_type": "code",
   "execution_count": 139,
   "metadata": {
    "colab": {},
    "colab_type": "code",
    "id": "eekboJyqHrEV"
   },
   "outputs": [],
   "source": [
    "import pandas as pd\n",
    "dfl = pd.read_csv('DataFromWebPage (1).csv', sep = ';', low_memory=False)"
   ]
  },
  {
   "cell_type": "code",
   "execution_count": null,
   "metadata": {},
   "outputs": [],
   "source": [
    "# Поиск чисел в строке"
   ]
  },
  {
   "cell_type": "code",
   "execution_count": 140,
   "metadata": {},
   "outputs": [],
   "source": [
    "def find_number(data_list):\n",
    "    out = []\n",
    "    res = ''\n",
    "    for x in data_list:\n",
    "        if x != x:\n",
    "            res = '0'\n",
    "        elif x == '':\n",
    "            res = '0'\n",
    "        else:\n",
    "            for i in str(x):\n",
    "                if ('0' <= i <= '9'):\n",
    "                    res += i\n",
    "        if res == '':\n",
    "            res = '0'\n",
    "        out.append(int(res))\n",
    "        res = ''\n",
    "    return out\n",
    "        "
   ]
  },
  {
   "cell_type": "code",
   "execution_count": null,
   "metadata": {},
   "outputs": [],
   "source": [
    "# Очистка данных"
   ]
  },
  {
   "cell_type": "code",
   "execution_count": 141,
   "metadata": {},
   "outputs": [],
   "source": [
    "dfc = dfl\n",
    "labels = ['Price', 'OtMetro', 'Vmestimost', 'Area', 'Footprint']\n",
    "in_list  = []\n",
    "out_list = []\n",
    "for label in labels:\n",
    "    in_list  = dfl[label].values\n",
    "    out_list = find_number(in_list)\n",
    "    n = 0\n",
    "    for x in out_list:\n",
    "        dfc[label].values[n] = x\n",
    "        n+=1 \n",
    "    in_list  = []\n",
    "    out_list = []"
   ]
  },
  {
   "cell_type": "markdown",
   "metadata": {},
   "source": [
    "## Визуализация"
   ]
  },
  {
   "cell_type": "code",
   "execution_count": 142,
   "metadata": {
    "colab": {},
    "colab_type": "code",
    "id": "2DmvtFohIqt3"
   },
   "outputs": [
    {
     "data": {
      "text/html": [
       "<script>requirejs.config({paths: { 'plotly': ['https://cdn.plot.ly/plotly-latest.min']},});if(!window.Plotly) {{require(['plotly'],function(plotly) {window.Plotly=plotly;});}}</script>"
      ],
      "text/vnd.plotly.v1+html": [
       "<script>requirejs.config({paths: { 'plotly': ['https://cdn.plot.ly/plotly-latest.min']},});if(!window.Plotly) {{require(['plotly'],function(plotly) {window.Plotly=plotly;});}}</script>"
      ]
     },
     "metadata": {},
     "output_type": "display_data"
    }
   ],
   "source": [
    "from plotly.offline import download_plotlyjs, init_notebook_mode, plot, iplot\n",
    "import plotly\n",
    "import plotly.graph_objs as go\n",
    "init_notebook_mode ( connected = True )\n",
    "MAX = 10"
   ]
  },
  {
   "cell_type": "markdown",
   "metadata": {},
   "source": [
    "### График распределения лофтов по цене (первые 10 с самой низкой ценой аренды за час)"
   ]
  },
  {
   "cell_type": "code",
   "execution_count": 143,
   "metadata": {},
   "outputs": [
    {
     "data": {
      "image/svg+xml": [
       "<svg class=\"pygal-chart\" id=\"chart-3a92a427-8d1f-40cf-9ce9-ba02c6a053f3\" viewBox=\"0 0 800 600\" xmlns=\"http://www.w3.org/2000/svg\" xmlns:xlink=\"http://www.w3.org/1999/xlink\"><!--Generated with pygal 2.4.0 (lxml) ©Kozea 2012-2016 on 2018-04-20--><!--http://pygal.org--><!--http://github.com/Kozea/pygal--><defs><style type=\"text/css\">#chart-3a92a427-8d1f-40cf-9ce9-ba02c6a053f3{-webkit-user-select:none;-webkit-font-smoothing:antialiased;font-family:Consolas,&quot;Liberation Mono&quot;,Menlo,Courier,monospace}#chart-3a92a427-8d1f-40cf-9ce9-ba02c6a053f3 .title{font-family:Consolas,&quot;Liberation Mono&quot;,Menlo,Courier,monospace;font-size:16px}#chart-3a92a427-8d1f-40cf-9ce9-ba02c6a053f3 .legends .legend text{font-family:Consolas,&quot;Liberation Mono&quot;,Menlo,Courier,monospace;font-size:14px}#chart-3a92a427-8d1f-40cf-9ce9-ba02c6a053f3 .axis text{font-family:Consolas,&quot;Liberation Mono&quot;,Menlo,Courier,monospace;font-size:10px}#chart-3a92a427-8d1f-40cf-9ce9-ba02c6a053f3 .axis text.major{font-family:Consolas,&quot;Liberation Mono&quot;,Menlo,Courier,monospace;font-size:10px}#chart-3a92a427-8d1f-40cf-9ce9-ba02c6a053f3 .text-overlay text.value{font-family:Consolas,&quot;Liberation Mono&quot;,Menlo,Courier,monospace;font-size:16px}#chart-3a92a427-8d1f-40cf-9ce9-ba02c6a053f3 .text-overlay text.label{font-family:Consolas,&quot;Liberation Mono&quot;,Menlo,Courier,monospace;font-size:10px}#chart-3a92a427-8d1f-40cf-9ce9-ba02c6a053f3 .tooltip{font-family:Consolas,&quot;Liberation Mono&quot;,Menlo,Courier,monospace;font-size:14px}#chart-3a92a427-8d1f-40cf-9ce9-ba02c6a053f3 text.no_data{font-family:Consolas,&quot;Liberation Mono&quot;,Menlo,Courier,monospace;font-size:64px}\n",
       "#chart-3a92a427-8d1f-40cf-9ce9-ba02c6a053f3{background-color:rgba(249,249,249,1)}#chart-3a92a427-8d1f-40cf-9ce9-ba02c6a053f3 path,#chart-3a92a427-8d1f-40cf-9ce9-ba02c6a053f3 line,#chart-3a92a427-8d1f-40cf-9ce9-ba02c6a053f3 rect,#chart-3a92a427-8d1f-40cf-9ce9-ba02c6a053f3 circle{-webkit-transition:150ms;-moz-transition:150ms;transition:150ms}#chart-3a92a427-8d1f-40cf-9ce9-ba02c6a053f3 .graph &gt; .background{fill:rgba(249,249,249,1)}#chart-3a92a427-8d1f-40cf-9ce9-ba02c6a053f3 .plot &gt; .background{fill:rgba(255,255,255,1)}#chart-3a92a427-8d1f-40cf-9ce9-ba02c6a053f3 .graph{fill:rgba(0,0,0,.87)}#chart-3a92a427-8d1f-40cf-9ce9-ba02c6a053f3 text.no_data{fill:rgba(0,0,0,1)}#chart-3a92a427-8d1f-40cf-9ce9-ba02c6a053f3 .title{fill:rgba(0,0,0,1)}#chart-3a92a427-8d1f-40cf-9ce9-ba02c6a053f3 .legends .legend text{fill:rgba(0,0,0,.87)}#chart-3a92a427-8d1f-40cf-9ce9-ba02c6a053f3 .legends .legend:hover text{fill:rgba(0,0,0,1)}#chart-3a92a427-8d1f-40cf-9ce9-ba02c6a053f3 .axis .line{stroke:rgba(0,0,0,1)}#chart-3a92a427-8d1f-40cf-9ce9-ba02c6a053f3 .axis .guide.line{stroke:rgba(0,0,0,.54)}#chart-3a92a427-8d1f-40cf-9ce9-ba02c6a053f3 .axis .major.line{stroke:rgba(0,0,0,.87)}#chart-3a92a427-8d1f-40cf-9ce9-ba02c6a053f3 .axis text.major{fill:rgba(0,0,0,1)}#chart-3a92a427-8d1f-40cf-9ce9-ba02c6a053f3 .axis.y .guides:hover .guide.line,#chart-3a92a427-8d1f-40cf-9ce9-ba02c6a053f3 .line-graph .axis.x .guides:hover .guide.line,#chart-3a92a427-8d1f-40cf-9ce9-ba02c6a053f3 .stackedline-graph .axis.x .guides:hover .guide.line,#chart-3a92a427-8d1f-40cf-9ce9-ba02c6a053f3 .xy-graph .axis.x .guides:hover .guide.line{stroke:rgba(0,0,0,1)}#chart-3a92a427-8d1f-40cf-9ce9-ba02c6a053f3 .axis .guides:hover text{fill:rgba(0,0,0,1)}#chart-3a92a427-8d1f-40cf-9ce9-ba02c6a053f3 .reactive{fill-opacity:.7;stroke-opacity:.8}#chart-3a92a427-8d1f-40cf-9ce9-ba02c6a053f3 .ci{stroke:rgba(0,0,0,.87)}#chart-3a92a427-8d1f-40cf-9ce9-ba02c6a053f3 .reactive.active,#chart-3a92a427-8d1f-40cf-9ce9-ba02c6a053f3 .active .reactive{fill-opacity:.8;stroke-opacity:.9;stroke-width:4}#chart-3a92a427-8d1f-40cf-9ce9-ba02c6a053f3 .ci .reactive.active{stroke-width:1.5}#chart-3a92a427-8d1f-40cf-9ce9-ba02c6a053f3 .series text{fill:rgba(0,0,0,1)}#chart-3a92a427-8d1f-40cf-9ce9-ba02c6a053f3 .tooltip rect{fill:rgba(255,255,255,1);stroke:rgba(0,0,0,1);-webkit-transition:opacity 150ms;-moz-transition:opacity 150ms;transition:opacity 150ms}#chart-3a92a427-8d1f-40cf-9ce9-ba02c6a053f3 .tooltip .label{fill:rgba(0,0,0,.87)}#chart-3a92a427-8d1f-40cf-9ce9-ba02c6a053f3 .tooltip .label{fill:rgba(0,0,0,.87)}#chart-3a92a427-8d1f-40cf-9ce9-ba02c6a053f3 .tooltip .legend{font-size:.8em;fill:rgba(0,0,0,.54)}#chart-3a92a427-8d1f-40cf-9ce9-ba02c6a053f3 .tooltip .x_label{font-size:.6em;fill:rgba(0,0,0,1)}#chart-3a92a427-8d1f-40cf-9ce9-ba02c6a053f3 .tooltip .xlink{font-size:.5em;text-decoration:underline}#chart-3a92a427-8d1f-40cf-9ce9-ba02c6a053f3 .tooltip .value{font-size:1.5em}#chart-3a92a427-8d1f-40cf-9ce9-ba02c6a053f3 .bound{font-size:.5em}#chart-3a92a427-8d1f-40cf-9ce9-ba02c6a053f3 .max-value{font-size:.75em;fill:rgba(0,0,0,.54)}#chart-3a92a427-8d1f-40cf-9ce9-ba02c6a053f3 .map-element{fill:rgba(255,255,255,1);stroke:rgba(0,0,0,.54) !important}#chart-3a92a427-8d1f-40cf-9ce9-ba02c6a053f3 .map-element .reactive{fill-opacity:inherit;stroke-opacity:inherit}#chart-3a92a427-8d1f-40cf-9ce9-ba02c6a053f3 .color-0,#chart-3a92a427-8d1f-40cf-9ce9-ba02c6a053f3 .color-0 a:visited{stroke:#F44336;fill:#F44336}#chart-3a92a427-8d1f-40cf-9ce9-ba02c6a053f3 .color-1,#chart-3a92a427-8d1f-40cf-9ce9-ba02c6a053f3 .color-1 a:visited{stroke:#3F51B5;fill:#3F51B5}#chart-3a92a427-8d1f-40cf-9ce9-ba02c6a053f3 .color-2,#chart-3a92a427-8d1f-40cf-9ce9-ba02c6a053f3 .color-2 a:visited{stroke:#009688;fill:#009688}#chart-3a92a427-8d1f-40cf-9ce9-ba02c6a053f3 .color-3,#chart-3a92a427-8d1f-40cf-9ce9-ba02c6a053f3 .color-3 a:visited{stroke:#FFC107;fill:#FFC107}#chart-3a92a427-8d1f-40cf-9ce9-ba02c6a053f3 .color-4,#chart-3a92a427-8d1f-40cf-9ce9-ba02c6a053f3 .color-4 a:visited{stroke:#FF5722;fill:#FF5722}#chart-3a92a427-8d1f-40cf-9ce9-ba02c6a053f3 .color-5,#chart-3a92a427-8d1f-40cf-9ce9-ba02c6a053f3 .color-5 a:visited{stroke:#9C27B0;fill:#9C27B0}#chart-3a92a427-8d1f-40cf-9ce9-ba02c6a053f3 .color-6,#chart-3a92a427-8d1f-40cf-9ce9-ba02c6a053f3 .color-6 a:visited{stroke:#03A9F4;fill:#03A9F4}#chart-3a92a427-8d1f-40cf-9ce9-ba02c6a053f3 .color-7,#chart-3a92a427-8d1f-40cf-9ce9-ba02c6a053f3 .color-7 a:visited{stroke:#8BC34A;fill:#8BC34A}#chart-3a92a427-8d1f-40cf-9ce9-ba02c6a053f3 .color-8,#chart-3a92a427-8d1f-40cf-9ce9-ba02c6a053f3 .color-8 a:visited{stroke:#FF9800;fill:#FF9800}#chart-3a92a427-8d1f-40cf-9ce9-ba02c6a053f3 .color-9,#chart-3a92a427-8d1f-40cf-9ce9-ba02c6a053f3 .color-9 a:visited{stroke:#E91E63;fill:#E91E63}#chart-3a92a427-8d1f-40cf-9ce9-ba02c6a053f3 .text-overlay .color-0 text{fill:black}#chart-3a92a427-8d1f-40cf-9ce9-ba02c6a053f3 .text-overlay .color-1 text{fill:black}#chart-3a92a427-8d1f-40cf-9ce9-ba02c6a053f3 .text-overlay .color-2 text{fill:black}#chart-3a92a427-8d1f-40cf-9ce9-ba02c6a053f3 .text-overlay .color-3 text{fill:black}#chart-3a92a427-8d1f-40cf-9ce9-ba02c6a053f3 .text-overlay .color-4 text{fill:black}#chart-3a92a427-8d1f-40cf-9ce9-ba02c6a053f3 .text-overlay .color-5 text{fill:black}#chart-3a92a427-8d1f-40cf-9ce9-ba02c6a053f3 .text-overlay .color-6 text{fill:black}#chart-3a92a427-8d1f-40cf-9ce9-ba02c6a053f3 .text-overlay .color-7 text{fill:black}#chart-3a92a427-8d1f-40cf-9ce9-ba02c6a053f3 .text-overlay .color-8 text{fill:black}#chart-3a92a427-8d1f-40cf-9ce9-ba02c6a053f3 .text-overlay .color-9 text{fill:black}\n",
       "#chart-3a92a427-8d1f-40cf-9ce9-ba02c6a053f3 text.no_data{text-anchor:middle}#chart-3a92a427-8d1f-40cf-9ce9-ba02c6a053f3 .guide.line{fill:none}#chart-3a92a427-8d1f-40cf-9ce9-ba02c6a053f3 .centered{text-anchor:middle}#chart-3a92a427-8d1f-40cf-9ce9-ba02c6a053f3 .title{text-anchor:middle}#chart-3a92a427-8d1f-40cf-9ce9-ba02c6a053f3 .legends .legend text{fill-opacity:1}#chart-3a92a427-8d1f-40cf-9ce9-ba02c6a053f3 .axis.x text{text-anchor:middle}#chart-3a92a427-8d1f-40cf-9ce9-ba02c6a053f3 .axis.x:not(.web) text[transform]{text-anchor:start}#chart-3a92a427-8d1f-40cf-9ce9-ba02c6a053f3 .axis.x:not(.web) text[transform].backwards{text-anchor:end}#chart-3a92a427-8d1f-40cf-9ce9-ba02c6a053f3 .axis.y text{text-anchor:end}#chart-3a92a427-8d1f-40cf-9ce9-ba02c6a053f3 .axis.y text[transform].backwards{text-anchor:start}#chart-3a92a427-8d1f-40cf-9ce9-ba02c6a053f3 .axis.y2 text{text-anchor:start}#chart-3a92a427-8d1f-40cf-9ce9-ba02c6a053f3 .axis.y2 text[transform].backwards{text-anchor:end}#chart-3a92a427-8d1f-40cf-9ce9-ba02c6a053f3 .axis .guide.line{stroke-dasharray:4,4}#chart-3a92a427-8d1f-40cf-9ce9-ba02c6a053f3 .axis .major.guide.line{stroke-dasharray:6,6}#chart-3a92a427-8d1f-40cf-9ce9-ba02c6a053f3 .horizontal .axis.y .guide.line,#chart-3a92a427-8d1f-40cf-9ce9-ba02c6a053f3 .horizontal .axis.y2 .guide.line,#chart-3a92a427-8d1f-40cf-9ce9-ba02c6a053f3 .vertical .axis.x .guide.line{opacity:0}#chart-3a92a427-8d1f-40cf-9ce9-ba02c6a053f3 .horizontal .axis.always_show .guide.line,#chart-3a92a427-8d1f-40cf-9ce9-ba02c6a053f3 .vertical .axis.always_show .guide.line{opacity:1 !important}#chart-3a92a427-8d1f-40cf-9ce9-ba02c6a053f3 .axis.y .guides:hover .guide.line,#chart-3a92a427-8d1f-40cf-9ce9-ba02c6a053f3 .axis.y2 .guides:hover .guide.line,#chart-3a92a427-8d1f-40cf-9ce9-ba02c6a053f3 .axis.x .guides:hover .guide.line{opacity:1}#chart-3a92a427-8d1f-40cf-9ce9-ba02c6a053f3 .axis .guides:hover text{opacity:1}#chart-3a92a427-8d1f-40cf-9ce9-ba02c6a053f3 .nofill{fill:none}#chart-3a92a427-8d1f-40cf-9ce9-ba02c6a053f3 .subtle-fill{fill-opacity:.2}#chart-3a92a427-8d1f-40cf-9ce9-ba02c6a053f3 .dot{stroke-width:1px;fill-opacity:1}#chart-3a92a427-8d1f-40cf-9ce9-ba02c6a053f3 .dot.active{stroke-width:5px}#chart-3a92a427-8d1f-40cf-9ce9-ba02c6a053f3 .dot.negative{fill:transparent}#chart-3a92a427-8d1f-40cf-9ce9-ba02c6a053f3 text,#chart-3a92a427-8d1f-40cf-9ce9-ba02c6a053f3 tspan{stroke:none !important}#chart-3a92a427-8d1f-40cf-9ce9-ba02c6a053f3 .series text.active{opacity:1}#chart-3a92a427-8d1f-40cf-9ce9-ba02c6a053f3 .tooltip rect{fill-opacity:.95;stroke-width:.5}#chart-3a92a427-8d1f-40cf-9ce9-ba02c6a053f3 .tooltip text{fill-opacity:1}#chart-3a92a427-8d1f-40cf-9ce9-ba02c6a053f3 .showable{visibility:hidden}#chart-3a92a427-8d1f-40cf-9ce9-ba02c6a053f3 .showable.shown{visibility:visible}#chart-3a92a427-8d1f-40cf-9ce9-ba02c6a053f3 .gauge-background{fill:rgba(229,229,229,1);stroke:none}#chart-3a92a427-8d1f-40cf-9ce9-ba02c6a053f3 .bg-lines{stroke:rgba(249,249,249,1);stroke-width:2px}</style><script type=\"text/javascript\">window.pygal = window.pygal || {};window.pygal.config = window.pygal.config || {};window.pygal.config['3a92a427-8d1f-40cf-9ce9-ba02c6a053f3'] = {&quot;print_values&quot;: false, &quot;tooltip_border_radius&quot;: 0, &quot;margin_right&quot;: null, &quot;width&quot;: 800, &quot;fill&quot;: false, &quot;print_labels&quot;: false, &quot;interpolate&quot;: null, &quot;defs&quot;: [], &quot;half_pie&quot;: false, &quot;secondary_range&quot;: null, &quot;show_x_guides&quot;: true, &quot;box_mode&quot;: &quot;extremes&quot;, &quot;y_label_rotation&quot;: 0, &quot;title&quot;: &quot;\\u0420\\u0430\\u0441\\u043f\\u0440\\u0435\\u0434\\u0435\\u043b\\u0435\\u043d\\u0438\\u0435 \\u043b\\u043e\\u0444\\u0442\\u043e\\u0432 \\u043f\\u043e \\u0446\\u0435\\u043d\\u0430\\u043c&quot;, &quot;stroke_style&quot;: null, &quot;margin_left&quot;: null, &quot;show_x_labels&quot;: true, &quot;strict&quot;: false, &quot;stroke&quot;: true, &quot;y_title&quot;: null, &quot;inverse_y_axis&quot;: false, &quot;margin_bottom&quot;: null, &quot;disable_xml_declaration&quot;: false, &quot;no_data_text&quot;: &quot;No data&quot;, &quot;js&quot;: [&quot;//kozea.github.io/pygal.js/2.0.x/pygal-tooltips.min.js&quot;], &quot;x_labels_major_every&quot;: null, &quot;interpolation_parameters&quot;: {}, &quot;range&quot;: null, &quot;show_only_major_dots&quot;: false, &quot;truncate_label&quot;: null, &quot;css&quot;: [&quot;file://style.css&quot;, &quot;file://graph.css&quot;], &quot;tooltip_fancy_mode&quot;: true, &quot;print_zeroes&quot;: true, &quot;y_labels&quot;: null, &quot;include_x_axis&quot;: false, &quot;show_dots&quot;: true, &quot;max_scale&quot;: 16, &quot;logarithmic&quot;: false, &quot;show_y_guides&quot;: false, &quot;interpolation_precision&quot;: 250, &quot;zero&quot;: 0, &quot;y_labels_major&quot;: null, &quot;legend_box_size&quot;: 12, &quot;missing_value_fill_truncation&quot;: &quot;x&quot;, &quot;legends&quot;: [&quot;wake4you&quot;, &quot;\\u041b\\u043e\\u0444\\u0442 \\u0441 \\u043b\\u0435\\u0442\\u043d\\u0438\\u043c \\u043d\\u0430\\u0441\\u0442\\u0440\\u043e\\u0435\\u043d\\u0438\\u0435\\u043c&quot;, &quot;\\u041a\\u043e\\u043c\\u043f\\u0430\\u043a\\u0442\\u043d\\u043e\\u0435 \\u043f\\u0440\\u043e\\u0441\\u0442\\u0440\\u0430\\u043d\\u0441\\u0442\\u0432\\u043e \\u043d\\u0430 \\u00ab\\u041f\\u0440\\u043e\\u0441\\u043f\\u0435\\u043a\\u0442\\u0435 \\u041c\\u0438\\u0440\\u0430\\u00bb&quot;, &quot;\\u0423\\u044e\\u0442\\u043d\\u044b\\u0439 \\u043b\\u043e\\u0444\\u0442 \\u0434\\u043b\\u044f \\u0442\\u0432\\u043e\\u0440\\u0447\\u0435\\u0441\\u043a\\u0438\\u0445 \\u043c\\u0435\\u0440\\u043e\\u043f\\u0440\\u0438\\u044f\\u0442\\u0438\\u0439 \\u0438 \\u043f\\u0440\\u0430\\u0437\\u0434\\u043d\\u0438\\u043a\\u043e\\u0432&quot;, &quot;2-\\u044d\\u0442\\u0430\\u0436\\u043d\\u044b\\u0439 \\u043b\\u043e\\u0444\\u0442 \\u0432 \\u0441\\u0442\\u0438\\u043b\\u0435 \\u0444\\u044c\\u044e\\u0436\\u043d&quot;, &quot;\\u041a\\u043e\\u043c\\u043f\\u0430\\u043a\\u0442\\u043d\\u044b\\u0439 \\u043b\\u043e\\u0444\\u0442 \\u0434\\u043b\\u044f \\u043e\\u0440\\u0438\\u0433\\u0438\\u043d\\u0430\\u043b\\u044c\\u043d\\u044b\\u0445 \\u0444\\u043e\\u0442\\u043e\\u0441\\u0435\\u0441\\u0441\\u0438\\u0439&quot;, &quot;Joys Lounge Bar&quot;, &quot;\\u041b\\u043e\\u0444\\u0442 Broadway&quot;, &quot;\\u0417\\u0430\\u043b \\u0434\\u043b\\u044f \\u043c\\u0435\\u0440\\u043e\\u043f\\u0440\\u0438\\u044f\\u0442\\u0438\\u0439 \\u0438 \\u0442\\u0440\\u0435\\u043d\\u0438\\u043d\\u0433\\u043e\\u0432 \\u043d\\u0430 \\u041f\\u0440\\u043e\\u0441\\u043f\\u0435\\u043a\\u0442\\u0435 \\u041c\\u0438\\u0440\\u0430&quot;, &quot;\\u0421\\u0442\\u0438\\u043b\\u044c\\u043d\\u044b\\u0439 \\u043b\\u043e\\u0444\\u0442 \\u0434\\u043b\\u044f \\u043e\\u0442\\u0434\\u044b\\u0445\\u0430 \\u0438 \\u0442\\u0432\\u043e\\u0440\\u0447\\u0435\\u0441\\u043a\\u0438\\u0445 \\u043c\\u0435\\u0440\\u043e\\u043f\\u0440\\u0438\\u044f\\u0442\\u0438\\u0439&quot;], &quot;legend_at_bottom_columns&quot;: null, &quot;xrange&quot;: null, &quot;height&quot;: 600, &quot;y_labels_major_every&quot;: null, &quot;force_uri_protocol&quot;: &quot;https&quot;, &quot;dynamic_print_values&quot;: false, &quot;dots_size&quot;: 2.5, &quot;order_min&quot;: null, &quot;classes&quot;: [&quot;pygal-chart&quot;], &quot;rounded_bars&quot;: null, &quot;pretty_print&quot;: false, &quot;inner_radius&quot;: 0, &quot;explicit_size&quot;: false, &quot;allow_interruptions&quot;: false, &quot;formatter&quot;: null, &quot;x_label_rotation&quot;: 0, &quot;spacing&quot;: 10, &quot;show_minor_x_labels&quot;: true, &quot;print_values_position&quot;: &quot;center&quot;, &quot;legend_at_bottom&quot;: false, &quot;truncate_legend&quot;: null, &quot;show_y_labels&quot;: true, &quot;show_minor_y_labels&quot;: true, &quot;no_prefix&quot;: false, &quot;x_labels_major_count&quot;: null, &quot;x_labels_major&quot;: null, &quot;x_title&quot;: null, &quot;style&quot;: {&quot;label_font_size&quot;: 10, &quot;title_font_size&quot;: 16, &quot;transition&quot;: &quot;150ms&quot;, &quot;legend_font_family&quot;: &quot;Consolas, \\&quot;Liberation Mono\\&quot;, Menlo, Courier, monospace&quot;, &quot;tooltip_font_size&quot;: 14, &quot;colors&quot;: [&quot;#F44336&quot;, &quot;#3F51B5&quot;, &quot;#009688&quot;, &quot;#FFC107&quot;, &quot;#FF5722&quot;, &quot;#9C27B0&quot;, &quot;#03A9F4&quot;, &quot;#8BC34A&quot;, &quot;#FF9800&quot;, &quot;#E91E63&quot;, &quot;#2196F3&quot;, &quot;#4CAF50&quot;, &quot;#FFEB3B&quot;, &quot;#673AB7&quot;, &quot;#00BCD4&quot;, &quot;#CDDC39&quot;, &quot;#9E9E9E&quot;, &quot;#607D8B&quot;], &quot;opacity_hover&quot;: &quot;.8&quot;, &quot;plot_background&quot;: &quot;rgba(255, 255, 255, 1)&quot;, &quot;value_label_font_size&quot;: 10, &quot;value_font_family&quot;: &quot;Consolas, \\&quot;Liberation Mono\\&quot;, Menlo, Courier, monospace&quot;, &quot;label_font_family&quot;: &quot;Consolas, \\&quot;Liberation Mono\\&quot;, Menlo, Courier, monospace&quot;, &quot;value_font_size&quot;: 16, &quot;opacity&quot;: &quot;.7&quot;, &quot;legend_font_size&quot;: 14, &quot;title_font_family&quot;: &quot;Consolas, \\&quot;Liberation Mono\\&quot;, Menlo, Courier, monospace&quot;, &quot;no_data_font_family&quot;: &quot;Consolas, \\&quot;Liberation Mono\\&quot;, Menlo, Courier, monospace&quot;, &quot;stroke_opacity_hover&quot;: &quot;.9&quot;, &quot;tooltip_font_family&quot;: &quot;Consolas, \\&quot;Liberation Mono\\&quot;, Menlo, Courier, monospace&quot;, &quot;value_colors&quot;: [], &quot;background&quot;: &quot;rgba(249, 249, 249, 1)&quot;, &quot;major_label_font_family&quot;: &quot;Consolas, \\&quot;Liberation Mono\\&quot;, Menlo, Courier, monospace&quot;, &quot;foreground_subtle&quot;: &quot;rgba(0, 0, 0, .54)&quot;, &quot;font_family&quot;: &quot;Consolas, \\&quot;Liberation Mono\\&quot;, Menlo, Courier, monospace&quot;, &quot;no_data_font_size&quot;: 64, &quot;stroke_opacity&quot;: &quot;.8&quot;, &quot;value_background&quot;: &quot;rgba(229, 229, 229, 1)&quot;, &quot;ci_colors&quot;: [], &quot;guide_stroke_dasharray&quot;: &quot;4,4&quot;, &quot;major_label_font_size&quot;: 10, &quot;foreground&quot;: &quot;rgba(0, 0, 0, .87)&quot;, &quot;value_label_font_family&quot;: &quot;Consolas, \\&quot;Liberation Mono\\&quot;, Menlo, Courier, monospace&quot;, &quot;foreground_strong&quot;: &quot;rgba(0, 0, 0, 1)&quot;, &quot;major_guide_stroke_dasharray&quot;: &quot;6,6&quot;}, &quot;margin_top&quot;: null, &quot;show_legend&quot;: true, &quot;min_scale&quot;: 4, &quot;margin&quot;: 20, &quot;x_labels&quot;: null, &quot;stack_from_top&quot;: false, &quot;y_labels_major_count&quot;: null}</script><script type=\"text/javascript\" xlink:href=\"https://kozea.github.io/pygal.js/2.0.x/pygal-tooltips.min.js\"/></defs><title>Распределение лофтов по ценам</title><g class=\"graph horizontalbar-graph horizontal\"><rect class=\"background\" height=\"600\" width=\"800\" x=\"0\" y=\"0\"/><g class=\"plot\" transform=\"translate(168, 46)\"><rect class=\"background\" height=\"514\" width=\"612.0\" x=\"0\" y=\"0\"/><g class=\"axis x always_show\"><g class=\"guides\"><path class=\"axis major line\" d=\"M11.769231 0.000000 v514.000000\"/><text class=\"major\" x=\"11.76923076923077\" y=\"529.0\">0</text></g><g class=\"guides\"><path class=\"guide line\" d=\"M85.326923 0.000000 v514.000000\"/><text class=\"\" x=\"85.32692307692308\" y=\"529.0\">100</text></g><g class=\"guides\"><path class=\"guide line\" d=\"M158.884615 0.000000 v514.000000\"/><text class=\"\" x=\"158.8846153846154\" y=\"529.0\">200</text></g><g class=\"guides\"><path class=\"guide line\" d=\"M232.442308 0.000000 v514.000000\"/><text class=\"\" x=\"232.44230769230768\" y=\"529.0\">300</text></g><g class=\"guides\"><path class=\"guide line\" d=\"M306.000000 0.000000 v514.000000\"/><text class=\"\" x=\"306.0\" y=\"529.0\">400</text></g><g class=\"guides\"><path class=\"major guide line\" d=\"M379.557692 0.000000 v514.000000\"/><text class=\"major\" x=\"379.5576923076923\" y=\"529.0\">500</text></g><g class=\"guides\"><path class=\"guide line\" d=\"M453.115385 0.000000 v514.000000\"/><text class=\"\" x=\"453.11538461538464\" y=\"529.0\">600</text></g><g class=\"guides\"><path class=\"guide line\" d=\"M526.673077 0.000000 v514.000000\"/><text class=\"\" x=\"526.6730769230769\" y=\"529.0\">700</text></g><g class=\"guides\"><path class=\"guide line\" d=\"M600.230769 0.000000 v514.000000\"/><text class=\"\" x=\"600.2307692307693\" y=\"529.0\">800</text></g></g><g class=\"series serie-9 color-9\"><g class=\"bars\"><g class=\"bar\"><rect class=\"rect reactive tooltip-trigger\" height=\"38.273230769230764\" rx=\"0\" ry=\"0\" width=\"588.4615384615386\" x=\"11.769230769230717\" y=\"433.57876923076924\"/><desc class=\"value\">800</desc><desc class=\"x centered\">306.0</desc><desc class=\"y centered\">452.71538461538466</desc></g></g></g><g class=\"series serie-8 color-8\"><g class=\"bars\"><g class=\"bar\"><rect class=\"rect reactive tooltip-trigger\" height=\"38.273230769230764\" rx=\"0\" ry=\"0\" width=\"588.4615384615386\" x=\"11.769230769230717\" y=\"390.08646153846155\"/><desc class=\"value\">800</desc><desc class=\"x centered\">306.0</desc><desc class=\"y centered\">409.223076923077</desc></g></g></g><g class=\"series serie-7 color-7\"><g class=\"bars\"><g class=\"bar\"><rect class=\"rect reactive tooltip-trigger\" height=\"38.273230769230764\" rx=\"0\" ry=\"0\" width=\"588.4615384615386\" x=\"11.769230769230717\" y=\"346.59415384615386\"/><desc class=\"value\">800</desc><desc class=\"x centered\">306.0</desc><desc class=\"y centered\">365.7307692307693</desc></g></g></g><g class=\"series serie-6 color-6\"><g class=\"bars\"><g class=\"bar\"><rect class=\"rect reactive tooltip-trigger\" height=\"38.273230769230764\" rx=\"0\" ry=\"0\" width=\"588.4615384615386\" x=\"11.769230769230717\" y=\"303.10184615384617\"/><desc class=\"value\">800</desc><desc class=\"x centered\">306.0</desc><desc class=\"y centered\">322.2384615384616</desc></g></g></g><g class=\"series serie-5 color-5\"><g class=\"bars\"><g class=\"bar\"><rect class=\"rect reactive tooltip-trigger\" height=\"38.273230769230764\" rx=\"0\" ry=\"0\" width=\"588.4615384615386\" x=\"11.769230769230717\" y=\"259.6095384615385\"/><desc class=\"value\">800</desc><desc class=\"x centered\">306.0</desc><desc class=\"y centered\">278.7461538461539</desc></g></g></g><g class=\"series serie-4 color-4\"><g class=\"bars\"><g class=\"bar\"><rect class=\"rect reactive tooltip-trigger\" height=\"38.273230769230764\" rx=\"0\" ry=\"0\" width=\"514.9038461538462\" x=\"11.769230769230717\" y=\"216.11723076923084\"/><desc class=\"value\">700</desc><desc class=\"x centered\">269.2211538461538</desc><desc class=\"y centered\">235.2538461538462</desc></g></g></g><g class=\"series serie-3 color-3\"><g class=\"bars\"><g class=\"bar\"><rect class=\"rect reactive tooltip-trigger\" height=\"38.273230769230764\" rx=\"0\" ry=\"0\" width=\"514.9038461538462\" x=\"11.769230769230717\" y=\"172.62492307692315\"/><desc class=\"value\">700</desc><desc class=\"x centered\">269.2211538461538</desc><desc class=\"y centered\">191.76153846153852</desc></g></g></g><g class=\"series serie-2 color-2\"><g class=\"bars\"><g class=\"bar\"><rect class=\"rect reactive tooltip-trigger\" height=\"38.273230769230764\" rx=\"0\" ry=\"0\" width=\"441.34615384615387\" x=\"11.769230769230774\" y=\"129.13261538461546\"/><desc class=\"value\">600</desc><desc class=\"x centered\">232.4423076923077</desc><desc class=\"y centered\">148.26923076923083</desc></g></g></g><g class=\"series serie-1 color-1\"><g class=\"bars\"><g class=\"bar\"><rect class=\"rect reactive tooltip-trigger\" height=\"38.273230769230764\" rx=\"0\" ry=\"0\" width=\"367.78846153846155\" x=\"11.769230769230774\" y=\"85.64030769230776\"/><desc class=\"value\">500</desc><desc class=\"x centered\">195.66346153846155</desc><desc class=\"y centered\">104.77692307692314</desc></g></g></g><g class=\"series serie-0 color-0\"><g class=\"bars\"><g class=\"bar\"><rect class=\"rect reactive tooltip-trigger\" height=\"38.273230769230764\" rx=\"0\" ry=\"0\" width=\"73.5576923076923\" x=\"11.769230769230774\" y=\"42.14800000000007\"/><desc class=\"value\">100</desc><desc class=\"x centered\">48.54807692307693</desc><desc class=\"y centered\">61.28461538461545</desc></g></g></g></g><g class=\"titles\"><text class=\"title plot_title\" x=\"400.0\" y=\"26\">Распределение лофтов по ценам</text></g><g class=\"plot overlay\" transform=\"translate(168, 46)\"><g class=\"series serie-9 color-9\"/><g class=\"series serie-8 color-8\"/><g class=\"series serie-7 color-7\"/><g class=\"series serie-6 color-6\"/><g class=\"series serie-5 color-5\"/><g class=\"series serie-4 color-4\"/><g class=\"series serie-3 color-3\"/><g class=\"series serie-2 color-2\"/><g class=\"series serie-1 color-1\"/><g class=\"series serie-0 color-0\"/></g><g class=\"plot text-overlay\" transform=\"translate(168, 46)\"><g class=\"series serie-9 color-9\"/><g class=\"series serie-8 color-8\"/><g class=\"series serie-7 color-7\"/><g class=\"series serie-6 color-6\"/><g class=\"series serie-5 color-5\"/><g class=\"series serie-4 color-4\"/><g class=\"series serie-3 color-3\"/><g class=\"series serie-2 color-2\"/><g class=\"series serie-1 color-1\"/><g class=\"series serie-0 color-0\"/></g><g class=\"plot tooltip-overlay\" transform=\"translate(168, 46)\"><g class=\"tooltip\" style=\"opacity: 0\" transform=\"translate(0 0)\"><rect class=\"tooltip-box\" height=\"0\" rx=\"0\" ry=\"0\" width=\"0\"/><g class=\"text\"/></g></g><g class=\"legends\" transform=\"translate(10, 56)\"><g class=\"legend reactive activate-serie\" id=\"activate-serie-0\"><rect class=\"color-0 reactive\" height=\"12\" width=\"12\" x=\"0.0\" y=\"1.0\"/><text x=\"17.0\" y=\"11.2\">wake4you</text></g><g class=\"legend reactive activate-serie\" id=\"activate-serie-1\"><rect class=\"color-1 reactive\" height=\"12\" width=\"12\" x=\"0.0\" y=\"22.0\"/><text x=\"17.0\" y=\"32.2\">Лофт с летним …</text><title>Лофт с летним настроением</title></g><g class=\"legend reactive activate-serie\" id=\"activate-serie-2\"><rect class=\"color-2 reactive\" height=\"12\" width=\"12\" x=\"0.0\" y=\"43.0\"/><text x=\"17.0\" y=\"53.2\">Компактное про…</text><title>Компактное пространство на «Проспекте Мира»</title></g><g class=\"legend reactive activate-serie\" id=\"activate-serie-3\"><rect class=\"color-3 reactive\" height=\"12\" width=\"12\" x=\"0.0\" y=\"64.0\"/><text x=\"17.0\" y=\"74.2\">Уютный лофт дл…</text><title>Уютный лофт для творческих мероприятий и праздников</title></g><g class=\"legend reactive activate-serie\" id=\"activate-serie-4\"><rect class=\"color-4 reactive\" height=\"12\" width=\"12\" x=\"0.0\" y=\"85.0\"/><text x=\"17.0\" y=\"95.2\">2-этажный лофт…</text><title>2-этажный лофт в стиле фьюжн</title></g><g class=\"legend reactive activate-serie\" id=\"activate-serie-5\"><rect class=\"color-5 reactive\" height=\"12\" width=\"12\" x=\"0.0\" y=\"106.0\"/><text x=\"17.0\" y=\"116.2\">Компактный лоф…</text><title>Компактный лофт для оригинальных фотосессий</title></g><g class=\"legend reactive activate-serie\" id=\"activate-serie-6\"><rect class=\"color-6 reactive\" height=\"12\" width=\"12\" x=\"0.0\" y=\"127.0\"/><text x=\"17.0\" y=\"137.2\">Joys Lounge Bar</text></g><g class=\"legend reactive activate-serie\" id=\"activate-serie-7\"><rect class=\"color-7 reactive\" height=\"12\" width=\"12\" x=\"0.0\" y=\"148.0\"/><text x=\"17.0\" y=\"158.2\">Лофт Broadway</text></g><g class=\"legend reactive activate-serie\" id=\"activate-serie-8\"><rect class=\"color-8 reactive\" height=\"12\" width=\"12\" x=\"0.0\" y=\"169.0\"/><text x=\"17.0\" y=\"179.2\">Зал для меропр…</text><title>Зал для мероприятий и тренингов на Проспекте Мира</title></g><g class=\"legend reactive activate-serie\" id=\"activate-serie-9\"><rect class=\"color-9 reactive\" height=\"12\" width=\"12\" x=\"0.0\" y=\"190.0\"/><text x=\"17.0\" y=\"200.2\">Стильный лофт …</text><title>Стильный лофт для отдыха и творческих мероприятий</title></g></g><g class=\"legends\" transform=\"translate(790, 56)\"/></g></svg>"
      ],
      "text/plain": [
       "<IPython.core.display.SVG object>"
      ]
     },
     "metadata": {},
     "output_type": "display_data"
    }
   ],
   "source": [
    "df_price = dfc[['Price', 'Name']]\n",
    "df_price = df_price[df_price.Price != 0]\n",
    "df_price = df_price.sort_values(by='Price')\n",
    "\n",
    "import pygal\n",
    "line_chart = pygal.HorizontalBar()\n",
    "line_chart.title = 'Распределение лофтов по ценам'\n",
    "for i in list(range(MAX)):\n",
    "    line_chart.add(df_price['Name'].values[i], df_price['Price'].values[i])    \n",
    "#line_chart.render()\n",
    "from IPython.display import SVG\n",
    "display(SVG(line_chart.render()))\n",
    "#SVG.show(line_chart.render())"
   ]
  },
  {
   "cell_type": "markdown",
   "metadata": {},
   "source": [
    "### Время, за которое можно пешком добраться до лофта от метро"
   ]
  },
  {
   "cell_type": "code",
   "execution_count": 162,
   "metadata": {},
   "outputs": [
    {
     "data": {
      "image/svg+xml": [
       "<svg class=\"pygal-chart\" id=\"chart-e1dd06e5-1027-4b48-b8cc-38fd5ea9b0e9\" viewBox=\"0 0 800 600\" xmlns=\"http://www.w3.org/2000/svg\" xmlns:xlink=\"http://www.w3.org/1999/xlink\"><!--Generated with pygal 2.4.0 (lxml) ©Kozea 2012-2016 on 2018-04-20--><!--http://pygal.org--><!--http://github.com/Kozea/pygal--><defs><style type=\"text/css\">#chart-e1dd06e5-1027-4b48-b8cc-38fd5ea9b0e9{-webkit-user-select:none;-webkit-font-smoothing:antialiased;font-family:Consolas,&quot;Liberation Mono&quot;,Menlo,Courier,monospace}#chart-e1dd06e5-1027-4b48-b8cc-38fd5ea9b0e9 .title{font-family:Consolas,&quot;Liberation Mono&quot;,Menlo,Courier,monospace;font-size:16px}#chart-e1dd06e5-1027-4b48-b8cc-38fd5ea9b0e9 .legends .legend text{font-family:Consolas,&quot;Liberation Mono&quot;,Menlo,Courier,monospace;font-size:14px}#chart-e1dd06e5-1027-4b48-b8cc-38fd5ea9b0e9 .axis text{font-family:Consolas,&quot;Liberation Mono&quot;,Menlo,Courier,monospace;font-size:10px}#chart-e1dd06e5-1027-4b48-b8cc-38fd5ea9b0e9 .axis text.major{font-family:Consolas,&quot;Liberation Mono&quot;,Menlo,Courier,monospace;font-size:10px}#chart-e1dd06e5-1027-4b48-b8cc-38fd5ea9b0e9 .text-overlay text.value{font-family:Consolas,&quot;Liberation Mono&quot;,Menlo,Courier,monospace;font-size:16px}#chart-e1dd06e5-1027-4b48-b8cc-38fd5ea9b0e9 .text-overlay text.label{font-family:Consolas,&quot;Liberation Mono&quot;,Menlo,Courier,monospace;font-size:10px}#chart-e1dd06e5-1027-4b48-b8cc-38fd5ea9b0e9 .tooltip{font-family:Consolas,&quot;Liberation Mono&quot;,Menlo,Courier,monospace;font-size:14px}#chart-e1dd06e5-1027-4b48-b8cc-38fd5ea9b0e9 text.no_data{font-family:Consolas,&quot;Liberation Mono&quot;,Menlo,Courier,monospace;font-size:64px}\n",
       "#chart-e1dd06e5-1027-4b48-b8cc-38fd5ea9b0e9{background-color:rgba(249,249,249,1)}#chart-e1dd06e5-1027-4b48-b8cc-38fd5ea9b0e9 path,#chart-e1dd06e5-1027-4b48-b8cc-38fd5ea9b0e9 line,#chart-e1dd06e5-1027-4b48-b8cc-38fd5ea9b0e9 rect,#chart-e1dd06e5-1027-4b48-b8cc-38fd5ea9b0e9 circle{-webkit-transition:150ms;-moz-transition:150ms;transition:150ms}#chart-e1dd06e5-1027-4b48-b8cc-38fd5ea9b0e9 .graph &gt; .background{fill:rgba(249,249,249,1)}#chart-e1dd06e5-1027-4b48-b8cc-38fd5ea9b0e9 .plot &gt; .background{fill:rgba(255,255,255,1)}#chart-e1dd06e5-1027-4b48-b8cc-38fd5ea9b0e9 .graph{fill:rgba(0,0,0,.87)}#chart-e1dd06e5-1027-4b48-b8cc-38fd5ea9b0e9 text.no_data{fill:rgba(0,0,0,1)}#chart-e1dd06e5-1027-4b48-b8cc-38fd5ea9b0e9 .title{fill:rgba(0,0,0,1)}#chart-e1dd06e5-1027-4b48-b8cc-38fd5ea9b0e9 .legends .legend text{fill:rgba(0,0,0,.87)}#chart-e1dd06e5-1027-4b48-b8cc-38fd5ea9b0e9 .legends .legend:hover text{fill:rgba(0,0,0,1)}#chart-e1dd06e5-1027-4b48-b8cc-38fd5ea9b0e9 .axis .line{stroke:rgba(0,0,0,1)}#chart-e1dd06e5-1027-4b48-b8cc-38fd5ea9b0e9 .axis .guide.line{stroke:rgba(0,0,0,.54)}#chart-e1dd06e5-1027-4b48-b8cc-38fd5ea9b0e9 .axis .major.line{stroke:rgba(0,0,0,.87)}#chart-e1dd06e5-1027-4b48-b8cc-38fd5ea9b0e9 .axis text.major{fill:rgba(0,0,0,1)}#chart-e1dd06e5-1027-4b48-b8cc-38fd5ea9b0e9 .axis.y .guides:hover .guide.line,#chart-e1dd06e5-1027-4b48-b8cc-38fd5ea9b0e9 .line-graph .axis.x .guides:hover .guide.line,#chart-e1dd06e5-1027-4b48-b8cc-38fd5ea9b0e9 .stackedline-graph .axis.x .guides:hover .guide.line,#chart-e1dd06e5-1027-4b48-b8cc-38fd5ea9b0e9 .xy-graph .axis.x .guides:hover .guide.line{stroke:rgba(0,0,0,1)}#chart-e1dd06e5-1027-4b48-b8cc-38fd5ea9b0e9 .axis .guides:hover text{fill:rgba(0,0,0,1)}#chart-e1dd06e5-1027-4b48-b8cc-38fd5ea9b0e9 .reactive{fill-opacity:.7;stroke-opacity:.8}#chart-e1dd06e5-1027-4b48-b8cc-38fd5ea9b0e9 .ci{stroke:rgba(0,0,0,.87)}#chart-e1dd06e5-1027-4b48-b8cc-38fd5ea9b0e9 .reactive.active,#chart-e1dd06e5-1027-4b48-b8cc-38fd5ea9b0e9 .active .reactive{fill-opacity:.8;stroke-opacity:.9;stroke-width:4}#chart-e1dd06e5-1027-4b48-b8cc-38fd5ea9b0e9 .ci .reactive.active{stroke-width:1.5}#chart-e1dd06e5-1027-4b48-b8cc-38fd5ea9b0e9 .series text{fill:rgba(0,0,0,1)}#chart-e1dd06e5-1027-4b48-b8cc-38fd5ea9b0e9 .tooltip rect{fill:rgba(255,255,255,1);stroke:rgba(0,0,0,1);-webkit-transition:opacity 150ms;-moz-transition:opacity 150ms;transition:opacity 150ms}#chart-e1dd06e5-1027-4b48-b8cc-38fd5ea9b0e9 .tooltip .label{fill:rgba(0,0,0,.87)}#chart-e1dd06e5-1027-4b48-b8cc-38fd5ea9b0e9 .tooltip .label{fill:rgba(0,0,0,.87)}#chart-e1dd06e5-1027-4b48-b8cc-38fd5ea9b0e9 .tooltip .legend{font-size:.8em;fill:rgba(0,0,0,.54)}#chart-e1dd06e5-1027-4b48-b8cc-38fd5ea9b0e9 .tooltip .x_label{font-size:.6em;fill:rgba(0,0,0,1)}#chart-e1dd06e5-1027-4b48-b8cc-38fd5ea9b0e9 .tooltip .xlink{font-size:.5em;text-decoration:underline}#chart-e1dd06e5-1027-4b48-b8cc-38fd5ea9b0e9 .tooltip .value{font-size:1.5em}#chart-e1dd06e5-1027-4b48-b8cc-38fd5ea9b0e9 .bound{font-size:.5em}#chart-e1dd06e5-1027-4b48-b8cc-38fd5ea9b0e9 .max-value{font-size:.75em;fill:rgba(0,0,0,.54)}#chart-e1dd06e5-1027-4b48-b8cc-38fd5ea9b0e9 .map-element{fill:rgba(255,255,255,1);stroke:rgba(0,0,0,.54) !important}#chart-e1dd06e5-1027-4b48-b8cc-38fd5ea9b0e9 .map-element .reactive{fill-opacity:inherit;stroke-opacity:inherit}#chart-e1dd06e5-1027-4b48-b8cc-38fd5ea9b0e9 .color-0,#chart-e1dd06e5-1027-4b48-b8cc-38fd5ea9b0e9 .color-0 a:visited{stroke:#F44336;fill:#F44336}#chart-e1dd06e5-1027-4b48-b8cc-38fd5ea9b0e9 .color-1,#chart-e1dd06e5-1027-4b48-b8cc-38fd5ea9b0e9 .color-1 a:visited{stroke:#3F51B5;fill:#3F51B5}#chart-e1dd06e5-1027-4b48-b8cc-38fd5ea9b0e9 .color-2,#chart-e1dd06e5-1027-4b48-b8cc-38fd5ea9b0e9 .color-2 a:visited{stroke:#009688;fill:#009688}#chart-e1dd06e5-1027-4b48-b8cc-38fd5ea9b0e9 .color-3,#chart-e1dd06e5-1027-4b48-b8cc-38fd5ea9b0e9 .color-3 a:visited{stroke:#FFC107;fill:#FFC107}#chart-e1dd06e5-1027-4b48-b8cc-38fd5ea9b0e9 .color-4,#chart-e1dd06e5-1027-4b48-b8cc-38fd5ea9b0e9 .color-4 a:visited{stroke:#FF5722;fill:#FF5722}#chart-e1dd06e5-1027-4b48-b8cc-38fd5ea9b0e9 .color-5,#chart-e1dd06e5-1027-4b48-b8cc-38fd5ea9b0e9 .color-5 a:visited{stroke:#9C27B0;fill:#9C27B0}#chart-e1dd06e5-1027-4b48-b8cc-38fd5ea9b0e9 .color-6,#chart-e1dd06e5-1027-4b48-b8cc-38fd5ea9b0e9 .color-6 a:visited{stroke:#03A9F4;fill:#03A9F4}#chart-e1dd06e5-1027-4b48-b8cc-38fd5ea9b0e9 .color-7,#chart-e1dd06e5-1027-4b48-b8cc-38fd5ea9b0e9 .color-7 a:visited{stroke:#8BC34A;fill:#8BC34A}#chart-e1dd06e5-1027-4b48-b8cc-38fd5ea9b0e9 .color-8,#chart-e1dd06e5-1027-4b48-b8cc-38fd5ea9b0e9 .color-8 a:visited{stroke:#FF9800;fill:#FF9800}#chart-e1dd06e5-1027-4b48-b8cc-38fd5ea9b0e9 .color-9,#chart-e1dd06e5-1027-4b48-b8cc-38fd5ea9b0e9 .color-9 a:visited{stroke:#E91E63;fill:#E91E63}#chart-e1dd06e5-1027-4b48-b8cc-38fd5ea9b0e9 .text-overlay .color-0 text{fill:black}#chart-e1dd06e5-1027-4b48-b8cc-38fd5ea9b0e9 .text-overlay .color-1 text{fill:black}#chart-e1dd06e5-1027-4b48-b8cc-38fd5ea9b0e9 .text-overlay .color-2 text{fill:black}#chart-e1dd06e5-1027-4b48-b8cc-38fd5ea9b0e9 .text-overlay .color-3 text{fill:black}#chart-e1dd06e5-1027-4b48-b8cc-38fd5ea9b0e9 .text-overlay .color-4 text{fill:black}#chart-e1dd06e5-1027-4b48-b8cc-38fd5ea9b0e9 .text-overlay .color-5 text{fill:black}#chart-e1dd06e5-1027-4b48-b8cc-38fd5ea9b0e9 .text-overlay .color-6 text{fill:black}#chart-e1dd06e5-1027-4b48-b8cc-38fd5ea9b0e9 .text-overlay .color-7 text{fill:black}#chart-e1dd06e5-1027-4b48-b8cc-38fd5ea9b0e9 .text-overlay .color-8 text{fill:black}#chart-e1dd06e5-1027-4b48-b8cc-38fd5ea9b0e9 .text-overlay .color-9 text{fill:black}\n",
       "#chart-e1dd06e5-1027-4b48-b8cc-38fd5ea9b0e9 text.no_data{text-anchor:middle}#chart-e1dd06e5-1027-4b48-b8cc-38fd5ea9b0e9 .guide.line{fill:none}#chart-e1dd06e5-1027-4b48-b8cc-38fd5ea9b0e9 .centered{text-anchor:middle}#chart-e1dd06e5-1027-4b48-b8cc-38fd5ea9b0e9 .title{text-anchor:middle}#chart-e1dd06e5-1027-4b48-b8cc-38fd5ea9b0e9 .legends .legend text{fill-opacity:1}#chart-e1dd06e5-1027-4b48-b8cc-38fd5ea9b0e9 .axis.x text{text-anchor:middle}#chart-e1dd06e5-1027-4b48-b8cc-38fd5ea9b0e9 .axis.x:not(.web) text[transform]{text-anchor:start}#chart-e1dd06e5-1027-4b48-b8cc-38fd5ea9b0e9 .axis.x:not(.web) text[transform].backwards{text-anchor:end}#chart-e1dd06e5-1027-4b48-b8cc-38fd5ea9b0e9 .axis.y text{text-anchor:end}#chart-e1dd06e5-1027-4b48-b8cc-38fd5ea9b0e9 .axis.y text[transform].backwards{text-anchor:start}#chart-e1dd06e5-1027-4b48-b8cc-38fd5ea9b0e9 .axis.y2 text{text-anchor:start}#chart-e1dd06e5-1027-4b48-b8cc-38fd5ea9b0e9 .axis.y2 text[transform].backwards{text-anchor:end}#chart-e1dd06e5-1027-4b48-b8cc-38fd5ea9b0e9 .axis .guide.line{stroke-dasharray:4,4}#chart-e1dd06e5-1027-4b48-b8cc-38fd5ea9b0e9 .axis .major.guide.line{stroke-dasharray:6,6}#chart-e1dd06e5-1027-4b48-b8cc-38fd5ea9b0e9 .horizontal .axis.y .guide.line,#chart-e1dd06e5-1027-4b48-b8cc-38fd5ea9b0e9 .horizontal .axis.y2 .guide.line,#chart-e1dd06e5-1027-4b48-b8cc-38fd5ea9b0e9 .vertical .axis.x .guide.line{opacity:0}#chart-e1dd06e5-1027-4b48-b8cc-38fd5ea9b0e9 .horizontal .axis.always_show .guide.line,#chart-e1dd06e5-1027-4b48-b8cc-38fd5ea9b0e9 .vertical .axis.always_show .guide.line{opacity:1 !important}#chart-e1dd06e5-1027-4b48-b8cc-38fd5ea9b0e9 .axis.y .guides:hover .guide.line,#chart-e1dd06e5-1027-4b48-b8cc-38fd5ea9b0e9 .axis.y2 .guides:hover .guide.line,#chart-e1dd06e5-1027-4b48-b8cc-38fd5ea9b0e9 .axis.x .guides:hover .guide.line{opacity:1}#chart-e1dd06e5-1027-4b48-b8cc-38fd5ea9b0e9 .axis .guides:hover text{opacity:1}#chart-e1dd06e5-1027-4b48-b8cc-38fd5ea9b0e9 .nofill{fill:none}#chart-e1dd06e5-1027-4b48-b8cc-38fd5ea9b0e9 .subtle-fill{fill-opacity:.2}#chart-e1dd06e5-1027-4b48-b8cc-38fd5ea9b0e9 .dot{stroke-width:1px;fill-opacity:1}#chart-e1dd06e5-1027-4b48-b8cc-38fd5ea9b0e9 .dot.active{stroke-width:5px}#chart-e1dd06e5-1027-4b48-b8cc-38fd5ea9b0e9 .dot.negative{fill:transparent}#chart-e1dd06e5-1027-4b48-b8cc-38fd5ea9b0e9 text,#chart-e1dd06e5-1027-4b48-b8cc-38fd5ea9b0e9 tspan{stroke:none !important}#chart-e1dd06e5-1027-4b48-b8cc-38fd5ea9b0e9 .series text.active{opacity:1}#chart-e1dd06e5-1027-4b48-b8cc-38fd5ea9b0e9 .tooltip rect{fill-opacity:.95;stroke-width:.5}#chart-e1dd06e5-1027-4b48-b8cc-38fd5ea9b0e9 .tooltip text{fill-opacity:1}#chart-e1dd06e5-1027-4b48-b8cc-38fd5ea9b0e9 .showable{visibility:hidden}#chart-e1dd06e5-1027-4b48-b8cc-38fd5ea9b0e9 .showable.shown{visibility:visible}#chart-e1dd06e5-1027-4b48-b8cc-38fd5ea9b0e9 .gauge-background{fill:rgba(229,229,229,1);stroke:none}#chart-e1dd06e5-1027-4b48-b8cc-38fd5ea9b0e9 .bg-lines{stroke:rgba(249,249,249,1);stroke-width:2px}</style><script type=\"text/javascript\">window.pygal = window.pygal || {};window.pygal.config = window.pygal.config || {};window.pygal.config['e1dd06e5-1027-4b48-b8cc-38fd5ea9b0e9'] = {&quot;print_values&quot;: false, &quot;tooltip_border_radius&quot;: 0, &quot;margin_right&quot;: null, &quot;width&quot;: 800, &quot;fill&quot;: false, &quot;print_labels&quot;: false, &quot;interpolate&quot;: null, &quot;defs&quot;: [], &quot;half_pie&quot;: false, &quot;secondary_range&quot;: null, &quot;show_x_guides&quot;: true, &quot;box_mode&quot;: &quot;extremes&quot;, &quot;y_label_rotation&quot;: 0, &quot;title&quot;: &quot;\\u0412\\u0440\\u0435\\u043c\\u044f \\u0445\\u043e\\u0434\\u044c\\u0431\\u044b \\u0434\\u043e \\u043b\\u043e\\u0444\\u0442\\u0430 \\u043e\\u0442 \\u043c\\u0435\\u0442\\u0440\\u043e&quot;, &quot;stroke_style&quot;: null, &quot;margin_left&quot;: null, &quot;show_x_labels&quot;: true, &quot;strict&quot;: false, &quot;stroke&quot;: true, &quot;y_title&quot;: null, &quot;inverse_y_axis&quot;: false, &quot;margin_bottom&quot;: null, &quot;disable_xml_declaration&quot;: false, &quot;no_data_text&quot;: &quot;No data&quot;, &quot;js&quot;: [&quot;//kozea.github.io/pygal.js/2.0.x/pygal-tooltips.min.js&quot;], &quot;x_labels_major_every&quot;: null, &quot;interpolation_parameters&quot;: {}, &quot;range&quot;: null, &quot;show_only_major_dots&quot;: false, &quot;truncate_label&quot;: null, &quot;css&quot;: [&quot;file://style.css&quot;, &quot;file://graph.css&quot;], &quot;tooltip_fancy_mode&quot;: true, &quot;print_zeroes&quot;: true, &quot;y_labels&quot;: null, &quot;include_x_axis&quot;: false, &quot;show_dots&quot;: true, &quot;max_scale&quot;: 16, &quot;logarithmic&quot;: false, &quot;show_y_guides&quot;: false, &quot;interpolation_precision&quot;: 250, &quot;zero&quot;: 0, &quot;y_labels_major&quot;: null, &quot;legend_box_size&quot;: 12, &quot;missing_value_fill_truncation&quot;: &quot;x&quot;, &quot;legends&quot;: [&quot;\\u042f\\u0440\\u043a\\u0438\\u0439 \\u043b\\u043e\\u0444\\u0442 \\u0432 \\u0438\\u043d\\u0434\\u0443\\u0441\\u0442\\u0440\\u0438\\u0430\\u043b\\u044c\\u043d\\u043e\\u043c \\u0441\\u0442\\u0438\\u043b\\u0435&quot;, &quot;Joys Lounge Bar&quot;, &quot;\\u0423\\u044e\\u0442\\u043d\\u044b\\u0439 \\u043b\\u043e\\u0444\\u0442 \\u0434\\u043b\\u044f \\u0441\\u0435\\u043c\\u0435\\u0439\\u043d\\u044b\\u0445 \\u0442\\u043e\\u0440\\u0436\\u0435\\u0441\\u0442\\u0432 \\u0438 \\u043e\\u0441\\u043e\\u0431\\u044b\\u0445 \\u0441\\u043b\\u0443\\u0447\\u0430\\u0435\\u0432&quot;, &quot;\\u041b\\u043e\\u0444\\u0442 \\u0441 \\u0430\\u0440\\u043a\\u0430\\u043c\\u0438&quot;, &quot;IronCage&quot;, &quot;Modul V&quot;, &quot;IronCage \\u041a\\u043e\\u043d\\u0444\\u0435\\u0440\\u0435\\u043d\\u0446 \\u0437\\u0430\\u043b&quot;, &quot;\\u0423\\u044e\\u0442\\u043d\\u044b\\u0439 \\u043b\\u043e\\u0444\\u0442 \\u043d\\u0430 \\u041a\\u0438\\u0442\\u0430\\u0439-\\u0433\\u043e\\u0440\\u043e\\u0434\\u0435&quot;, &quot;\\u041b\\u043e\\u0444\\u0442 \\u0434\\u043b\\u044f \\u0431\\u0438\\u0437\\u043d\\u0435\\u0441-\\u043c\\u0435\\u0440\\u043e\\u043f\\u0440\\u0438\\u044f\\u0442\\u0438\\u0439 \\u043d\\u0430 \\u0428\\u0430\\u0431\\u043e\\u043b\\u043e\\u0432\\u043a\\u0435&quot;, &quot;\\u0421\\u0442\\u0438\\u043b\\u044c\\u043d\\u044b\\u0439 \\u043b\\u043e\\u0444\\u0442 \\u0434\\u043b\\u044f \\u043e\\u0442\\u0434\\u044b\\u0445\\u0430 \\u0438 \\u0442\\u0432\\u043e\\u0440\\u0447\\u0435\\u0441\\u043a\\u0438\\u0445 \\u043c\\u0435\\u0440\\u043e\\u043f\\u0440\\u0438\\u044f\\u0442\\u0438\\u0439&quot;], &quot;legend_at_bottom_columns&quot;: null, &quot;xrange&quot;: null, &quot;height&quot;: 600, &quot;y_labels_major_every&quot;: null, &quot;force_uri_protocol&quot;: &quot;https&quot;, &quot;dynamic_print_values&quot;: false, &quot;dots_size&quot;: 2.5, &quot;order_min&quot;: null, &quot;classes&quot;: [&quot;pygal-chart&quot;], &quot;rounded_bars&quot;: null, &quot;pretty_print&quot;: false, &quot;inner_radius&quot;: 0, &quot;explicit_size&quot;: false, &quot;allow_interruptions&quot;: false, &quot;formatter&quot;: null, &quot;x_label_rotation&quot;: 0, &quot;spacing&quot;: 10, &quot;show_minor_x_labels&quot;: true, &quot;print_values_position&quot;: &quot;center&quot;, &quot;legend_at_bottom&quot;: false, &quot;truncate_legend&quot;: null, &quot;show_y_labels&quot;: true, &quot;show_minor_y_labels&quot;: true, &quot;no_prefix&quot;: false, &quot;x_labels_major_count&quot;: null, &quot;x_labels_major&quot;: null, &quot;x_title&quot;: null, &quot;style&quot;: {&quot;label_font_size&quot;: 10, &quot;title_font_size&quot;: 16, &quot;transition&quot;: &quot;150ms&quot;, &quot;legend_font_family&quot;: &quot;Consolas, \\&quot;Liberation Mono\\&quot;, Menlo, Courier, monospace&quot;, &quot;tooltip_font_size&quot;: 14, &quot;colors&quot;: [&quot;#F44336&quot;, &quot;#3F51B5&quot;, &quot;#009688&quot;, &quot;#FFC107&quot;, &quot;#FF5722&quot;, &quot;#9C27B0&quot;, &quot;#03A9F4&quot;, &quot;#8BC34A&quot;, &quot;#FF9800&quot;, &quot;#E91E63&quot;, &quot;#2196F3&quot;, &quot;#4CAF50&quot;, &quot;#FFEB3B&quot;, &quot;#673AB7&quot;, &quot;#00BCD4&quot;, &quot;#CDDC39&quot;, &quot;#9E9E9E&quot;, &quot;#607D8B&quot;], &quot;opacity_hover&quot;: &quot;.8&quot;, &quot;plot_background&quot;: &quot;rgba(255, 255, 255, 1)&quot;, &quot;value_label_font_size&quot;: 10, &quot;value_font_family&quot;: &quot;Consolas, \\&quot;Liberation Mono\\&quot;, Menlo, Courier, monospace&quot;, &quot;label_font_family&quot;: &quot;Consolas, \\&quot;Liberation Mono\\&quot;, Menlo, Courier, monospace&quot;, &quot;value_font_size&quot;: 16, &quot;opacity&quot;: &quot;.7&quot;, &quot;legend_font_size&quot;: 14, &quot;title_font_family&quot;: &quot;Consolas, \\&quot;Liberation Mono\\&quot;, Menlo, Courier, monospace&quot;, &quot;no_data_font_family&quot;: &quot;Consolas, \\&quot;Liberation Mono\\&quot;, Menlo, Courier, monospace&quot;, &quot;stroke_opacity_hover&quot;: &quot;.9&quot;, &quot;tooltip_font_family&quot;: &quot;Consolas, \\&quot;Liberation Mono\\&quot;, Menlo, Courier, monospace&quot;, &quot;value_colors&quot;: [], &quot;background&quot;: &quot;rgba(249, 249, 249, 1)&quot;, &quot;major_label_font_family&quot;: &quot;Consolas, \\&quot;Liberation Mono\\&quot;, Menlo, Courier, monospace&quot;, &quot;foreground_subtle&quot;: &quot;rgba(0, 0, 0, .54)&quot;, &quot;font_family&quot;: &quot;Consolas, \\&quot;Liberation Mono\\&quot;, Menlo, Courier, monospace&quot;, &quot;no_data_font_size&quot;: 64, &quot;stroke_opacity&quot;: &quot;.8&quot;, &quot;value_background&quot;: &quot;rgba(229, 229, 229, 1)&quot;, &quot;ci_colors&quot;: [], &quot;guide_stroke_dasharray&quot;: &quot;4,4&quot;, &quot;major_label_font_size&quot;: 10, &quot;foreground&quot;: &quot;rgba(0, 0, 0, .87)&quot;, &quot;value_label_font_family&quot;: &quot;Consolas, \\&quot;Liberation Mono\\&quot;, Menlo, Courier, monospace&quot;, &quot;foreground_strong&quot;: &quot;rgba(0, 0, 0, 1)&quot;, &quot;major_guide_stroke_dasharray&quot;: &quot;6,6&quot;}, &quot;margin_top&quot;: null, &quot;show_legend&quot;: true, &quot;min_scale&quot;: 4, &quot;margin&quot;: 20, &quot;x_labels&quot;: null, &quot;stack_from_top&quot;: false, &quot;y_labels_major_count&quot;: null}</script><script type=\"text/javascript\" xlink:href=\"https://kozea.github.io/pygal.js/2.0.x/pygal-tooltips.min.js\"/></defs><title>Время ходьбы до лофта от метро</title><g class=\"graph horizontalbar-graph horizontal\"><rect class=\"background\" height=\"600\" width=\"800\" x=\"0\" y=\"0\"/><g class=\"plot\" transform=\"translate(168, 46)\"><rect class=\"background\" height=\"514\" width=\"612.0\" x=\"0\" y=\"0\"/><g class=\"axis x always_show\"><g class=\"guides\"><path class=\"axis major line\" d=\"M11.769231 0.000000 v514.000000\"/><text class=\"major\" x=\"11.769230769230768\" y=\"529.0\">0</text></g><g class=\"guides\"><path class=\"guide line\" d=\"M51.000000 0.000000 v514.000000\"/><text class=\"\" x=\"51.0\" y=\"529.0\">0.2</text></g><g class=\"guides\"><path class=\"guide line\" d=\"M90.230769 0.000000 v514.000000\"/><text class=\"\" x=\"90.23076923076924\" y=\"529.0\">0.4</text></g><g class=\"guides\"><path class=\"guide line\" d=\"M129.461538 0.000000 v514.000000\"/><text class=\"\" x=\"129.46153846153845\" y=\"529.0\">0.6</text></g><g class=\"guides\"><path class=\"guide line\" d=\"M168.692308 0.000000 v514.000000\"/><text class=\"\" x=\"168.6923076923077\" y=\"529.0\">0.8</text></g><g class=\"guides\"><path class=\"major guide line\" d=\"M207.923077 0.000000 v514.000000\"/><text class=\"major\" x=\"207.92307692307693\" y=\"529.0\">1</text></g><g class=\"guides\"><path class=\"guide line\" d=\"M247.153846 0.000000 v514.000000\"/><text class=\"\" x=\"247.15384615384616\" y=\"529.0\">1.2</text></g><g class=\"guides\"><path class=\"guide line\" d=\"M286.384615 0.000000 v514.000000\"/><text class=\"\" x=\"286.38461538461536\" y=\"529.0\">1.4</text></g><g class=\"guides\"><path class=\"guide line\" d=\"M325.615385 0.000000 v514.000000\"/><text class=\"\" x=\"325.61538461538464\" y=\"529.0\">1.6</text></g><g class=\"guides\"><path class=\"guide line\" d=\"M364.846154 0.000000 v514.000000\"/><text class=\"\" x=\"364.84615384615387\" y=\"529.0\">1.8</text></g><g class=\"guides\"><path class=\"major guide line\" d=\"M404.076923 0.000000 v514.000000\"/><text class=\"major\" x=\"404.0769230769231\" y=\"529.0\">2</text></g><g class=\"guides\"><path class=\"guide line\" d=\"M443.307692 0.000000 v514.000000\"/><text class=\"\" x=\"443.3076923076923\" y=\"529.0\">2.2</text></g><g class=\"guides\"><path class=\"guide line\" d=\"M482.538462 0.000000 v514.000000\"/><text class=\"\" x=\"482.5384615384615\" y=\"529.0\">2.4</text></g><g class=\"guides\"><path class=\"guide line\" d=\"M521.769231 0.000000 v514.000000\"/><text class=\"\" x=\"521.7692307692308\" y=\"529.0\">2.6</text></g><g class=\"guides\"><path class=\"guide line\" d=\"M561.000000 0.000000 v514.000000\"/><text class=\"\" x=\"561.0\" y=\"529.0\">2.8</text></g><g class=\"guides\"><path class=\"major guide line\" d=\"M600.230769 0.000000 v514.000000\"/><text class=\"major\" x=\"600.2307692307692\" y=\"529.0\">3</text></g></g><g class=\"series serie-9 color-9\"><g class=\"bars\"><g class=\"bar\"><rect class=\"rect reactive tooltip-trigger\" height=\"38.273230769230764\" rx=\"0\" ry=\"0\" width=\"588.4615384615385\" x=\"11.769230769230717\" y=\"433.57876923076924\"/><desc class=\"value\">3</desc><desc class=\"x centered\">305.99999999999994</desc><desc class=\"y centered\">452.71538461538466</desc></g></g></g><g class=\"series serie-8 color-8\"><g class=\"bars\"><g class=\"bar\"><rect class=\"rect reactive tooltip-trigger\" height=\"38.273230769230764\" rx=\"0\" ry=\"0\" width=\"392.3076923076923\" x=\"11.769230769230774\" y=\"390.08646153846155\"/><desc class=\"value\">2</desc><desc class=\"x centered\">207.92307692307693</desc><desc class=\"y centered\">409.223076923077</desc></g></g></g><g class=\"series serie-7 color-7\"><g class=\"bars\"><g class=\"bar\"><rect class=\"rect reactive tooltip-trigger\" height=\"38.273230769230764\" rx=\"0\" ry=\"0\" width=\"392.3076923076923\" x=\"11.769230769230774\" y=\"346.59415384615386\"/><desc class=\"value\">2</desc><desc class=\"x centered\">207.92307692307693</desc><desc class=\"y centered\">365.7307692307693</desc></g></g></g><g class=\"series serie-6 color-6\"><g class=\"bars\"><g class=\"bar\"><rect class=\"rect reactive tooltip-trigger\" height=\"38.273230769230764\" rx=\"0\" ry=\"0\" width=\"392.3076923076923\" x=\"11.769230769230774\" y=\"303.10184615384617\"/><desc class=\"value\">2</desc><desc class=\"x centered\">207.92307692307693</desc><desc class=\"y centered\">322.2384615384616</desc></g></g></g><g class=\"series serie-5 color-5\"><g class=\"bars\"><g class=\"bar\"><rect class=\"rect reactive tooltip-trigger\" height=\"38.273230769230764\" rx=\"0\" ry=\"0\" width=\"392.3076923076923\" x=\"11.769230769230774\" y=\"259.6095384615385\"/><desc class=\"value\">2</desc><desc class=\"x centered\">207.92307692307693</desc><desc class=\"y centered\">278.7461538461539</desc></g></g></g><g class=\"series serie-4 color-4\"><g class=\"bars\"><g class=\"bar\"><rect class=\"rect reactive tooltip-trigger\" height=\"38.273230769230764\" rx=\"0\" ry=\"0\" width=\"392.3076923076923\" x=\"11.769230769230774\" y=\"216.11723076923084\"/><desc class=\"value\">2</desc><desc class=\"x centered\">207.92307692307693</desc><desc class=\"y centered\">235.2538461538462</desc></g></g></g><g class=\"series serie-3 color-3\"><g class=\"bars\"><g class=\"bar\"><rect class=\"rect reactive tooltip-trigger\" height=\"38.273230769230764\" rx=\"0\" ry=\"0\" width=\"392.3076923076923\" x=\"11.769230769230774\" y=\"172.62492307692315\"/><desc class=\"value\">2</desc><desc class=\"x centered\">207.92307692307693</desc><desc class=\"y centered\">191.76153846153852</desc></g></g></g><g class=\"series serie-2 color-2\"><g class=\"bars\"><g class=\"bar\"><rect class=\"rect reactive tooltip-trigger\" height=\"38.273230769230764\" rx=\"0\" ry=\"0\" width=\"392.3076923076923\" x=\"11.769230769230774\" y=\"129.13261538461546\"/><desc class=\"value\">2</desc><desc class=\"x centered\">207.92307692307693</desc><desc class=\"y centered\">148.26923076923083</desc></g></g></g><g class=\"series serie-1 color-1\"><g class=\"bars\"><g class=\"bar\"><rect class=\"rect reactive tooltip-trigger\" height=\"38.273230769230764\" rx=\"0\" ry=\"0\" width=\"392.3076923076923\" x=\"11.769230769230774\" y=\"85.64030769230776\"/><desc class=\"value\">2</desc><desc class=\"x centered\">207.92307692307693</desc><desc class=\"y centered\">104.77692307692314</desc></g></g></g><g class=\"series serie-0 color-0\"><g class=\"bars\"><g class=\"bar\"><rect class=\"rect reactive tooltip-trigger\" height=\"38.273230769230764\" rx=\"0\" ry=\"0\" width=\"196.15384615384616\" x=\"11.769230769230774\" y=\"42.14800000000007\"/><desc class=\"value\">1</desc><desc class=\"x centered\">109.84615384615385</desc><desc class=\"y centered\">61.28461538461545</desc></g></g></g></g><g class=\"titles\"><text class=\"title plot_title\" x=\"400.0\" y=\"26\">Время ходьбы до лофта от метро</text></g><g class=\"plot overlay\" transform=\"translate(168, 46)\"><g class=\"series serie-9 color-9\"/><g class=\"series serie-8 color-8\"/><g class=\"series serie-7 color-7\"/><g class=\"series serie-6 color-6\"/><g class=\"series serie-5 color-5\"/><g class=\"series serie-4 color-4\"/><g class=\"series serie-3 color-3\"/><g class=\"series serie-2 color-2\"/><g class=\"series serie-1 color-1\"/><g class=\"series serie-0 color-0\"/></g><g class=\"plot text-overlay\" transform=\"translate(168, 46)\"><g class=\"series serie-9 color-9\"/><g class=\"series serie-8 color-8\"/><g class=\"series serie-7 color-7\"/><g class=\"series serie-6 color-6\"/><g class=\"series serie-5 color-5\"/><g class=\"series serie-4 color-4\"/><g class=\"series serie-3 color-3\"/><g class=\"series serie-2 color-2\"/><g class=\"series serie-1 color-1\"/><g class=\"series serie-0 color-0\"/></g><g class=\"plot tooltip-overlay\" transform=\"translate(168, 46)\"><g class=\"tooltip\" style=\"opacity: 0\" transform=\"translate(0 0)\"><rect class=\"tooltip-box\" height=\"0\" rx=\"0\" ry=\"0\" width=\"0\"/><g class=\"text\"/></g></g><g class=\"legends\" transform=\"translate(10, 56)\"><g class=\"legend reactive activate-serie\" id=\"activate-serie-0\"><rect class=\"color-0 reactive\" height=\"12\" width=\"12\" x=\"0.0\" y=\"1.0\"/><text x=\"17.0\" y=\"11.2\">Яркий лофт в и…</text><title>Яркий лофт в индустриальном стиле</title></g><g class=\"legend reactive activate-serie\" id=\"activate-serie-1\"><rect class=\"color-1 reactive\" height=\"12\" width=\"12\" x=\"0.0\" y=\"22.0\"/><text x=\"17.0\" y=\"32.2\">Joys Lounge Bar</text></g><g class=\"legend reactive activate-serie\" id=\"activate-serie-2\"><rect class=\"color-2 reactive\" height=\"12\" width=\"12\" x=\"0.0\" y=\"43.0\"/><text x=\"17.0\" y=\"53.2\">Уютный лофт дл…</text><title>Уютный лофт для семейных торжеств и особых случаев</title></g><g class=\"legend reactive activate-serie\" id=\"activate-serie-3\"><rect class=\"color-3 reactive\" height=\"12\" width=\"12\" x=\"0.0\" y=\"64.0\"/><text x=\"17.0\" y=\"74.2\">Лофт с арками</text></g><g class=\"legend reactive activate-serie\" id=\"activate-serie-4\"><rect class=\"color-4 reactive\" height=\"12\" width=\"12\" x=\"0.0\" y=\"85.0\"/><text x=\"17.0\" y=\"95.2\">IronCage</text></g><g class=\"legend reactive activate-serie\" id=\"activate-serie-5\"><rect class=\"color-5 reactive\" height=\"12\" width=\"12\" x=\"0.0\" y=\"106.0\"/><text x=\"17.0\" y=\"116.2\">Modul V</text></g><g class=\"legend reactive activate-serie\" id=\"activate-serie-6\"><rect class=\"color-6 reactive\" height=\"12\" width=\"12\" x=\"0.0\" y=\"127.0\"/><text x=\"17.0\" y=\"137.2\">IronCage Конфе…</text><title>IronCage Конференц зал</title></g><g class=\"legend reactive activate-serie\" id=\"activate-serie-7\"><rect class=\"color-7 reactive\" height=\"12\" width=\"12\" x=\"0.0\" y=\"148.0\"/><text x=\"17.0\" y=\"158.2\">Уютный лофт на…</text><title>Уютный лофт на Китай-городе</title></g><g class=\"legend reactive activate-serie\" id=\"activate-serie-8\"><rect class=\"color-8 reactive\" height=\"12\" width=\"12\" x=\"0.0\" y=\"169.0\"/><text x=\"17.0\" y=\"179.2\">Лофт для бизне…</text><title>Лофт для бизнес-мероприятий на Шаболовке</title></g><g class=\"legend reactive activate-serie\" id=\"activate-serie-9\"><rect class=\"color-9 reactive\" height=\"12\" width=\"12\" x=\"0.0\" y=\"190.0\"/><text x=\"17.0\" y=\"200.2\">Стильный лофт …</text><title>Стильный лофт для отдыха и творческих мероприятий</title></g></g><g class=\"legends\" transform=\"translate(790, 56)\"/></g></svg>"
      ],
      "text/plain": [
       "<IPython.core.display.SVG object>"
      ]
     },
     "metadata": {},
     "output_type": "display_data"
    }
   ],
   "source": [
    "df_otmetro = dfc[['Name', 'OtMetro']]\n",
    "df_otmetro = df_otmetro[df_otmetro.OtMetro != 0]\n",
    "df_otmetro = df_otmetro.sort_values(by='OtMetro')\n",
    "\n",
    "import pygal\n",
    "line_chart = pygal.HorizontalBar()\n",
    "line_chart.title = 'Время ходьбы до лофта от метро'\n",
    "for i in list(range(MAX)):\n",
    "    line_chart.add(df_otmetro['Name'].values[i], df_otmetro['OtMetro'].values[i])    \n",
    "#line_chart.render()\n",
    "from IPython.display import SVG\n",
    "display(SVG(line_chart.render()))\n",
    "#SVG.show(line_chart.render())"
   ]
  },
  {
   "cell_type": "markdown",
   "metadata": {},
   "source": [
    "### Распределение по вместительности лофтов"
   ]
  },
  {
   "cell_type": "code",
   "execution_count": 240,
   "metadata": {},
   "outputs": [
    {
     "data": {
      "application/vnd.plotly.v1+json": {
       "data": [
        {
         "type": "bar",
         "x": [
          "Большой лофт для масштабных мероприятий",
          "Модуль 340",
          "Мультимедийный зал на Флаконе",
          "Просторный лаунж-лофт",
          "Компактный лофт для оригинальных фотосессий",
          "Атмосферная фотостудия на Шаболовской",
          "Куб",
          "Просторный лофт в два этажа на Чистых прудах",
          "Лофт для бизнес-мероприятий на Шаболовке",
          "Барный лекторий на Трехгорке"
         ],
         "y": [
          800,
          500,
          500,
          400,
          300,
          300,
          300,
          300,
          300,
          250
         ]
        }
       ],
       "layout": {
        "title": "Вместительность"
       }
      },
      "text/html": [
       "<div id=\"7c57bda1-1748-49fa-8870-ed82b555b081\" style=\"height: 525px; width: 100%;\" class=\"plotly-graph-div\"></div><script type=\"text/javascript\">require([\"plotly\"], function(Plotly) { window.PLOTLYENV=window.PLOTLYENV || {};window.PLOTLYENV.BASE_URL=\"https://plot.ly\";Plotly.newPlot(\"7c57bda1-1748-49fa-8870-ed82b555b081\", [{\"y\": [800, 500, 500, 400, 300, 300, 300, 300, 300, 250], \"x\": [\"\\u0411\\u043e\\u043b\\u044c\\u0448\\u043e\\u0439 \\u043b\\u043e\\u0444\\u0442 \\u0434\\u043b\\u044f \\u043c\\u0430\\u0441\\u0448\\u0442\\u0430\\u0431\\u043d\\u044b\\u0445 \\u043c\\u0435\\u0440\\u043e\\u043f\\u0440\\u0438\\u044f\\u0442\\u0438\\u0439\", \"\\u041c\\u043e\\u0434\\u0443\\u043b\\u044c 340\", \"\\u041c\\u0443\\u043b\\u044c\\u0442\\u0438\\u043c\\u0435\\u0434\\u0438\\u0439\\u043d\\u044b\\u0439 \\u0437\\u0430\\u043b \\u043d\\u0430 \\u0424\\u043b\\u0430\\u043a\\u043e\\u043d\\u0435\", \"\\u041f\\u0440\\u043e\\u0441\\u0442\\u043e\\u0440\\u043d\\u044b\\u0439 \\u043b\\u0430\\u0443\\u043d\\u0436-\\u043b\\u043e\\u0444\\u0442\", \"\\u041a\\u043e\\u043c\\u043f\\u0430\\u043a\\u0442\\u043d\\u044b\\u0439 \\u043b\\u043e\\u0444\\u0442 \\u0434\\u043b\\u044f \\u043e\\u0440\\u0438\\u0433\\u0438\\u043d\\u0430\\u043b\\u044c\\u043d\\u044b\\u0445 \\u0444\\u043e\\u0442\\u043e\\u0441\\u0435\\u0441\\u0441\\u0438\\u0439\", \"\\u0410\\u0442\\u043c\\u043e\\u0441\\u0444\\u0435\\u0440\\u043d\\u0430\\u044f \\u0444\\u043e\\u0442\\u043e\\u0441\\u0442\\u0443\\u0434\\u0438\\u044f \\u043d\\u0430 \\u0428\\u0430\\u0431\\u043e\\u043b\\u043e\\u0432\\u0441\\u043a\\u043e\\u0439\", \"\\u041a\\u0443\\u0431\", \"\\u041f\\u0440\\u043e\\u0441\\u0442\\u043e\\u0440\\u043d\\u044b\\u0439 \\u043b\\u043e\\u0444\\u0442 \\u0432 \\u0434\\u0432\\u0430 \\u044d\\u0442\\u0430\\u0436\\u0430 \\u043d\\u0430 \\u0427\\u0438\\u0441\\u0442\\u044b\\u0445 \\u043f\\u0440\\u0443\\u0434\\u0430\\u0445\", \"\\u041b\\u043e\\u0444\\u0442 \\u0434\\u043b\\u044f \\u0431\\u0438\\u0437\\u043d\\u0435\\u0441-\\u043c\\u0435\\u0440\\u043e\\u043f\\u0440\\u0438\\u044f\\u0442\\u0438\\u0439 \\u043d\\u0430 \\u0428\\u0430\\u0431\\u043e\\u043b\\u043e\\u0432\\u043a\\u0435\", \"\\u0411\\u0430\\u0440\\u043d\\u044b\\u0439 \\u043b\\u0435\\u043a\\u0442\\u043e\\u0440\\u0438\\u0439 \\u043d\\u0430 \\u0422\\u0440\\u0435\\u0445\\u0433\\u043e\\u0440\\u043a\\u0435\"], \"type\": \"bar\"}], {\"title\": \"\\u0412\\u043c\\u0435\\u0441\\u0442\\u0438\\u0442\\u0435\\u043b\\u044c\\u043d\\u043e\\u0441\\u0442\\u044c\"}, {\"linkText\": \"Export to plot.ly\", \"showLink\": true})});</script>"
      ],
      "text/vnd.plotly.v1+html": [
       "<div id=\"7c57bda1-1748-49fa-8870-ed82b555b081\" style=\"height: 525px; width: 100%;\" class=\"plotly-graph-div\"></div><script type=\"text/javascript\">require([\"plotly\"], function(Plotly) { window.PLOTLYENV=window.PLOTLYENV || {};window.PLOTLYENV.BASE_URL=\"https://plot.ly\";Plotly.newPlot(\"7c57bda1-1748-49fa-8870-ed82b555b081\", [{\"y\": [800, 500, 500, 400, 300, 300, 300, 300, 300, 250], \"x\": [\"\\u0411\\u043e\\u043b\\u044c\\u0448\\u043e\\u0439 \\u043b\\u043e\\u0444\\u0442 \\u0434\\u043b\\u044f \\u043c\\u0430\\u0441\\u0448\\u0442\\u0430\\u0431\\u043d\\u044b\\u0445 \\u043c\\u0435\\u0440\\u043e\\u043f\\u0440\\u0438\\u044f\\u0442\\u0438\\u0439\", \"\\u041c\\u043e\\u0434\\u0443\\u043b\\u044c 340\", \"\\u041c\\u0443\\u043b\\u044c\\u0442\\u0438\\u043c\\u0435\\u0434\\u0438\\u0439\\u043d\\u044b\\u0439 \\u0437\\u0430\\u043b \\u043d\\u0430 \\u0424\\u043b\\u0430\\u043a\\u043e\\u043d\\u0435\", \"\\u041f\\u0440\\u043e\\u0441\\u0442\\u043e\\u0440\\u043d\\u044b\\u0439 \\u043b\\u0430\\u0443\\u043d\\u0436-\\u043b\\u043e\\u0444\\u0442\", \"\\u041a\\u043e\\u043c\\u043f\\u0430\\u043a\\u0442\\u043d\\u044b\\u0439 \\u043b\\u043e\\u0444\\u0442 \\u0434\\u043b\\u044f \\u043e\\u0440\\u0438\\u0433\\u0438\\u043d\\u0430\\u043b\\u044c\\u043d\\u044b\\u0445 \\u0444\\u043e\\u0442\\u043e\\u0441\\u0435\\u0441\\u0441\\u0438\\u0439\", \"\\u0410\\u0442\\u043c\\u043e\\u0441\\u0444\\u0435\\u0440\\u043d\\u0430\\u044f \\u0444\\u043e\\u0442\\u043e\\u0441\\u0442\\u0443\\u0434\\u0438\\u044f \\u043d\\u0430 \\u0428\\u0430\\u0431\\u043e\\u043b\\u043e\\u0432\\u0441\\u043a\\u043e\\u0439\", \"\\u041a\\u0443\\u0431\", \"\\u041f\\u0440\\u043e\\u0441\\u0442\\u043e\\u0440\\u043d\\u044b\\u0439 \\u043b\\u043e\\u0444\\u0442 \\u0432 \\u0434\\u0432\\u0430 \\u044d\\u0442\\u0430\\u0436\\u0430 \\u043d\\u0430 \\u0427\\u0438\\u0441\\u0442\\u044b\\u0445 \\u043f\\u0440\\u0443\\u0434\\u0430\\u0445\", \"\\u041b\\u043e\\u0444\\u0442 \\u0434\\u043b\\u044f \\u0431\\u0438\\u0437\\u043d\\u0435\\u0441-\\u043c\\u0435\\u0440\\u043e\\u043f\\u0440\\u0438\\u044f\\u0442\\u0438\\u0439 \\u043d\\u0430 \\u0428\\u0430\\u0431\\u043e\\u043b\\u043e\\u0432\\u043a\\u0435\", \"\\u0411\\u0430\\u0440\\u043d\\u044b\\u0439 \\u043b\\u0435\\u043a\\u0442\\u043e\\u0440\\u0438\\u0439 \\u043d\\u0430 \\u0422\\u0440\\u0435\\u0445\\u0433\\u043e\\u0440\\u043a\\u0435\"], \"type\": \"bar\"}], {\"title\": \"\\u0412\\u043c\\u0435\\u0441\\u0442\\u0438\\u0442\\u0435\\u043b\\u044c\\u043d\\u043e\\u0441\\u0442\\u044c\"}, {\"linkText\": \"Export to plot.ly\", \"showLink\": true})});</script>"
      ]
     },
     "metadata": {},
     "output_type": "display_data"
    }
   ],
   "source": [
    "df_vmest = dfc[['Name', 'Vmestimost']]\n",
    "df_vmest = df_vmest[df_vmest.Vmestimost != 0]\n",
    "df_vmest = df_vmest.sort_values(by='Vmestimost', ascending=False)\n",
    "\n",
    "\n",
    "data = go.Bar(x=df_vmest['Name'].values[:MAX], y=df_vmest['Vmestimost'].values[:MAX])\n",
    "layout = {'title': 'Вместительность'}\n",
    "fig = go.Figure(data=[data], layout=layout)\n",
    "iplot(fig)"
   ]
  },
  {
   "cell_type": "markdown",
   "metadata": {},
   "source": [
    "### Распределение по максимальной площади лофта"
   ]
  },
  {
   "cell_type": "code",
   "execution_count": 241,
   "metadata": {},
   "outputs": [
    {
     "data": {
      "application/vnd.plotly.v1+json": {
       "data": [
        {
         "labels": [
          "Большой лофт для масштабных мероприятий",
          "Модуль 340",
          "Мультимедийный зал на Флаконе",
          "Просторный лаунж-лофт",
          "Компактный лофт для оригинальных фотосессий",
          "Атмосферная фотостудия на Шаболовской",
          "Куб",
          "Просторный лофт в два этажа на Чистых прудах",
          "Лофт для бизнес-мероприятий на Шаболовке",
          "Барный лекторий на Трехгорке"
         ],
         "type": "pie",
         "values": [
          10002,
          9902,
          8002,
          7002,
          6002,
          5202,
          3402,
          3002,
          2772,
          2702
         ]
        }
       ],
       "layout": {
        "title": "Востребованность языков программирования среди работодателей"
       }
      },
      "text/html": [
       "<div id=\"7eeb536a-d0a9-4090-80d9-96d23acbcf69\" style=\"height: 525px; width: 100%;\" class=\"plotly-graph-div\"></div><script type=\"text/javascript\">require([\"plotly\"], function(Plotly) { window.PLOTLYENV=window.PLOTLYENV || {};window.PLOTLYENV.BASE_URL=\"https://plot.ly\";Plotly.newPlot(\"7eeb536a-d0a9-4090-80d9-96d23acbcf69\", [{\"values\": [10002, 9902, 8002, 7002, 6002, 5202, 3402, 3002, 2772, 2702], \"labels\": [\"\\u0411\\u043e\\u043b\\u044c\\u0448\\u043e\\u0439 \\u043b\\u043e\\u0444\\u0442 \\u0434\\u043b\\u044f \\u043c\\u0430\\u0441\\u0448\\u0442\\u0430\\u0431\\u043d\\u044b\\u0445 \\u043c\\u0435\\u0440\\u043e\\u043f\\u0440\\u0438\\u044f\\u0442\\u0438\\u0439\", \"\\u041c\\u043e\\u0434\\u0443\\u043b\\u044c 340\", \"\\u041c\\u0443\\u043b\\u044c\\u0442\\u0438\\u043c\\u0435\\u0434\\u0438\\u0439\\u043d\\u044b\\u0439 \\u0437\\u0430\\u043b \\u043d\\u0430 \\u0424\\u043b\\u0430\\u043a\\u043e\\u043d\\u0435\", \"\\u041f\\u0440\\u043e\\u0441\\u0442\\u043e\\u0440\\u043d\\u044b\\u0439 \\u043b\\u0430\\u0443\\u043d\\u0436-\\u043b\\u043e\\u0444\\u0442\", \"\\u041a\\u043e\\u043c\\u043f\\u0430\\u043a\\u0442\\u043d\\u044b\\u0439 \\u043b\\u043e\\u0444\\u0442 \\u0434\\u043b\\u044f \\u043e\\u0440\\u0438\\u0433\\u0438\\u043d\\u0430\\u043b\\u044c\\u043d\\u044b\\u0445 \\u0444\\u043e\\u0442\\u043e\\u0441\\u0435\\u0441\\u0441\\u0438\\u0439\", \"\\u0410\\u0442\\u043c\\u043e\\u0441\\u0444\\u0435\\u0440\\u043d\\u0430\\u044f \\u0444\\u043e\\u0442\\u043e\\u0441\\u0442\\u0443\\u0434\\u0438\\u044f \\u043d\\u0430 \\u0428\\u0430\\u0431\\u043e\\u043b\\u043e\\u0432\\u0441\\u043a\\u043e\\u0439\", \"\\u041a\\u0443\\u0431\", \"\\u041f\\u0440\\u043e\\u0441\\u0442\\u043e\\u0440\\u043d\\u044b\\u0439 \\u043b\\u043e\\u0444\\u0442 \\u0432 \\u0434\\u0432\\u0430 \\u044d\\u0442\\u0430\\u0436\\u0430 \\u043d\\u0430 \\u0427\\u0438\\u0441\\u0442\\u044b\\u0445 \\u043f\\u0440\\u0443\\u0434\\u0430\\u0445\", \"\\u041b\\u043e\\u0444\\u0442 \\u0434\\u043b\\u044f \\u0431\\u0438\\u0437\\u043d\\u0435\\u0441-\\u043c\\u0435\\u0440\\u043e\\u043f\\u0440\\u0438\\u044f\\u0442\\u0438\\u0439 \\u043d\\u0430 \\u0428\\u0430\\u0431\\u043e\\u043b\\u043e\\u0432\\u043a\\u0435\", \"\\u0411\\u0430\\u0440\\u043d\\u044b\\u0439 \\u043b\\u0435\\u043a\\u0442\\u043e\\u0440\\u0438\\u0439 \\u043d\\u0430 \\u0422\\u0440\\u0435\\u0445\\u0433\\u043e\\u0440\\u043a\\u0435\"], \"type\": \"pie\"}], {\"title\": \"\\u0412\\u043e\\u0441\\u0442\\u0440\\u0435\\u0431\\u043e\\u0432\\u0430\\u043d\\u043d\\u043e\\u0441\\u0442\\u044c \\u044f\\u0437\\u044b\\u043a\\u043e\\u0432 \\u043f\\u0440\\u043e\\u0433\\u0440\\u0430\\u043c\\u043c\\u0438\\u0440\\u043e\\u0432\\u0430\\u043d\\u0438\\u044f \\u0441\\u0440\\u0435\\u0434\\u0438 \\u0440\\u0430\\u0431\\u043e\\u0442\\u043e\\u0434\\u0430\\u0442\\u0435\\u043b\\u0435\\u0439\"}, {\"linkText\": \"Export to plot.ly\", \"showLink\": true})});</script>"
      ],
      "text/vnd.plotly.v1+html": [
       "<div id=\"7eeb536a-d0a9-4090-80d9-96d23acbcf69\" style=\"height: 525px; width: 100%;\" class=\"plotly-graph-div\"></div><script type=\"text/javascript\">require([\"plotly\"], function(Plotly) { window.PLOTLYENV=window.PLOTLYENV || {};window.PLOTLYENV.BASE_URL=\"https://plot.ly\";Plotly.newPlot(\"7eeb536a-d0a9-4090-80d9-96d23acbcf69\", [{\"values\": [10002, 9902, 8002, 7002, 6002, 5202, 3402, 3002, 2772, 2702], \"labels\": [\"\\u0411\\u043e\\u043b\\u044c\\u0448\\u043e\\u0439 \\u043b\\u043e\\u0444\\u0442 \\u0434\\u043b\\u044f \\u043c\\u0430\\u0441\\u0448\\u0442\\u0430\\u0431\\u043d\\u044b\\u0445 \\u043c\\u0435\\u0440\\u043e\\u043f\\u0440\\u0438\\u044f\\u0442\\u0438\\u0439\", \"\\u041c\\u043e\\u0434\\u0443\\u043b\\u044c 340\", \"\\u041c\\u0443\\u043b\\u044c\\u0442\\u0438\\u043c\\u0435\\u0434\\u0438\\u0439\\u043d\\u044b\\u0439 \\u0437\\u0430\\u043b \\u043d\\u0430 \\u0424\\u043b\\u0430\\u043a\\u043e\\u043d\\u0435\", \"\\u041f\\u0440\\u043e\\u0441\\u0442\\u043e\\u0440\\u043d\\u044b\\u0439 \\u043b\\u0430\\u0443\\u043d\\u0436-\\u043b\\u043e\\u0444\\u0442\", \"\\u041a\\u043e\\u043c\\u043f\\u0430\\u043a\\u0442\\u043d\\u044b\\u0439 \\u043b\\u043e\\u0444\\u0442 \\u0434\\u043b\\u044f \\u043e\\u0440\\u0438\\u0433\\u0438\\u043d\\u0430\\u043b\\u044c\\u043d\\u044b\\u0445 \\u0444\\u043e\\u0442\\u043e\\u0441\\u0435\\u0441\\u0441\\u0438\\u0439\", \"\\u0410\\u0442\\u043c\\u043e\\u0441\\u0444\\u0435\\u0440\\u043d\\u0430\\u044f \\u0444\\u043e\\u0442\\u043e\\u0441\\u0442\\u0443\\u0434\\u0438\\u044f \\u043d\\u0430 \\u0428\\u0430\\u0431\\u043e\\u043b\\u043e\\u0432\\u0441\\u043a\\u043e\\u0439\", \"\\u041a\\u0443\\u0431\", \"\\u041f\\u0440\\u043e\\u0441\\u0442\\u043e\\u0440\\u043d\\u044b\\u0439 \\u043b\\u043e\\u0444\\u0442 \\u0432 \\u0434\\u0432\\u0430 \\u044d\\u0442\\u0430\\u0436\\u0430 \\u043d\\u0430 \\u0427\\u0438\\u0441\\u0442\\u044b\\u0445 \\u043f\\u0440\\u0443\\u0434\\u0430\\u0445\", \"\\u041b\\u043e\\u0444\\u0442 \\u0434\\u043b\\u044f \\u0431\\u0438\\u0437\\u043d\\u0435\\u0441-\\u043c\\u0435\\u0440\\u043e\\u043f\\u0440\\u0438\\u044f\\u0442\\u0438\\u0439 \\u043d\\u0430 \\u0428\\u0430\\u0431\\u043e\\u043b\\u043e\\u0432\\u043a\\u0435\", \"\\u0411\\u0430\\u0440\\u043d\\u044b\\u0439 \\u043b\\u0435\\u043a\\u0442\\u043e\\u0440\\u0438\\u0439 \\u043d\\u0430 \\u0422\\u0440\\u0435\\u0445\\u0433\\u043e\\u0440\\u043a\\u0435\"], \"type\": \"pie\"}], {\"title\": \"\\u0412\\u043e\\u0441\\u0442\\u0440\\u0435\\u0431\\u043e\\u0432\\u0430\\u043d\\u043d\\u043e\\u0441\\u0442\\u044c \\u044f\\u0437\\u044b\\u043a\\u043e\\u0432 \\u043f\\u0440\\u043e\\u0433\\u0440\\u0430\\u043c\\u043c\\u0438\\u0440\\u043e\\u0432\\u0430\\u043d\\u0438\\u044f \\u0441\\u0440\\u0435\\u0434\\u0438 \\u0440\\u0430\\u0431\\u043e\\u0442\\u043e\\u0434\\u0430\\u0442\\u0435\\u043b\\u0435\\u0439\"}, {\"linkText\": \"Export to plot.ly\", \"showLink\": true})});</script>"
      ]
     },
     "metadata": {},
     "output_type": "display_data"
    }
   ],
   "source": [
    "df_area = dfc[['Name', 'Area']]\n",
    "df_area = df_area[df_area.Area != 0]\n",
    "df_area = df_area.sort_values(by='Area', ascending=False)\n",
    "\n",
    "\n",
    "data = go.Pie(labels=df_vmest['Name'].values[:MAX], values=df_area['Area'].values[:MAX])\n",
    "layout = {'title': 'Распределение по площади'}\n",
    "fig = go.Figure(data=[data], layout=layout)\n",
    "iplot(fig)"
   ]
  },
  {
   "cell_type": "markdown",
   "metadata": {},
   "source": [
    "### Количество мест для сидения в лофте"
   ]
  },
  {
   "cell_type": "code",
   "execution_count": 242,
   "metadata": {},
   "outputs": [
    {
     "data": {
      "application/vnd.plotly.v1+json": {
       "data": [
        {
         "labels": [
          "Большой лофт для масштабных мероприятий",
          "Модуль 340",
          "Мультимедийный зал на Флаконе",
          "Просторный лаунж-лофт",
          "Компактный лофт для оригинальных фотосессий",
          "Атмосферная фотостудия на Шаболовской",
          "Куб",
          "Просторный лофт в два этажа на Чистых прудах",
          "Лофт для бизнес-мероприятий на Шаболовке",
          "Барный лекторий на Трехгорке"
         ],
         "type": "pie",
         "values": [
          700,
          350,
          300,
          300,
          220,
          200,
          200,
          180,
          170,
          150
         ]
        }
       ],
       "layout": {
        "title": "Востребованность языков программирования среди работодателей"
       }
      },
      "text/html": [
       "<div id=\"0b172c44-8ebf-443f-ac3e-71623153eeb1\" style=\"height: 525px; width: 100%;\" class=\"plotly-graph-div\"></div><script type=\"text/javascript\">require([\"plotly\"], function(Plotly) { window.PLOTLYENV=window.PLOTLYENV || {};window.PLOTLYENV.BASE_URL=\"https://plot.ly\";Plotly.newPlot(\"0b172c44-8ebf-443f-ac3e-71623153eeb1\", [{\"values\": [700, 350, 300, 300, 220, 200, 200, 180, 170, 150], \"labels\": [\"\\u0411\\u043e\\u043b\\u044c\\u0448\\u043e\\u0439 \\u043b\\u043e\\u0444\\u0442 \\u0434\\u043b\\u044f \\u043c\\u0430\\u0441\\u0448\\u0442\\u0430\\u0431\\u043d\\u044b\\u0445 \\u043c\\u0435\\u0440\\u043e\\u043f\\u0440\\u0438\\u044f\\u0442\\u0438\\u0439\", \"\\u041c\\u043e\\u0434\\u0443\\u043b\\u044c 340\", \"\\u041c\\u0443\\u043b\\u044c\\u0442\\u0438\\u043c\\u0435\\u0434\\u0438\\u0439\\u043d\\u044b\\u0439 \\u0437\\u0430\\u043b \\u043d\\u0430 \\u0424\\u043b\\u0430\\u043a\\u043e\\u043d\\u0435\", \"\\u041f\\u0440\\u043e\\u0441\\u0442\\u043e\\u0440\\u043d\\u044b\\u0439 \\u043b\\u0430\\u0443\\u043d\\u0436-\\u043b\\u043e\\u0444\\u0442\", \"\\u041a\\u043e\\u043c\\u043f\\u0430\\u043a\\u0442\\u043d\\u044b\\u0439 \\u043b\\u043e\\u0444\\u0442 \\u0434\\u043b\\u044f \\u043e\\u0440\\u0438\\u0433\\u0438\\u043d\\u0430\\u043b\\u044c\\u043d\\u044b\\u0445 \\u0444\\u043e\\u0442\\u043e\\u0441\\u0435\\u0441\\u0441\\u0438\\u0439\", \"\\u0410\\u0442\\u043c\\u043e\\u0441\\u0444\\u0435\\u0440\\u043d\\u0430\\u044f \\u0444\\u043e\\u0442\\u043e\\u0441\\u0442\\u0443\\u0434\\u0438\\u044f \\u043d\\u0430 \\u0428\\u0430\\u0431\\u043e\\u043b\\u043e\\u0432\\u0441\\u043a\\u043e\\u0439\", \"\\u041a\\u0443\\u0431\", \"\\u041f\\u0440\\u043e\\u0441\\u0442\\u043e\\u0440\\u043d\\u044b\\u0439 \\u043b\\u043e\\u0444\\u0442 \\u0432 \\u0434\\u0432\\u0430 \\u044d\\u0442\\u0430\\u0436\\u0430 \\u043d\\u0430 \\u0427\\u0438\\u0441\\u0442\\u044b\\u0445 \\u043f\\u0440\\u0443\\u0434\\u0430\\u0445\", \"\\u041b\\u043e\\u0444\\u0442 \\u0434\\u043b\\u044f \\u0431\\u0438\\u0437\\u043d\\u0435\\u0441-\\u043c\\u0435\\u0440\\u043e\\u043f\\u0440\\u0438\\u044f\\u0442\\u0438\\u0439 \\u043d\\u0430 \\u0428\\u0430\\u0431\\u043e\\u043b\\u043e\\u0432\\u043a\\u0435\", \"\\u0411\\u0430\\u0440\\u043d\\u044b\\u0439 \\u043b\\u0435\\u043a\\u0442\\u043e\\u0440\\u0438\\u0439 \\u043d\\u0430 \\u0422\\u0440\\u0435\\u0445\\u0433\\u043e\\u0440\\u043a\\u0435\"], \"type\": \"pie\"}], {\"title\": \"\\u0412\\u043e\\u0441\\u0442\\u0440\\u0435\\u0431\\u043e\\u0432\\u0430\\u043d\\u043d\\u043e\\u0441\\u0442\\u044c \\u044f\\u0437\\u044b\\u043a\\u043e\\u0432 \\u043f\\u0440\\u043e\\u0433\\u0440\\u0430\\u043c\\u043c\\u0438\\u0440\\u043e\\u0432\\u0430\\u043d\\u0438\\u044f \\u0441\\u0440\\u0435\\u0434\\u0438 \\u0440\\u0430\\u0431\\u043e\\u0442\\u043e\\u0434\\u0430\\u0442\\u0435\\u043b\\u0435\\u0439\"}, {\"linkText\": \"Export to plot.ly\", \"showLink\": true})});</script>"
      ],
      "text/vnd.plotly.v1+html": [
       "<div id=\"0b172c44-8ebf-443f-ac3e-71623153eeb1\" style=\"height: 525px; width: 100%;\" class=\"plotly-graph-div\"></div><script type=\"text/javascript\">require([\"plotly\"], function(Plotly) { window.PLOTLYENV=window.PLOTLYENV || {};window.PLOTLYENV.BASE_URL=\"https://plot.ly\";Plotly.newPlot(\"0b172c44-8ebf-443f-ac3e-71623153eeb1\", [{\"values\": [700, 350, 300, 300, 220, 200, 200, 180, 170, 150], \"labels\": [\"\\u0411\\u043e\\u043b\\u044c\\u0448\\u043e\\u0439 \\u043b\\u043e\\u0444\\u0442 \\u0434\\u043b\\u044f \\u043c\\u0430\\u0441\\u0448\\u0442\\u0430\\u0431\\u043d\\u044b\\u0445 \\u043c\\u0435\\u0440\\u043e\\u043f\\u0440\\u0438\\u044f\\u0442\\u0438\\u0439\", \"\\u041c\\u043e\\u0434\\u0443\\u043b\\u044c 340\", \"\\u041c\\u0443\\u043b\\u044c\\u0442\\u0438\\u043c\\u0435\\u0434\\u0438\\u0439\\u043d\\u044b\\u0439 \\u0437\\u0430\\u043b \\u043d\\u0430 \\u0424\\u043b\\u0430\\u043a\\u043e\\u043d\\u0435\", \"\\u041f\\u0440\\u043e\\u0441\\u0442\\u043e\\u0440\\u043d\\u044b\\u0439 \\u043b\\u0430\\u0443\\u043d\\u0436-\\u043b\\u043e\\u0444\\u0442\", \"\\u041a\\u043e\\u043c\\u043f\\u0430\\u043a\\u0442\\u043d\\u044b\\u0439 \\u043b\\u043e\\u0444\\u0442 \\u0434\\u043b\\u044f \\u043e\\u0440\\u0438\\u0433\\u0438\\u043d\\u0430\\u043b\\u044c\\u043d\\u044b\\u0445 \\u0444\\u043e\\u0442\\u043e\\u0441\\u0435\\u0441\\u0441\\u0438\\u0439\", \"\\u0410\\u0442\\u043c\\u043e\\u0441\\u0444\\u0435\\u0440\\u043d\\u0430\\u044f \\u0444\\u043e\\u0442\\u043e\\u0441\\u0442\\u0443\\u0434\\u0438\\u044f \\u043d\\u0430 \\u0428\\u0430\\u0431\\u043e\\u043b\\u043e\\u0432\\u0441\\u043a\\u043e\\u0439\", \"\\u041a\\u0443\\u0431\", \"\\u041f\\u0440\\u043e\\u0441\\u0442\\u043e\\u0440\\u043d\\u044b\\u0439 \\u043b\\u043e\\u0444\\u0442 \\u0432 \\u0434\\u0432\\u0430 \\u044d\\u0442\\u0430\\u0436\\u0430 \\u043d\\u0430 \\u0427\\u0438\\u0441\\u0442\\u044b\\u0445 \\u043f\\u0440\\u0443\\u0434\\u0430\\u0445\", \"\\u041b\\u043e\\u0444\\u0442 \\u0434\\u043b\\u044f \\u0431\\u0438\\u0437\\u043d\\u0435\\u0441-\\u043c\\u0435\\u0440\\u043e\\u043f\\u0440\\u0438\\u044f\\u0442\\u0438\\u0439 \\u043d\\u0430 \\u0428\\u0430\\u0431\\u043e\\u043b\\u043e\\u0432\\u043a\\u0435\", \"\\u0411\\u0430\\u0440\\u043d\\u044b\\u0439 \\u043b\\u0435\\u043a\\u0442\\u043e\\u0440\\u0438\\u0439 \\u043d\\u0430 \\u0422\\u0440\\u0435\\u0445\\u0433\\u043e\\u0440\\u043a\\u0435\"], \"type\": \"pie\"}], {\"title\": \"\\u0412\\u043e\\u0441\\u0442\\u0440\\u0435\\u0431\\u043e\\u0432\\u0430\\u043d\\u043d\\u043e\\u0441\\u0442\\u044c \\u044f\\u0437\\u044b\\u043a\\u043e\\u0432 \\u043f\\u0440\\u043e\\u0433\\u0440\\u0430\\u043c\\u043c\\u0438\\u0440\\u043e\\u0432\\u0430\\u043d\\u0438\\u044f \\u0441\\u0440\\u0435\\u0434\\u0438 \\u0440\\u0430\\u0431\\u043e\\u0442\\u043e\\u0434\\u0430\\u0442\\u0435\\u043b\\u0435\\u0439\"}, {\"linkText\": \"Export to plot.ly\", \"showLink\": true})});</script>"
      ]
     },
     "metadata": {},
     "output_type": "display_data"
    }
   ],
   "source": [
    "df_foot = dfc[['Name', 'Footprint']]\n",
    "df_foot = df_foot[df_foot.Footprint != 0]\n",
    "df_foot = df_foot.sort_values(by='Footprint', ascending=False)\n",
    "\n",
    "\n",
    "data = go.Pie(labels=df_vmest['Name'].values[:MAX], values=df_foot['Footprint'].values[:MAX])\n",
    "layout = {'title': 'Востребованность языков программирования среди работодателей'}\n",
    "fig = go.Figure(data=[data], layout=layout)\n",
    "iplot(fig)"
   ]
  },
  {
   "cell_type": "markdown",
   "metadata": {},
   "source": [
    "### Выбор оптимального лофта"
   ]
  },
  {
   "cell_type": "code",
   "execution_count": 266,
   "metadata": {},
   "outputs": [],
   "source": [
    "d = dict()\n",
    "for name in dfl['Name']:\n",
    "    d[name] = 0\n",
    "\n",
    "names = df_price['Name'].tolist()\n",
    "names.reverse()\n",
    "i = 0\n",
    "for name in names:\n",
    "    d[name] = d[name] + 0.1\n",
    "\n",
    "names = df_otmetro['Name'].tolist()\n",
    "names.reverse()\n",
    "i = 0\n",
    "for name in names:\n",
    "    d[name] = d[name] + 1\n",
    "\n",
    "    \n",
    "names = df_vmest['Name'].tolist()\n",
    "names.reverse()\n",
    "i = 0\n",
    "for name in names:\n",
    "    d[name] = d[name] + 3\n",
    "\n",
    "    \n",
    "names = df_area['Name'].tolist()\n",
    "names.reverse()\n",
    "i = 0\n",
    "for name in names:\n",
    "    d[name] = d[name] + 3\n",
    "\n",
    "names = df_foot['Name'].tolist()\n",
    "names.reverse()\n",
    "i = 0\n",
    "for name in names:\n",
    "    d[name] = d[name] + 0.5"
   ]
  },
  {
   "cell_type": "code",
   "execution_count": 267,
   "metadata": {},
   "outputs": [
    {
     "name": "stdout",
     "output_type": "stream",
     "text": [
      "7.6\n",
      "Уютное пространство для детских мероприятий\n"
     ]
    }
   ],
   "source": [
    "max_mark = max(d.values())\n",
    "print(max_mark)\n",
    "for k in d.keys():\n",
    "    if d[k] == max_mark:\n",
    "        lider = k\n",
    "print(lider)"
   ]
  },
  {
   "cell_type": "code",
   "execution_count": 268,
   "metadata": {},
   "outputs": [
    {
     "name": "stdout",
     "output_type": "stream",
     "text": [
      "28\n"
     ]
    }
   ],
   "source": [
    "lider_index = dfl['Name'].tolist().index(lider)\n",
    "print(lider_index)"
   ]
  },
  {
   "cell_type": "code",
   "execution_count": 269,
   "metadata": {},
   "outputs": [
    {
     "data": {
      "text/html": [
       "<div>\n",
       "<table border=\"1\" class=\"dataframe\">\n",
       "  <thead>\n",
       "    <tr style=\"text-align: right;\">\n",
       "      <th></th>\n",
       "      <th>Price</th>\n",
       "      <th>Metro</th>\n",
       "      <th>Name</th>\n",
       "      <th>Vmestimost</th>\n",
       "      <th>Area</th>\n",
       "      <th>Footprint</th>\n",
       "      <th>OtMetro</th>\n",
       "    </tr>\n",
       "  </thead>\n",
       "  <tbody>\n",
       "    <tr>\n",
       "      <th>28</th>\n",
       "      <td>2000</td>\n",
       "      <td>Академическая</td>\n",
       "      <td>Уютное пространство для детских мероприятий</td>\n",
       "      <td>30</td>\n",
       "      <td>502</td>\n",
       "      <td>30</td>\n",
       "      <td>15</td>\n",
       "    </tr>\n",
       "  </tbody>\n",
       "</table>\n",
       "</div>"
      ],
      "text/plain": [
       "   Price          Metro                                         Name  \\\n",
       "28  2000  Академическая  Уютное пространство для детских мероприятий   \n",
       "\n",
       "   Vmestimost Area Footprint OtMetro  \n",
       "28         30  502        30      15  "
      ]
     },
     "execution_count": 269,
     "metadata": {},
     "output_type": "execute_result"
    }
   ],
   "source": [
    "dd = dfl.loc[dfl['Name'].str.find(k) != -1]\n",
    "dd.head()"
   ]
  },
  {
   "cell_type": "code",
   "execution_count": 261,
   "metadata": {},
   "outputs": [
    {
     "name": "stdout",
     "output_type": "stream",
     "text": [
      "{'Лофт для тренингов и стратегических сессий': 310.5, 'Лофт Broadway': 320.0, 'АРТ-пространство для веселых праздников и креативных мероприятий': 575.5, 'Уютная студия на Первомайской': 242.0, 'Mira Deluxe': 585.0, 'Двухуровневый лофт с баром': 415.5, 'Уютный лофт на Электрозаводе': 470.5, 'Большой лофт для масштабных мероприятий': 665.5, 'Студия-мастерская': 124.0, 'Лофт Air': 175.5, 'Лофт с летним настроением': 316.0, 'Лофт для работы и мероприятий в историческом центре Москвы': 603.5, 'Яркий лофт для детских праздников и дружеских встреч': 413.0, 'Стильный лофт в светлых тонах': 623.5, 'Joys Lounge Bar': 453.0, 'Лофт в старинном здании у парка Сокольники': 487.0, 'Зал «Лекториум» в харизматичном гриль-пабе': 331.5, 'Белый зал': 269.5, 'Лофт для лучших событий': 417.5, 'Аквазона&Циклорама': 325.0, 'Уютное лофт-пространство на Бауманской': 559.5, 'Модный лофт с баром на Чистых Прудах': 559.5, 'Просторный пентхаус для деловых встреч и отдыха': 511.5, 'Площадка на открытом воздухе с бассейном': 50.5, 'Атмосферная фотостудия на Шаболовской': 321.0, 'Бар для вечеринок на 1905 года': 160.5, 'Стильный лофт для отдыха и творческих мероприятий': 512.0, 'Спортивная студия Booster Workout': 537.5, 'Компактный лофт для оригинальных фотосессий': 326.5, 'Просторный белый зал со сценой и большим экраном': 583.5, 'Светлая студия на Электрозаводской': 97.0, 'Фотостудия White': 548.0, 'Площадка для любых мероприятий': 150.0, 'Лофт с кухней и камином для любого мероприятия': 360.5, 'Куб': 618.5, 'Мультимедийный зал на Флаконе': 738.0, 'Чёрно-белый лофт с элементами стимпанка': 200.5, 'Танцевальный зал на Шаболовке': 322.5, 'Белый двухуровневый лофт': 505.5, 'Уютное пространство на Варшавке': 391.0, 'Уютный лофт на Китай-городе': 350.5, 'Творческое пространство в Трёхпрудном переулке': 551.5, 'Стильный лофт с верандой': 488.5, 'contrabanda': 413.5, 'Тёмный лофт в старинном здании у парка Сокольники': 231.0, 'Лофт с колоннами и декоративным камином': 432.5, 'Сказочный лофт для детских праздников': 519.0, 'Стильный лофт для проведения мероприятий': 678.5, 'Зал на Проспекте Мира': 280.5, 'Лофт в скандинавском стиле': 54.5, 'Сказочно-воздушный лофт': 524.5, 'Просторный зал для конференций': 498.5, 'Атмосферная мансарда на Павелецкой': 534.5, 'Уютный двухэтажный лофт на Достоевской': 450.0, 'Клякса': 312.0, 'IronCage': 755.0, 'wake4you': 639.5, '2-этажный лофт в стиле фьюжн': 499.5, 'Многофункциональное пространство для мероприятий': 0, 'Лофт с панорамными окнами': 441.0, 'Party cafe на Локомотиве': 288.5, 'Многоуровневый лофт в башне Измайловского кремля': 612.5, 'Лофт для особых событий': 264.5, 'Лофт в Гараже Госплана': 342.5, 'Лофт на Трехгорной Мануфактуре': 541.5, 'Просторный лофт с верандой и барбекю': 545.0, 'Loft-студия для мастер-классов и фотосьемок': 497.5, 'Элегантный светлый лофт': 326.0, 'Светлое пространство для творческих мероприятий': 293.0, 'Двухэтажный лофт на Комсомольской': 574.5, 'Универсальный лофт с дизайнерским интерьером': 582.5, 'Двухуровневый лофт для разных мероприятий': 352.5, 'Дизайнерский лофт для презентаций': 615.5, 'Атмосферный лофт в старинных стенах': 314.0, 'Стильное пространство на Проспекте Мира': 504.0, 'Книжное пространство': 371.0, 'Лофт Fantasy': 330.0, 'Лофт на территории старинной усадьбы': 659.5, 'Студия для всех типов мероприятий': 523.5, 'Апартаменты на Кузнецком мосту': 455.5, 'Модуль 340': 707.0, 'Лофт с панорамными окнами для всех форматов мероприятий': 533.0, 'Мира 80': 399.5, 'Атмосферный лофт-бар для теплых встреч': 196.5, 'Лофт-площадка для небольших компаний': 286.5, 'Лофт для event-мероприятий на Алексеевской': 599.5, 'Площадка для мероприятий недалеко от центра': 123.5, 'Лофт с верандой для большой компании': 131.5, 'Art Loft': 433.5, 'Лофт с арками': 271.0, 'Просторный двухуровневый лофт \"Star Hall\"': 376.0, 'Белый лофт с панорамными окнами': 438.0, 'Галерея современного искусства для ваших мероприятий': 254.5, 'Лофт-площадка для вечеринок': 403.0, 'Лофт с акварельными стенами': 649.5, 'Лофт komoД с оригинальным авторским дизайном': 359.5, 'Лофт для мероприятий на Яузе': 361.0, 'Дизайнерский Лофт': 288.5, 'Светлый лофт в старинном здании у парка Сокольники': 267.0, 'Светлый лофт для творческих встреч': 460.0, 'Дизайнерский лофт для проведения мероприятий': 605.5, 'Лофт для бизнес-мероприятий на Шаболовке': 725.5, 'Барный лекторий на Трехгорке': 566.0, 'Просторный лаунж-лофт': 665.0, 'Стильный лофт в английской резиденции': 472.0, 'Стильный лофт на Баррикадной': 226.0, 'Компактное пространство на «Проспекте Мира»': 212.5, 'IronCage Конференц зал': 505.5, 'Светлая универсальная площадка': 350.0, 'Аутентичный зал для всех форматов мероприятий': 27.5, 'Вместительный белый зал': 650.0, 'Нежный лофт в пастельных тонах': 159.0, 'Лофт в стиле Домика у моря': 259.5, 'Лофтовое пространство с выходом на улицу': 72.5, 'Уютный лофт для творческих мероприятий и праздников': 298.5, 'Расслабляющий бар Hameleon Lounge': 318.5, 'Зал в тёмных тонах': 183.0, 'Лофт': 259.0, 'Яркий лофт в индустриальном стиле': 505.0, 'Просторный лофт в два этажа на Чистых прудах': 710.0, 'Модуль 130': 563.0, 'Двухэтажный лофт с авторским дизайном': 516.0, 'Атмосферный винный лофт': 350.5, 'Концертный зал в харизматичном гриль-пабе': 394.0, 'Светлый пастельный лофт на мансардном этаже': 432.0, 'Modul V': 632.0, 'Мансардный лофт с баром на Столешниковом переулке': 605.5, 'Лофт для детских праздников': 425.0, 'Зал для мероприятий и тренингов на Проспекте Мира': 233.5, 'Модный лофт на Красных Воротах': 114.0, 'Добрый лофт': 443.0, 'Двухэтажное loft-пространство': 541.0, 'Модный лофт с террасой для барбекю/кальяна': 176.0, 'Контрастная студия с панорамными окнами': 201.0, 'Стильный светлый лофт в двух уровнях': 397.5, 'Лофт-студия с подиумом и камином на Электрозаводской': 508.5, 'Уютный лофт для семейных торжеств и особых случаев': 324.0, 'Лофт с террасой для больших шумных компаний': 605.0, 'Дизайнерский лофт в центре Москвы': 675.5, 'Уютный зал для тренингов': 338.0, 'Универсальный лофт на Дубровке': 575.5, 'Уютное пространство для детских мероприятий': 144.5}\n"
     ]
    }
   ],
   "source": [
    "print(d)"
   ]
  },
  {
   "cell_type": "code",
   "execution_count": 270,
   "metadata": {},
   "outputs": [
    {
     "data": {
      "text/plain": [
       "<function dict.values>"
      ]
     },
     "execution_count": 270,
     "metadata": {},
     "output_type": "execute_result"
    }
   ],
   "source": [
    "d.values"
   ]
  },
  {
   "cell_type": "code",
   "execution_count": 271,
   "metadata": {},
   "outputs": [
    {
     "name": "stdout",
     "output_type": "stream",
     "text": [
      "dict_values([7.6, 7.6, 7.6, 7.6, 7.6, 7.6, 7.6, 7.6, 7.6, 7.6, 7.6, 7.6, 7.6, 7.6, 7.6, 7.6, 7.6, 7.6, 7.6, 7.6, 7.6, 7.6, 7.6, 7.1, 7.1, 7.6, 7.6, 7.6, 7.1, 7.6, 7.1, 7.6, 7.6, 7.6, 7.6, 7.6, 7.6, 7.6, 7.6, 7.6, 7.6, 7.6, 7.6, 7.6, 7.6, 7.6, 7.6, 7.6, 7.6, 7.1, 7.6, 7.6, 7.6, 7.6, 7.6, 7.6, 7.6, 7.6, 0, 7.6, 7.6, 7.6, 7.6, 7.6, 7.6, 7.6, 7.6, 7.6, 7.6, 7.6, 7.6, 7.6, 7.6, 7.6, 7.6, 7.6, 7.6, 7.6, 7.6, 7.6, 7.6, 7.6, 7.6, 7.6, 7.6, 7.6, 7.1, 7.6, 7.6, 7.6, 7.1, 7.6, 7.6, 7.6, 7.6, 7.6, 7.6, 7.6, 7.6, 7.6, 7.6, 7.6, 7.6, 7.6, 7.6, 7.6, 7.6, 7.6, 7.6, 4.1, 7.6, 7.6, 7.6, 4.1, 7.6, 7.6, 7.6, 7.6, 7.6, 7.6, 7.6, 7.6, 7.6, 7.6, 7.6, 7.6, 7.6, 7.6, 7.6, 7.6, 7.6, 7.6, 7.6, 7.6, 7.6, 7.6, 7.6, 7.6, 7.6, 7.6, 7.6, 7.6])\n"
     ]
    }
   ],
   "source": [
    "print(d.values())"
   ]
  },
  {
   "cell_type": "code",
   "execution_count": null,
   "metadata": {},
   "outputs": [],
   "source": []
  }
 ],
 "metadata": {
  "colab": {
   "name": "Untitled0.ipynb",
   "provenance": [],
   "version": "0.3.2"
  },
  "kernelspec": {
   "display_name": "Python 3",
   "language": "python",
   "name": "python3"
  },
  "language_info": {
   "codemirror_mode": {
    "name": "ipython",
    "version": 3
   },
   "file_extension": ".py",
   "mimetype": "text/x-python",
   "name": "python",
   "nbconvert_exporter": "python",
   "pygments_lexer": "ipython3",
   "version": "3.5.4"
  }
 },
 "nbformat": 4,
 "nbformat_minor": 1
}
