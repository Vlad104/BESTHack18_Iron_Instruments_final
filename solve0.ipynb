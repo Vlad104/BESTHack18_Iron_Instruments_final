{
 "cells": [
  {
   "cell_type": "markdown",
   "metadata": {},
   "source": [
    "\n",
    "# Задание 1. Команда Iron Insruments\n"
   ]
  },
  {
   "cell_type": "code",
   "execution_count": 11,
   "metadata": {
    "colab": {},
    "colab_type": "code",
    "id": "eekboJyqHrEV"
   },
   "outputs": [],
   "source": [
    "import pandas as pd\n",
    "dfl = pd.read_csv('DataFromWebPage (1).csv', sep = ';', low_memory=False)"
   ]
  },
  {
   "cell_type": "code",
   "execution_count": 12,
   "metadata": {},
   "outputs": [],
   "source": [
    "# Поиск чисел в строке"
   ]
  },
  {
   "cell_type": "code",
   "execution_count": 13,
   "metadata": {},
   "outputs": [],
   "source": [
    "def find_number(data_list):\n",
    "    out = []\n",
    "    res = ''\n",
    "    for x in data_list:\n",
    "        if x != x:\n",
    "            res = '0'\n",
    "        elif x == '':\n",
    "            res = '0'\n",
    "        else:\n",
    "            for i in str(x):\n",
    "                if ('0' <= i <= '9'):\n",
    "                    res += i\n",
    "        if res == '':\n",
    "            res = '0'\n",
    "        out.append(int(res))\n",
    "        res = ''\n",
    "    return out\n",
    "        "
   ]
  },
  {
   "cell_type": "code",
   "execution_count": 14,
   "metadata": {},
   "outputs": [],
   "source": [
    "# Очистка данных"
   ]
  },
  {
   "cell_type": "code",
   "execution_count": 15,
   "metadata": {},
   "outputs": [],
   "source": [
    "dfc = dfl\n",
    "labels = ['Price', 'OtMetro', 'Vmestimost', 'Area', 'Footprint']\n",
    "in_list  = []\n",
    "out_list = []\n",
    "for label in labels:\n",
    "    in_list  = dfl[label].values\n",
    "    out_list = find_number(in_list)\n",
    "    n = 0\n",
    "    for x in out_list:\n",
    "        dfc[label].values[n] = x\n",
    "        n+=1 \n",
    "    in_list  = []\n",
    "    out_list = []"
   ]
  },
  {
   "cell_type": "markdown",
   "metadata": {},
   "source": [
    "## Визуализация"
   ]
  },
  {
   "cell_type": "code",
   "execution_count": 16,
   "metadata": {
    "colab": {},
    "colab_type": "code",
    "id": "2DmvtFohIqt3"
   },
   "outputs": [
    {
     "data": {
      "text/html": [
       "<script>requirejs.config({paths: { 'plotly': ['https://cdn.plot.ly/plotly-latest.min']},});if(!window.Plotly) {{require(['plotly'],function(plotly) {window.Plotly=plotly;});}}</script>"
      ],
      "text/vnd.plotly.v1+html": [
       "<script>requirejs.config({paths: { 'plotly': ['https://cdn.plot.ly/plotly-latest.min']},});if(!window.Plotly) {{require(['plotly'],function(plotly) {window.Plotly=plotly;});}}</script>"
      ]
     },
     "metadata": {},
     "output_type": "display_data"
    }
   ],
   "source": [
    "from plotly.offline import download_plotlyjs, init_notebook_mode, plot, iplot\n",
    "import plotly\n",
    "import plotly.graph_objs as go\n",
    "init_notebook_mode ( connected = True )\n",
    "MAX = 10"
   ]
  },
  {
   "cell_type": "markdown",
   "metadata": {},
   "source": [
    "### График распределения лофтов по цене (первые 10 с самой низкой ценой аренды за час)"
   ]
  },
  {
   "cell_type": "code",
   "execution_count": 22,
   "metadata": {},
   "outputs": [
    {
     "data": {
      "image/svg+xml": [
       "<svg class=\"pygal-chart\" id=\"chart-d6efe1fb-8fa7-4796-9dc6-18adc39adb00\" viewBox=\"0 0 800 600\" xmlns=\"http://www.w3.org/2000/svg\" xmlns:xlink=\"http://www.w3.org/1999/xlink\"><!--Generated with pygal 2.4.0 (lxml) ©Kozea 2012-2016 on 2018-04-21--><!--http://pygal.org--><!--http://github.com/Kozea/pygal--><defs><style type=\"text/css\">#chart-d6efe1fb-8fa7-4796-9dc6-18adc39adb00{-webkit-user-select:none;-webkit-font-smoothing:antialiased;font-family:Consolas,&quot;Liberation Mono&quot;,Menlo,Courier,monospace}#chart-d6efe1fb-8fa7-4796-9dc6-18adc39adb00 .title{font-family:Consolas,&quot;Liberation Mono&quot;,Menlo,Courier,monospace;font-size:16px}#chart-d6efe1fb-8fa7-4796-9dc6-18adc39adb00 .legends .legend text{font-family:Consolas,&quot;Liberation Mono&quot;,Menlo,Courier,monospace;font-size:14px}#chart-d6efe1fb-8fa7-4796-9dc6-18adc39adb00 .axis text{font-family:Consolas,&quot;Liberation Mono&quot;,Menlo,Courier,monospace;font-size:10px}#chart-d6efe1fb-8fa7-4796-9dc6-18adc39adb00 .axis text.major{font-family:Consolas,&quot;Liberation Mono&quot;,Menlo,Courier,monospace;font-size:10px}#chart-d6efe1fb-8fa7-4796-9dc6-18adc39adb00 .text-overlay text.value{font-family:Consolas,&quot;Liberation Mono&quot;,Menlo,Courier,monospace;font-size:16px}#chart-d6efe1fb-8fa7-4796-9dc6-18adc39adb00 .text-overlay text.label{font-family:Consolas,&quot;Liberation Mono&quot;,Menlo,Courier,monospace;font-size:10px}#chart-d6efe1fb-8fa7-4796-9dc6-18adc39adb00 .tooltip{font-family:Consolas,&quot;Liberation Mono&quot;,Menlo,Courier,monospace;font-size:14px}#chart-d6efe1fb-8fa7-4796-9dc6-18adc39adb00 text.no_data{font-family:Consolas,&quot;Liberation Mono&quot;,Menlo,Courier,monospace;font-size:64px}\n",
       "#chart-d6efe1fb-8fa7-4796-9dc6-18adc39adb00{background-color:rgba(249,249,249,1)}#chart-d6efe1fb-8fa7-4796-9dc6-18adc39adb00 path,#chart-d6efe1fb-8fa7-4796-9dc6-18adc39adb00 line,#chart-d6efe1fb-8fa7-4796-9dc6-18adc39adb00 rect,#chart-d6efe1fb-8fa7-4796-9dc6-18adc39adb00 circle{-webkit-transition:150ms;-moz-transition:150ms;transition:150ms}#chart-d6efe1fb-8fa7-4796-9dc6-18adc39adb00 .graph &gt; .background{fill:rgba(249,249,249,1)}#chart-d6efe1fb-8fa7-4796-9dc6-18adc39adb00 .plot &gt; .background{fill:rgba(255,255,255,1)}#chart-d6efe1fb-8fa7-4796-9dc6-18adc39adb00 .graph{fill:rgba(0,0,0,.87)}#chart-d6efe1fb-8fa7-4796-9dc6-18adc39adb00 text.no_data{fill:rgba(0,0,0,1)}#chart-d6efe1fb-8fa7-4796-9dc6-18adc39adb00 .title{fill:rgba(0,0,0,1)}#chart-d6efe1fb-8fa7-4796-9dc6-18adc39adb00 .legends .legend text{fill:rgba(0,0,0,.87)}#chart-d6efe1fb-8fa7-4796-9dc6-18adc39adb00 .legends .legend:hover text{fill:rgba(0,0,0,1)}#chart-d6efe1fb-8fa7-4796-9dc6-18adc39adb00 .axis .line{stroke:rgba(0,0,0,1)}#chart-d6efe1fb-8fa7-4796-9dc6-18adc39adb00 .axis .guide.line{stroke:rgba(0,0,0,.54)}#chart-d6efe1fb-8fa7-4796-9dc6-18adc39adb00 .axis .major.line{stroke:rgba(0,0,0,.87)}#chart-d6efe1fb-8fa7-4796-9dc6-18adc39adb00 .axis text.major{fill:rgba(0,0,0,1)}#chart-d6efe1fb-8fa7-4796-9dc6-18adc39adb00 .axis.y .guides:hover .guide.line,#chart-d6efe1fb-8fa7-4796-9dc6-18adc39adb00 .line-graph .axis.x .guides:hover .guide.line,#chart-d6efe1fb-8fa7-4796-9dc6-18adc39adb00 .stackedline-graph .axis.x .guides:hover .guide.line,#chart-d6efe1fb-8fa7-4796-9dc6-18adc39adb00 .xy-graph .axis.x .guides:hover .guide.line{stroke:rgba(0,0,0,1)}#chart-d6efe1fb-8fa7-4796-9dc6-18adc39adb00 .axis .guides:hover text{fill:rgba(0,0,0,1)}#chart-d6efe1fb-8fa7-4796-9dc6-18adc39adb00 .reactive{fill-opacity:.7;stroke-opacity:.8}#chart-d6efe1fb-8fa7-4796-9dc6-18adc39adb00 .ci{stroke:rgba(0,0,0,.87)}#chart-d6efe1fb-8fa7-4796-9dc6-18adc39adb00 .reactive.active,#chart-d6efe1fb-8fa7-4796-9dc6-18adc39adb00 .active .reactive{fill-opacity:.8;stroke-opacity:.9;stroke-width:4}#chart-d6efe1fb-8fa7-4796-9dc6-18adc39adb00 .ci .reactive.active{stroke-width:1.5}#chart-d6efe1fb-8fa7-4796-9dc6-18adc39adb00 .series text{fill:rgba(0,0,0,1)}#chart-d6efe1fb-8fa7-4796-9dc6-18adc39adb00 .tooltip rect{fill:rgba(255,255,255,1);stroke:rgba(0,0,0,1);-webkit-transition:opacity 150ms;-moz-transition:opacity 150ms;transition:opacity 150ms}#chart-d6efe1fb-8fa7-4796-9dc6-18adc39adb00 .tooltip .label{fill:rgba(0,0,0,.87)}#chart-d6efe1fb-8fa7-4796-9dc6-18adc39adb00 .tooltip .label{fill:rgba(0,0,0,.87)}#chart-d6efe1fb-8fa7-4796-9dc6-18adc39adb00 .tooltip .legend{font-size:.8em;fill:rgba(0,0,0,.54)}#chart-d6efe1fb-8fa7-4796-9dc6-18adc39adb00 .tooltip .x_label{font-size:.6em;fill:rgba(0,0,0,1)}#chart-d6efe1fb-8fa7-4796-9dc6-18adc39adb00 .tooltip .xlink{font-size:.5em;text-decoration:underline}#chart-d6efe1fb-8fa7-4796-9dc6-18adc39adb00 .tooltip .value{font-size:1.5em}#chart-d6efe1fb-8fa7-4796-9dc6-18adc39adb00 .bound{font-size:.5em}#chart-d6efe1fb-8fa7-4796-9dc6-18adc39adb00 .max-value{font-size:.75em;fill:rgba(0,0,0,.54)}#chart-d6efe1fb-8fa7-4796-9dc6-18adc39adb00 .map-element{fill:rgba(255,255,255,1);stroke:rgba(0,0,0,.54) !important}#chart-d6efe1fb-8fa7-4796-9dc6-18adc39adb00 .map-element .reactive{fill-opacity:inherit;stroke-opacity:inherit}#chart-d6efe1fb-8fa7-4796-9dc6-18adc39adb00 .color-0,#chart-d6efe1fb-8fa7-4796-9dc6-18adc39adb00 .color-0 a:visited{stroke:#F44336;fill:#F44336}#chart-d6efe1fb-8fa7-4796-9dc6-18adc39adb00 .color-1,#chart-d6efe1fb-8fa7-4796-9dc6-18adc39adb00 .color-1 a:visited{stroke:#3F51B5;fill:#3F51B5}#chart-d6efe1fb-8fa7-4796-9dc6-18adc39adb00 .color-2,#chart-d6efe1fb-8fa7-4796-9dc6-18adc39adb00 .color-2 a:visited{stroke:#009688;fill:#009688}#chart-d6efe1fb-8fa7-4796-9dc6-18adc39adb00 .color-3,#chart-d6efe1fb-8fa7-4796-9dc6-18adc39adb00 .color-3 a:visited{stroke:#FFC107;fill:#FFC107}#chart-d6efe1fb-8fa7-4796-9dc6-18adc39adb00 .color-4,#chart-d6efe1fb-8fa7-4796-9dc6-18adc39adb00 .color-4 a:visited{stroke:#FF5722;fill:#FF5722}#chart-d6efe1fb-8fa7-4796-9dc6-18adc39adb00 .color-5,#chart-d6efe1fb-8fa7-4796-9dc6-18adc39adb00 .color-5 a:visited{stroke:#9C27B0;fill:#9C27B0}#chart-d6efe1fb-8fa7-4796-9dc6-18adc39adb00 .color-6,#chart-d6efe1fb-8fa7-4796-9dc6-18adc39adb00 .color-6 a:visited{stroke:#03A9F4;fill:#03A9F4}#chart-d6efe1fb-8fa7-4796-9dc6-18adc39adb00 .color-7,#chart-d6efe1fb-8fa7-4796-9dc6-18adc39adb00 .color-7 a:visited{stroke:#8BC34A;fill:#8BC34A}#chart-d6efe1fb-8fa7-4796-9dc6-18adc39adb00 .color-8,#chart-d6efe1fb-8fa7-4796-9dc6-18adc39adb00 .color-8 a:visited{stroke:#FF9800;fill:#FF9800}#chart-d6efe1fb-8fa7-4796-9dc6-18adc39adb00 .color-9,#chart-d6efe1fb-8fa7-4796-9dc6-18adc39adb00 .color-9 a:visited{stroke:#E91E63;fill:#E91E63}#chart-d6efe1fb-8fa7-4796-9dc6-18adc39adb00 .text-overlay .color-0 text{fill:black}#chart-d6efe1fb-8fa7-4796-9dc6-18adc39adb00 .text-overlay .color-1 text{fill:black}#chart-d6efe1fb-8fa7-4796-9dc6-18adc39adb00 .text-overlay .color-2 text{fill:black}#chart-d6efe1fb-8fa7-4796-9dc6-18adc39adb00 .text-overlay .color-3 text{fill:black}#chart-d6efe1fb-8fa7-4796-9dc6-18adc39adb00 .text-overlay .color-4 text{fill:black}#chart-d6efe1fb-8fa7-4796-9dc6-18adc39adb00 .text-overlay .color-5 text{fill:black}#chart-d6efe1fb-8fa7-4796-9dc6-18adc39adb00 .text-overlay .color-6 text{fill:black}#chart-d6efe1fb-8fa7-4796-9dc6-18adc39adb00 .text-overlay .color-7 text{fill:black}#chart-d6efe1fb-8fa7-4796-9dc6-18adc39adb00 .text-overlay .color-8 text{fill:black}#chart-d6efe1fb-8fa7-4796-9dc6-18adc39adb00 .text-overlay .color-9 text{fill:black}\n",
       "#chart-d6efe1fb-8fa7-4796-9dc6-18adc39adb00 text.no_data{text-anchor:middle}#chart-d6efe1fb-8fa7-4796-9dc6-18adc39adb00 .guide.line{fill:none}#chart-d6efe1fb-8fa7-4796-9dc6-18adc39adb00 .centered{text-anchor:middle}#chart-d6efe1fb-8fa7-4796-9dc6-18adc39adb00 .title{text-anchor:middle}#chart-d6efe1fb-8fa7-4796-9dc6-18adc39adb00 .legends .legend text{fill-opacity:1}#chart-d6efe1fb-8fa7-4796-9dc6-18adc39adb00 .axis.x text{text-anchor:middle}#chart-d6efe1fb-8fa7-4796-9dc6-18adc39adb00 .axis.x:not(.web) text[transform]{text-anchor:start}#chart-d6efe1fb-8fa7-4796-9dc6-18adc39adb00 .axis.x:not(.web) text[transform].backwards{text-anchor:end}#chart-d6efe1fb-8fa7-4796-9dc6-18adc39adb00 .axis.y text{text-anchor:end}#chart-d6efe1fb-8fa7-4796-9dc6-18adc39adb00 .axis.y text[transform].backwards{text-anchor:start}#chart-d6efe1fb-8fa7-4796-9dc6-18adc39adb00 .axis.y2 text{text-anchor:start}#chart-d6efe1fb-8fa7-4796-9dc6-18adc39adb00 .axis.y2 text[transform].backwards{text-anchor:end}#chart-d6efe1fb-8fa7-4796-9dc6-18adc39adb00 .axis .guide.line{stroke-dasharray:4,4}#chart-d6efe1fb-8fa7-4796-9dc6-18adc39adb00 .axis .major.guide.line{stroke-dasharray:6,6}#chart-d6efe1fb-8fa7-4796-9dc6-18adc39adb00 .horizontal .axis.y .guide.line,#chart-d6efe1fb-8fa7-4796-9dc6-18adc39adb00 .horizontal .axis.y2 .guide.line,#chart-d6efe1fb-8fa7-4796-9dc6-18adc39adb00 .vertical .axis.x .guide.line{opacity:0}#chart-d6efe1fb-8fa7-4796-9dc6-18adc39adb00 .horizontal .axis.always_show .guide.line,#chart-d6efe1fb-8fa7-4796-9dc6-18adc39adb00 .vertical .axis.always_show .guide.line{opacity:1 !important}#chart-d6efe1fb-8fa7-4796-9dc6-18adc39adb00 .axis.y .guides:hover .guide.line,#chart-d6efe1fb-8fa7-4796-9dc6-18adc39adb00 .axis.y2 .guides:hover .guide.line,#chart-d6efe1fb-8fa7-4796-9dc6-18adc39adb00 .axis.x .guides:hover .guide.line{opacity:1}#chart-d6efe1fb-8fa7-4796-9dc6-18adc39adb00 .axis .guides:hover text{opacity:1}#chart-d6efe1fb-8fa7-4796-9dc6-18adc39adb00 .nofill{fill:none}#chart-d6efe1fb-8fa7-4796-9dc6-18adc39adb00 .subtle-fill{fill-opacity:.2}#chart-d6efe1fb-8fa7-4796-9dc6-18adc39adb00 .dot{stroke-width:1px;fill-opacity:1}#chart-d6efe1fb-8fa7-4796-9dc6-18adc39adb00 .dot.active{stroke-width:5px}#chart-d6efe1fb-8fa7-4796-9dc6-18adc39adb00 .dot.negative{fill:transparent}#chart-d6efe1fb-8fa7-4796-9dc6-18adc39adb00 text,#chart-d6efe1fb-8fa7-4796-9dc6-18adc39adb00 tspan{stroke:none !important}#chart-d6efe1fb-8fa7-4796-9dc6-18adc39adb00 .series text.active{opacity:1}#chart-d6efe1fb-8fa7-4796-9dc6-18adc39adb00 .tooltip rect{fill-opacity:.95;stroke-width:.5}#chart-d6efe1fb-8fa7-4796-9dc6-18adc39adb00 .tooltip text{fill-opacity:1}#chart-d6efe1fb-8fa7-4796-9dc6-18adc39adb00 .showable{visibility:hidden}#chart-d6efe1fb-8fa7-4796-9dc6-18adc39adb00 .showable.shown{visibility:visible}#chart-d6efe1fb-8fa7-4796-9dc6-18adc39adb00 .gauge-background{fill:rgba(229,229,229,1);stroke:none}#chart-d6efe1fb-8fa7-4796-9dc6-18adc39adb00 .bg-lines{stroke:rgba(249,249,249,1);stroke-width:2px}</style><script type=\"text/javascript\">window.pygal = window.pygal || {};window.pygal.config = window.pygal.config || {};window.pygal.config['d6efe1fb-8fa7-4796-9dc6-18adc39adb00'] = {&quot;y_labels&quot;: null, &quot;inner_radius&quot;: 0, &quot;show_x_guides&quot;: true, &quot;show_minor_y_labels&quot;: true, &quot;stroke&quot;: true, &quot;x_labels_major_count&quot;: null, &quot;zero&quot;: 0, &quot;style&quot;: {&quot;font_family&quot;: &quot;Consolas, \\&quot;Liberation Mono\\&quot;, Menlo, Courier, monospace&quot;, &quot;value_label_font_family&quot;: &quot;Consolas, \\&quot;Liberation Mono\\&quot;, Menlo, Courier, monospace&quot;, &quot;guide_stroke_dasharray&quot;: &quot;4,4&quot;, &quot;value_font_size&quot;: 16, &quot;colors&quot;: [&quot;#F44336&quot;, &quot;#3F51B5&quot;, &quot;#009688&quot;, &quot;#FFC107&quot;, &quot;#FF5722&quot;, &quot;#9C27B0&quot;, &quot;#03A9F4&quot;, &quot;#8BC34A&quot;, &quot;#FF9800&quot;, &quot;#E91E63&quot;, &quot;#2196F3&quot;, &quot;#4CAF50&quot;, &quot;#FFEB3B&quot;, &quot;#673AB7&quot;, &quot;#00BCD4&quot;, &quot;#CDDC39&quot;, &quot;#9E9E9E&quot;, &quot;#607D8B&quot;], &quot;title_font_family&quot;: &quot;Consolas, \\&quot;Liberation Mono\\&quot;, Menlo, Courier, monospace&quot;, &quot;foreground&quot;: &quot;rgba(0, 0, 0, .87)&quot;, &quot;value_label_font_size&quot;: 10, &quot;title_font_size&quot;: 16, &quot;value_background&quot;: &quot;rgba(229, 229, 229, 1)&quot;, &quot;value_font_family&quot;: &quot;Consolas, \\&quot;Liberation Mono\\&quot;, Menlo, Courier, monospace&quot;, &quot;stroke_opacity&quot;: &quot;.8&quot;, &quot;legend_font_size&quot;: 14, &quot;opacity_hover&quot;: &quot;.8&quot;, &quot;ci_colors&quot;: [], &quot;opacity&quot;: &quot;.7&quot;, &quot;major_guide_stroke_dasharray&quot;: &quot;6,6&quot;, &quot;background&quot;: &quot;rgba(249, 249, 249, 1)&quot;, &quot;foreground_strong&quot;: &quot;rgba(0, 0, 0, 1)&quot;, &quot;value_colors&quot;: [], &quot;tooltip_font_size&quot;: 14, &quot;no_data_font_size&quot;: 64, &quot;legend_font_family&quot;: &quot;Consolas, \\&quot;Liberation Mono\\&quot;, Menlo, Courier, monospace&quot;, &quot;stroke_opacity_hover&quot;: &quot;.9&quot;, &quot;no_data_font_family&quot;: &quot;Consolas, \\&quot;Liberation Mono\\&quot;, Menlo, Courier, monospace&quot;, &quot;major_label_font_family&quot;: &quot;Consolas, \\&quot;Liberation Mono\\&quot;, Menlo, Courier, monospace&quot;, &quot;label_font_family&quot;: &quot;Consolas, \\&quot;Liberation Mono\\&quot;, Menlo, Courier, monospace&quot;, &quot;plot_background&quot;: &quot;rgba(255, 255, 255, 1)&quot;, &quot;transition&quot;: &quot;150ms&quot;, &quot;tooltip_font_family&quot;: &quot;Consolas, \\&quot;Liberation Mono\\&quot;, Menlo, Courier, monospace&quot;, &quot;label_font_size&quot;: 10, &quot;major_label_font_size&quot;: 10, &quot;foreground_subtle&quot;: &quot;rgba(0, 0, 0, .54)&quot;}, &quot;strict&quot;: false, &quot;margin_top&quot;: null, &quot;order_min&quot;: null, &quot;show_legend&quot;: true, &quot;tooltip_fancy_mode&quot;: true, &quot;stroke_style&quot;: null, &quot;y_labels_major_every&quot;: null, &quot;margin_bottom&quot;: null, &quot;x_labels_major_every&quot;: null, &quot;legend_at_bottom&quot;: false, &quot;force_uri_protocol&quot;: &quot;https&quot;, &quot;margin_right&quot;: null, &quot;secondary_range&quot;: null, &quot;y_labels_major_count&quot;: null, &quot;x_title&quot;: null, &quot;disable_xml_declaration&quot;: false, &quot;title&quot;: &quot;\\u0420\\u0430\\u0441\\u043f\\u0440\\u0435\\u0434\\u0435\\u043b\\u0435\\u043d\\u0438\\u0435 \\u043b\\u043e\\u0444\\u0442\\u043e\\u0432 \\u043f\\u043e \\u0446\\u0435\\u043d\\u0430\\u043c&quot;, &quot;show_only_major_dots&quot;: false, &quot;include_x_axis&quot;: false, &quot;explicit_size&quot;: false, &quot;height&quot;: 600, &quot;width&quot;: 800, &quot;stack_from_top&quot;: false, &quot;print_zeroes&quot;: true, &quot;show_y_labels&quot;: true, &quot;xrange&quot;: null, &quot;missing_value_fill_truncation&quot;: &quot;x&quot;, &quot;legends&quot;: [&quot;wake4you&quot;, &quot;\\u041b\\u043e\\u0444\\u0442 \\u0441 \\u043b\\u0435\\u0442\\u043d\\u0438\\u043c \\u043d\\u0430\\u0441\\u0442\\u0440\\u043e\\u0435\\u043d\\u0438\\u0435\\u043c&quot;, &quot;\\u041a\\u043e\\u043c\\u043f\\u0430\\u043a\\u0442\\u043d\\u043e\\u0435 \\u043f\\u0440\\u043e\\u0441\\u0442\\u0440\\u0430\\u043d\\u0441\\u0442\\u0432\\u043e \\u043d\\u0430 \\u00ab\\u041f\\u0440\\u043e\\u0441\\u043f\\u0435\\u043a\\u0442\\u0435 \\u041c\\u0438\\u0440\\u0430\\u00bb&quot;, &quot;\\u0423\\u044e\\u0442\\u043d\\u044b\\u0439 \\u043b\\u043e\\u0444\\u0442 \\u0434\\u043b\\u044f \\u0442\\u0432\\u043e\\u0440\\u0447\\u0435\\u0441\\u043a\\u0438\\u0445 \\u043c\\u0435\\u0440\\u043e\\u043f\\u0440\\u0438\\u044f\\u0442\\u0438\\u0439 \\u0438 \\u043f\\u0440\\u0430\\u0437\\u0434\\u043d\\u0438\\u043a\\u043e\\u0432&quot;, &quot;2-\\u044d\\u0442\\u0430\\u0436\\u043d\\u044b\\u0439 \\u043b\\u043e\\u0444\\u0442 \\u0432 \\u0441\\u0442\\u0438\\u043b\\u0435 \\u0444\\u044c\\u044e\\u0436\\u043d&quot;, &quot;\\u041a\\u043e\\u043c\\u043f\\u0430\\u043a\\u0442\\u043d\\u044b\\u0439 \\u043b\\u043e\\u0444\\u0442 \\u0434\\u043b\\u044f \\u043e\\u0440\\u0438\\u0433\\u0438\\u043d\\u0430\\u043b\\u044c\\u043d\\u044b\\u0445 \\u0444\\u043e\\u0442\\u043e\\u0441\\u0435\\u0441\\u0441\\u0438\\u0439&quot;, &quot;Joys Lounge Bar&quot;, &quot;\\u041b\\u043e\\u0444\\u0442 Broadway&quot;, &quot;\\u0417\\u0430\\u043b \\u0434\\u043b\\u044f \\u043c\\u0435\\u0440\\u043e\\u043f\\u0440\\u0438\\u044f\\u0442\\u0438\\u0439 \\u0438 \\u0442\\u0440\\u0435\\u043d\\u0438\\u043d\\u0433\\u043e\\u0432 \\u043d\\u0430 \\u041f\\u0440\\u043e\\u0441\\u043f\\u0435\\u043a\\u0442\\u0435 \\u041c\\u0438\\u0440\\u0430&quot;, &quot;\\u0421\\u0442\\u0438\\u043b\\u044c\\u043d\\u044b\\u0439 \\u043b\\u043e\\u0444\\u0442 \\u0434\\u043b\\u044f \\u043e\\u0442\\u0434\\u044b\\u0445\\u0430 \\u0438 \\u0442\\u0432\\u043e\\u0440\\u0447\\u0435\\u0441\\u043a\\u0438\\u0445 \\u043c\\u0435\\u0440\\u043e\\u043f\\u0440\\u0438\\u044f\\u0442\\u0438\\u0439&quot;], &quot;print_values_position&quot;: &quot;center&quot;, &quot;min_scale&quot;: 4, &quot;max_scale&quot;: 16, &quot;legend_box_size&quot;: 12, &quot;half_pie&quot;: false, &quot;interpolation_precision&quot;: 250, &quot;allow_interruptions&quot;: false, &quot;box_mode&quot;: &quot;extremes&quot;, &quot;legend_at_bottom_columns&quot;: null, &quot;defs&quot;: [], &quot;classes&quot;: [&quot;pygal-chart&quot;], &quot;show_dots&quot;: true, &quot;margin&quot;: 20, &quot;dots_size&quot;: 2.5, &quot;spacing&quot;: 10, &quot;truncate_legend&quot;: null, &quot;print_values&quot;: false, &quot;pretty_print&quot;: false, &quot;show_x_labels&quot;: true, &quot;x_labels&quot;: null, &quot;tooltip_border_radius&quot;: 0, &quot;x_label_rotation&quot;: 0, &quot;show_y_guides&quot;: false, &quot;interpolate&quot;: null, &quot;y_title&quot;: null, &quot;interpolation_parameters&quot;: {}, &quot;js&quot;: [&quot;//kozea.github.io/pygal.js/2.0.x/pygal-tooltips.min.js&quot;], &quot;rounded_bars&quot;: null, &quot;dynamic_print_values&quot;: false, &quot;css&quot;: [&quot;file://style.css&quot;, &quot;file://graph.css&quot;], &quot;print_labels&quot;: false, &quot;formatter&quot;: null, &quot;no_data_text&quot;: &quot;No data&quot;, &quot;fill&quot;: false, &quot;margin_left&quot;: null, &quot;truncate_label&quot;: null, &quot;show_minor_x_labels&quot;: true, &quot;no_prefix&quot;: false, &quot;logarithmic&quot;: false, &quot;x_labels_major&quot;: null, &quot;y_labels_major&quot;: null, &quot;y_label_rotation&quot;: 0, &quot;range&quot;: null, &quot;inverse_y_axis&quot;: false}</script><script type=\"text/javascript\" xlink:href=\"https://kozea.github.io/pygal.js/2.0.x/pygal-tooltips.min.js\"/></defs><title>Распределение лофтов по ценам</title><g class=\"graph horizontalbar-graph horizontal\"><rect class=\"background\" height=\"600\" width=\"800\" x=\"0\" y=\"0\"/><g class=\"plot\" transform=\"translate(168, 46)\"><rect class=\"background\" height=\"514\" width=\"612.0\" x=\"0\" y=\"0\"/><g class=\"axis x always_show\"><g class=\"guides\"><path class=\"axis major line\" d=\"M11.769231 0.000000 v514.000000\"/><text class=\"major\" x=\"11.76923076923077\" y=\"529.0\">0</text></g><g class=\"guides\"><path class=\"guide line\" d=\"M85.326923 0.000000 v514.000000\"/><text class=\"\" x=\"85.32692307692308\" y=\"529.0\">100</text></g><g class=\"guides\"><path class=\"guide line\" d=\"M158.884615 0.000000 v514.000000\"/><text class=\"\" x=\"158.8846153846154\" y=\"529.0\">200</text></g><g class=\"guides\"><path class=\"guide line\" d=\"M232.442308 0.000000 v514.000000\"/><text class=\"\" x=\"232.44230769230768\" y=\"529.0\">300</text></g><g class=\"guides\"><path class=\"guide line\" d=\"M306.000000 0.000000 v514.000000\"/><text class=\"\" x=\"306.0\" y=\"529.0\">400</text></g><g class=\"guides\"><path class=\"major guide line\" d=\"M379.557692 0.000000 v514.000000\"/><text class=\"major\" x=\"379.5576923076923\" y=\"529.0\">500</text></g><g class=\"guides\"><path class=\"guide line\" d=\"M453.115385 0.000000 v514.000000\"/><text class=\"\" x=\"453.11538461538464\" y=\"529.0\">600</text></g><g class=\"guides\"><path class=\"guide line\" d=\"M526.673077 0.000000 v514.000000\"/><text class=\"\" x=\"526.6730769230769\" y=\"529.0\">700</text></g><g class=\"guides\"><path class=\"guide line\" d=\"M600.230769 0.000000 v514.000000\"/><text class=\"\" x=\"600.2307692307693\" y=\"529.0\">800</text></g></g><g class=\"series serie-9 color-9\"><g class=\"bars\"><g class=\"bar\"><rect class=\"rect reactive tooltip-trigger\" height=\"38.273230769230764\" rx=\"0\" ry=\"0\" width=\"588.4615384615386\" x=\"11.769230769230717\" y=\"433.57876923076924\"/><desc class=\"value\">800</desc><desc class=\"x centered\">306.0</desc><desc class=\"y centered\">452.71538461538466</desc></g></g></g><g class=\"series serie-8 color-8\"><g class=\"bars\"><g class=\"bar\"><rect class=\"rect reactive tooltip-trigger\" height=\"38.273230769230764\" rx=\"0\" ry=\"0\" width=\"588.4615384615386\" x=\"11.769230769230717\" y=\"390.08646153846155\"/><desc class=\"value\">800</desc><desc class=\"x centered\">306.0</desc><desc class=\"y centered\">409.223076923077</desc></g></g></g><g class=\"series serie-7 color-7\"><g class=\"bars\"><g class=\"bar\"><rect class=\"rect reactive tooltip-trigger\" height=\"38.273230769230764\" rx=\"0\" ry=\"0\" width=\"588.4615384615386\" x=\"11.769230769230717\" y=\"346.59415384615386\"/><desc class=\"value\">800</desc><desc class=\"x centered\">306.0</desc><desc class=\"y centered\">365.7307692307693</desc></g></g></g><g class=\"series serie-6 color-6\"><g class=\"bars\"><g class=\"bar\"><rect class=\"rect reactive tooltip-trigger\" height=\"38.273230769230764\" rx=\"0\" ry=\"0\" width=\"588.4615384615386\" x=\"11.769230769230717\" y=\"303.10184615384617\"/><desc class=\"value\">800</desc><desc class=\"x centered\">306.0</desc><desc class=\"y centered\">322.2384615384616</desc></g></g></g><g class=\"series serie-5 color-5\"><g class=\"bars\"><g class=\"bar\"><rect class=\"rect reactive tooltip-trigger\" height=\"38.273230769230764\" rx=\"0\" ry=\"0\" width=\"588.4615384615386\" x=\"11.769230769230717\" y=\"259.6095384615385\"/><desc class=\"value\">800</desc><desc class=\"x centered\">306.0</desc><desc class=\"y centered\">278.7461538461539</desc></g></g></g><g class=\"series serie-4 color-4\"><g class=\"bars\"><g class=\"bar\"><rect class=\"rect reactive tooltip-trigger\" height=\"38.273230769230764\" rx=\"0\" ry=\"0\" width=\"514.9038461538462\" x=\"11.769230769230717\" y=\"216.11723076923084\"/><desc class=\"value\">700</desc><desc class=\"x centered\">269.2211538461538</desc><desc class=\"y centered\">235.2538461538462</desc></g></g></g><g class=\"series serie-3 color-3\"><g class=\"bars\"><g class=\"bar\"><rect class=\"rect reactive tooltip-trigger\" height=\"38.273230769230764\" rx=\"0\" ry=\"0\" width=\"514.9038461538462\" x=\"11.769230769230717\" y=\"172.62492307692315\"/><desc class=\"value\">700</desc><desc class=\"x centered\">269.2211538461538</desc><desc class=\"y centered\">191.76153846153852</desc></g></g></g><g class=\"series serie-2 color-2\"><g class=\"bars\"><g class=\"bar\"><rect class=\"rect reactive tooltip-trigger\" height=\"38.273230769230764\" rx=\"0\" ry=\"0\" width=\"441.34615384615387\" x=\"11.769230769230774\" y=\"129.13261538461546\"/><desc class=\"value\">600</desc><desc class=\"x centered\">232.4423076923077</desc><desc class=\"y centered\">148.26923076923083</desc></g></g></g><g class=\"series serie-1 color-1\"><g class=\"bars\"><g class=\"bar\"><rect class=\"rect reactive tooltip-trigger\" height=\"38.273230769230764\" rx=\"0\" ry=\"0\" width=\"367.78846153846155\" x=\"11.769230769230774\" y=\"85.64030769230776\"/><desc class=\"value\">500</desc><desc class=\"x centered\">195.66346153846155</desc><desc class=\"y centered\">104.77692307692314</desc></g></g></g><g class=\"series serie-0 color-0\"><g class=\"bars\"><g class=\"bar\"><rect class=\"rect reactive tooltip-trigger\" height=\"38.273230769230764\" rx=\"0\" ry=\"0\" width=\"73.5576923076923\" x=\"11.769230769230774\" y=\"42.14800000000007\"/><desc class=\"value\">100</desc><desc class=\"x centered\">48.54807692307693</desc><desc class=\"y centered\">61.28461538461545</desc></g></g></g></g><g class=\"titles\"><text class=\"title plot_title\" x=\"400.0\" y=\"26\">Распределение лофтов по ценам</text></g><g class=\"plot overlay\" transform=\"translate(168, 46)\"><g class=\"series serie-9 color-9\"/><g class=\"series serie-8 color-8\"/><g class=\"series serie-7 color-7\"/><g class=\"series serie-6 color-6\"/><g class=\"series serie-5 color-5\"/><g class=\"series serie-4 color-4\"/><g class=\"series serie-3 color-3\"/><g class=\"series serie-2 color-2\"/><g class=\"series serie-1 color-1\"/><g class=\"series serie-0 color-0\"/></g><g class=\"plot text-overlay\" transform=\"translate(168, 46)\"><g class=\"series serie-9 color-9\"/><g class=\"series serie-8 color-8\"/><g class=\"series serie-7 color-7\"/><g class=\"series serie-6 color-6\"/><g class=\"series serie-5 color-5\"/><g class=\"series serie-4 color-4\"/><g class=\"series serie-3 color-3\"/><g class=\"series serie-2 color-2\"/><g class=\"series serie-1 color-1\"/><g class=\"series serie-0 color-0\"/></g><g class=\"plot tooltip-overlay\" transform=\"translate(168, 46)\"><g class=\"tooltip\" style=\"opacity: 0\" transform=\"translate(0 0)\"><rect class=\"tooltip-box\" height=\"0\" rx=\"0\" ry=\"0\" width=\"0\"/><g class=\"text\"/></g></g><g class=\"legends\" transform=\"translate(10, 56)\"><g class=\"legend reactive activate-serie\" id=\"activate-serie-0\"><rect class=\"color-0 reactive\" height=\"12\" width=\"12\" x=\"0.0\" y=\"1.0\"/><text x=\"17.0\" y=\"11.2\">wake4you</text></g><g class=\"legend reactive activate-serie\" id=\"activate-serie-1\"><rect class=\"color-1 reactive\" height=\"12\" width=\"12\" x=\"0.0\" y=\"22.0\"/><text x=\"17.0\" y=\"32.2\">Лофт с летним …</text><title>Лофт с летним настроением</title></g><g class=\"legend reactive activate-serie\" id=\"activate-serie-2\"><rect class=\"color-2 reactive\" height=\"12\" width=\"12\" x=\"0.0\" y=\"43.0\"/><text x=\"17.0\" y=\"53.2\">Компактное про…</text><title>Компактное пространство на «Проспекте Мира»</title></g><g class=\"legend reactive activate-serie\" id=\"activate-serie-3\"><rect class=\"color-3 reactive\" height=\"12\" width=\"12\" x=\"0.0\" y=\"64.0\"/><text x=\"17.0\" y=\"74.2\">Уютный лофт дл…</text><title>Уютный лофт для творческих мероприятий и праздников</title></g><g class=\"legend reactive activate-serie\" id=\"activate-serie-4\"><rect class=\"color-4 reactive\" height=\"12\" width=\"12\" x=\"0.0\" y=\"85.0\"/><text x=\"17.0\" y=\"95.2\">2-этажный лофт…</text><title>2-этажный лофт в стиле фьюжн</title></g><g class=\"legend reactive activate-serie\" id=\"activate-serie-5\"><rect class=\"color-5 reactive\" height=\"12\" width=\"12\" x=\"0.0\" y=\"106.0\"/><text x=\"17.0\" y=\"116.2\">Компактный лоф…</text><title>Компактный лофт для оригинальных фотосессий</title></g><g class=\"legend reactive activate-serie\" id=\"activate-serie-6\"><rect class=\"color-6 reactive\" height=\"12\" width=\"12\" x=\"0.0\" y=\"127.0\"/><text x=\"17.0\" y=\"137.2\">Joys Lounge Bar</text></g><g class=\"legend reactive activate-serie\" id=\"activate-serie-7\"><rect class=\"color-7 reactive\" height=\"12\" width=\"12\" x=\"0.0\" y=\"148.0\"/><text x=\"17.0\" y=\"158.2\">Лофт Broadway</text></g><g class=\"legend reactive activate-serie\" id=\"activate-serie-8\"><rect class=\"color-8 reactive\" height=\"12\" width=\"12\" x=\"0.0\" y=\"169.0\"/><text x=\"17.0\" y=\"179.2\">Зал для меропр…</text><title>Зал для мероприятий и тренингов на Проспекте Мира</title></g><g class=\"legend reactive activate-serie\" id=\"activate-serie-9\"><rect class=\"color-9 reactive\" height=\"12\" width=\"12\" x=\"0.0\" y=\"190.0\"/><text x=\"17.0\" y=\"200.2\">Стильный лофт …</text><title>Стильный лофт для отдыха и творческих мероприятий</title></g></g><g class=\"legends\" transform=\"translate(790, 56)\"/></g></svg>"
      ],
      "text/plain": [
       "<IPython.core.display.SVG object>"
      ]
     },
     "metadata": {},
     "output_type": "display_data"
    }
   ],
   "source": [
    "df_price = dfc[['Price', 'Name']]\n",
    "df_price = df_price[df_price.Price != 0]\n",
    "df_price = df_price.sort_values(by='Price')\n",
    "\n",
    "#!pip install pygal\n",
    "import pygal\n",
    "line_chart = pygal.HorizontalBar()\n",
    "line_chart.title = 'Распределение лофтов по ценам'\n",
    "for i in list(range(MAX)):\n",
    "    line_chart.add(df_price['Name'].values[i], df_price['Price'].values[i])    \n",
    "#line_chart.render()\n",
    "from IPython.display import SVG\n",
    "display(SVG(line_chart.render()))\n",
    "#SVG.show(line_chart.render())"
   ]
  },
  {
   "cell_type": "markdown",
   "metadata": {},
   "source": [
    "### Время, за которое можно пешком добраться до лофта от метро"
   ]
  },
  {
   "cell_type": "code",
   "execution_count": 54,
   "metadata": {},
   "outputs": [
    {
     "data": {
      "image/svg+xml": [
       "<svg class=\"pygal-chart\" id=\"chart-9cb92410-edd7-498f-a2ff-1db9e708bf6e\" viewBox=\"0 0 800 600\" xmlns=\"http://www.w3.org/2000/svg\" xmlns:xlink=\"http://www.w3.org/1999/xlink\"><!--Generated with pygal 2.4.0 (lxml) ©Kozea 2012-2016 on 2018-04-21--><!--http://pygal.org--><!--http://github.com/Kozea/pygal--><defs><style type=\"text/css\">#chart-9cb92410-edd7-498f-a2ff-1db9e708bf6e{-webkit-user-select:none;-webkit-font-smoothing:antialiased;font-family:Consolas,&quot;Liberation Mono&quot;,Menlo,Courier,monospace}#chart-9cb92410-edd7-498f-a2ff-1db9e708bf6e .title{font-family:Consolas,&quot;Liberation Mono&quot;,Menlo,Courier,monospace;font-size:16px}#chart-9cb92410-edd7-498f-a2ff-1db9e708bf6e .legends .legend text{font-family:Consolas,&quot;Liberation Mono&quot;,Menlo,Courier,monospace;font-size:14px}#chart-9cb92410-edd7-498f-a2ff-1db9e708bf6e .axis text{font-family:Consolas,&quot;Liberation Mono&quot;,Menlo,Courier,monospace;font-size:10px}#chart-9cb92410-edd7-498f-a2ff-1db9e708bf6e .axis text.major{font-family:Consolas,&quot;Liberation Mono&quot;,Menlo,Courier,monospace;font-size:10px}#chart-9cb92410-edd7-498f-a2ff-1db9e708bf6e .text-overlay text.value{font-family:Consolas,&quot;Liberation Mono&quot;,Menlo,Courier,monospace;font-size:16px}#chart-9cb92410-edd7-498f-a2ff-1db9e708bf6e .text-overlay text.label{font-family:Consolas,&quot;Liberation Mono&quot;,Menlo,Courier,monospace;font-size:10px}#chart-9cb92410-edd7-498f-a2ff-1db9e708bf6e .tooltip{font-family:Consolas,&quot;Liberation Mono&quot;,Menlo,Courier,monospace;font-size:14px}#chart-9cb92410-edd7-498f-a2ff-1db9e708bf6e text.no_data{font-family:Consolas,&quot;Liberation Mono&quot;,Menlo,Courier,monospace;font-size:64px}\n",
       "#chart-9cb92410-edd7-498f-a2ff-1db9e708bf6e{background-color:rgba(249,249,249,1)}#chart-9cb92410-edd7-498f-a2ff-1db9e708bf6e path,#chart-9cb92410-edd7-498f-a2ff-1db9e708bf6e line,#chart-9cb92410-edd7-498f-a2ff-1db9e708bf6e rect,#chart-9cb92410-edd7-498f-a2ff-1db9e708bf6e circle{-webkit-transition:150ms;-moz-transition:150ms;transition:150ms}#chart-9cb92410-edd7-498f-a2ff-1db9e708bf6e .graph &gt; .background{fill:rgba(249,249,249,1)}#chart-9cb92410-edd7-498f-a2ff-1db9e708bf6e .plot &gt; .background{fill:rgba(255,255,255,1)}#chart-9cb92410-edd7-498f-a2ff-1db9e708bf6e .graph{fill:rgba(0,0,0,.87)}#chart-9cb92410-edd7-498f-a2ff-1db9e708bf6e text.no_data{fill:rgba(0,0,0,1)}#chart-9cb92410-edd7-498f-a2ff-1db9e708bf6e .title{fill:rgba(0,0,0,1)}#chart-9cb92410-edd7-498f-a2ff-1db9e708bf6e .legends .legend text{fill:rgba(0,0,0,.87)}#chart-9cb92410-edd7-498f-a2ff-1db9e708bf6e .legends .legend:hover text{fill:rgba(0,0,0,1)}#chart-9cb92410-edd7-498f-a2ff-1db9e708bf6e .axis .line{stroke:rgba(0,0,0,1)}#chart-9cb92410-edd7-498f-a2ff-1db9e708bf6e .axis .guide.line{stroke:rgba(0,0,0,.54)}#chart-9cb92410-edd7-498f-a2ff-1db9e708bf6e .axis .major.line{stroke:rgba(0,0,0,.87)}#chart-9cb92410-edd7-498f-a2ff-1db9e708bf6e .axis text.major{fill:rgba(0,0,0,1)}#chart-9cb92410-edd7-498f-a2ff-1db9e708bf6e .axis.y .guides:hover .guide.line,#chart-9cb92410-edd7-498f-a2ff-1db9e708bf6e .line-graph .axis.x .guides:hover .guide.line,#chart-9cb92410-edd7-498f-a2ff-1db9e708bf6e .stackedline-graph .axis.x .guides:hover .guide.line,#chart-9cb92410-edd7-498f-a2ff-1db9e708bf6e .xy-graph .axis.x .guides:hover .guide.line{stroke:rgba(0,0,0,1)}#chart-9cb92410-edd7-498f-a2ff-1db9e708bf6e .axis .guides:hover text{fill:rgba(0,0,0,1)}#chart-9cb92410-edd7-498f-a2ff-1db9e708bf6e .reactive{fill-opacity:.7;stroke-opacity:.8}#chart-9cb92410-edd7-498f-a2ff-1db9e708bf6e .ci{stroke:rgba(0,0,0,.87)}#chart-9cb92410-edd7-498f-a2ff-1db9e708bf6e .reactive.active,#chart-9cb92410-edd7-498f-a2ff-1db9e708bf6e .active .reactive{fill-opacity:.8;stroke-opacity:.9;stroke-width:4}#chart-9cb92410-edd7-498f-a2ff-1db9e708bf6e .ci .reactive.active{stroke-width:1.5}#chart-9cb92410-edd7-498f-a2ff-1db9e708bf6e .series text{fill:rgba(0,0,0,1)}#chart-9cb92410-edd7-498f-a2ff-1db9e708bf6e .tooltip rect{fill:rgba(255,255,255,1);stroke:rgba(0,0,0,1);-webkit-transition:opacity 150ms;-moz-transition:opacity 150ms;transition:opacity 150ms}#chart-9cb92410-edd7-498f-a2ff-1db9e708bf6e .tooltip .label{fill:rgba(0,0,0,.87)}#chart-9cb92410-edd7-498f-a2ff-1db9e708bf6e .tooltip .label{fill:rgba(0,0,0,.87)}#chart-9cb92410-edd7-498f-a2ff-1db9e708bf6e .tooltip .legend{font-size:.8em;fill:rgba(0,0,0,.54)}#chart-9cb92410-edd7-498f-a2ff-1db9e708bf6e .tooltip .x_label{font-size:.6em;fill:rgba(0,0,0,1)}#chart-9cb92410-edd7-498f-a2ff-1db9e708bf6e .tooltip .xlink{font-size:.5em;text-decoration:underline}#chart-9cb92410-edd7-498f-a2ff-1db9e708bf6e .tooltip .value{font-size:1.5em}#chart-9cb92410-edd7-498f-a2ff-1db9e708bf6e .bound{font-size:.5em}#chart-9cb92410-edd7-498f-a2ff-1db9e708bf6e .max-value{font-size:.75em;fill:rgba(0,0,0,.54)}#chart-9cb92410-edd7-498f-a2ff-1db9e708bf6e .map-element{fill:rgba(255,255,255,1);stroke:rgba(0,0,0,.54) !important}#chart-9cb92410-edd7-498f-a2ff-1db9e708bf6e .map-element .reactive{fill-opacity:inherit;stroke-opacity:inherit}#chart-9cb92410-edd7-498f-a2ff-1db9e708bf6e .color-0,#chart-9cb92410-edd7-498f-a2ff-1db9e708bf6e .color-0 a:visited{stroke:#F44336;fill:#F44336}#chart-9cb92410-edd7-498f-a2ff-1db9e708bf6e .color-1,#chart-9cb92410-edd7-498f-a2ff-1db9e708bf6e .color-1 a:visited{stroke:#3F51B5;fill:#3F51B5}#chart-9cb92410-edd7-498f-a2ff-1db9e708bf6e .color-2,#chart-9cb92410-edd7-498f-a2ff-1db9e708bf6e .color-2 a:visited{stroke:#009688;fill:#009688}#chart-9cb92410-edd7-498f-a2ff-1db9e708bf6e .color-3,#chart-9cb92410-edd7-498f-a2ff-1db9e708bf6e .color-3 a:visited{stroke:#FFC107;fill:#FFC107}#chart-9cb92410-edd7-498f-a2ff-1db9e708bf6e .color-4,#chart-9cb92410-edd7-498f-a2ff-1db9e708bf6e .color-4 a:visited{stroke:#FF5722;fill:#FF5722}#chart-9cb92410-edd7-498f-a2ff-1db9e708bf6e .color-5,#chart-9cb92410-edd7-498f-a2ff-1db9e708bf6e .color-5 a:visited{stroke:#9C27B0;fill:#9C27B0}#chart-9cb92410-edd7-498f-a2ff-1db9e708bf6e .color-6,#chart-9cb92410-edd7-498f-a2ff-1db9e708bf6e .color-6 a:visited{stroke:#03A9F4;fill:#03A9F4}#chart-9cb92410-edd7-498f-a2ff-1db9e708bf6e .color-7,#chart-9cb92410-edd7-498f-a2ff-1db9e708bf6e .color-7 a:visited{stroke:#8BC34A;fill:#8BC34A}#chart-9cb92410-edd7-498f-a2ff-1db9e708bf6e .color-8,#chart-9cb92410-edd7-498f-a2ff-1db9e708bf6e .color-8 a:visited{stroke:#FF9800;fill:#FF9800}#chart-9cb92410-edd7-498f-a2ff-1db9e708bf6e .color-9,#chart-9cb92410-edd7-498f-a2ff-1db9e708bf6e .color-9 a:visited{stroke:#E91E63;fill:#E91E63}#chart-9cb92410-edd7-498f-a2ff-1db9e708bf6e .text-overlay .color-0 text{fill:black}#chart-9cb92410-edd7-498f-a2ff-1db9e708bf6e .text-overlay .color-1 text{fill:black}#chart-9cb92410-edd7-498f-a2ff-1db9e708bf6e .text-overlay .color-2 text{fill:black}#chart-9cb92410-edd7-498f-a2ff-1db9e708bf6e .text-overlay .color-3 text{fill:black}#chart-9cb92410-edd7-498f-a2ff-1db9e708bf6e .text-overlay .color-4 text{fill:black}#chart-9cb92410-edd7-498f-a2ff-1db9e708bf6e .text-overlay .color-5 text{fill:black}#chart-9cb92410-edd7-498f-a2ff-1db9e708bf6e .text-overlay .color-6 text{fill:black}#chart-9cb92410-edd7-498f-a2ff-1db9e708bf6e .text-overlay .color-7 text{fill:black}#chart-9cb92410-edd7-498f-a2ff-1db9e708bf6e .text-overlay .color-8 text{fill:black}#chart-9cb92410-edd7-498f-a2ff-1db9e708bf6e .text-overlay .color-9 text{fill:black}\n",
       "#chart-9cb92410-edd7-498f-a2ff-1db9e708bf6e text.no_data{text-anchor:middle}#chart-9cb92410-edd7-498f-a2ff-1db9e708bf6e .guide.line{fill:none}#chart-9cb92410-edd7-498f-a2ff-1db9e708bf6e .centered{text-anchor:middle}#chart-9cb92410-edd7-498f-a2ff-1db9e708bf6e .title{text-anchor:middle}#chart-9cb92410-edd7-498f-a2ff-1db9e708bf6e .legends .legend text{fill-opacity:1}#chart-9cb92410-edd7-498f-a2ff-1db9e708bf6e .axis.x text{text-anchor:middle}#chart-9cb92410-edd7-498f-a2ff-1db9e708bf6e .axis.x:not(.web) text[transform]{text-anchor:start}#chart-9cb92410-edd7-498f-a2ff-1db9e708bf6e .axis.x:not(.web) text[transform].backwards{text-anchor:end}#chart-9cb92410-edd7-498f-a2ff-1db9e708bf6e .axis.y text{text-anchor:end}#chart-9cb92410-edd7-498f-a2ff-1db9e708bf6e .axis.y text[transform].backwards{text-anchor:start}#chart-9cb92410-edd7-498f-a2ff-1db9e708bf6e .axis.y2 text{text-anchor:start}#chart-9cb92410-edd7-498f-a2ff-1db9e708bf6e .axis.y2 text[transform].backwards{text-anchor:end}#chart-9cb92410-edd7-498f-a2ff-1db9e708bf6e .axis .guide.line{stroke-dasharray:4,4}#chart-9cb92410-edd7-498f-a2ff-1db9e708bf6e .axis .major.guide.line{stroke-dasharray:6,6}#chart-9cb92410-edd7-498f-a2ff-1db9e708bf6e .horizontal .axis.y .guide.line,#chart-9cb92410-edd7-498f-a2ff-1db9e708bf6e .horizontal .axis.y2 .guide.line,#chart-9cb92410-edd7-498f-a2ff-1db9e708bf6e .vertical .axis.x .guide.line{opacity:0}#chart-9cb92410-edd7-498f-a2ff-1db9e708bf6e .horizontal .axis.always_show .guide.line,#chart-9cb92410-edd7-498f-a2ff-1db9e708bf6e .vertical .axis.always_show .guide.line{opacity:1 !important}#chart-9cb92410-edd7-498f-a2ff-1db9e708bf6e .axis.y .guides:hover .guide.line,#chart-9cb92410-edd7-498f-a2ff-1db9e708bf6e .axis.y2 .guides:hover .guide.line,#chart-9cb92410-edd7-498f-a2ff-1db9e708bf6e .axis.x .guides:hover .guide.line{opacity:1}#chart-9cb92410-edd7-498f-a2ff-1db9e708bf6e .axis .guides:hover text{opacity:1}#chart-9cb92410-edd7-498f-a2ff-1db9e708bf6e .nofill{fill:none}#chart-9cb92410-edd7-498f-a2ff-1db9e708bf6e .subtle-fill{fill-opacity:.2}#chart-9cb92410-edd7-498f-a2ff-1db9e708bf6e .dot{stroke-width:1px;fill-opacity:1}#chart-9cb92410-edd7-498f-a2ff-1db9e708bf6e .dot.active{stroke-width:5px}#chart-9cb92410-edd7-498f-a2ff-1db9e708bf6e .dot.negative{fill:transparent}#chart-9cb92410-edd7-498f-a2ff-1db9e708bf6e text,#chart-9cb92410-edd7-498f-a2ff-1db9e708bf6e tspan{stroke:none !important}#chart-9cb92410-edd7-498f-a2ff-1db9e708bf6e .series text.active{opacity:1}#chart-9cb92410-edd7-498f-a2ff-1db9e708bf6e .tooltip rect{fill-opacity:.95;stroke-width:.5}#chart-9cb92410-edd7-498f-a2ff-1db9e708bf6e .tooltip text{fill-opacity:1}#chart-9cb92410-edd7-498f-a2ff-1db9e708bf6e .showable{visibility:hidden}#chart-9cb92410-edd7-498f-a2ff-1db9e708bf6e .showable.shown{visibility:visible}#chart-9cb92410-edd7-498f-a2ff-1db9e708bf6e .gauge-background{fill:rgba(229,229,229,1);stroke:none}#chart-9cb92410-edd7-498f-a2ff-1db9e708bf6e .bg-lines{stroke:rgba(249,249,249,1);stroke-width:2px}</style><script type=\"text/javascript\">window.pygal = window.pygal || {};window.pygal.config = window.pygal.config || {};window.pygal.config['9cb92410-edd7-498f-a2ff-1db9e708bf6e'] = {&quot;y_labels&quot;: null, &quot;inner_radius&quot;: 0, &quot;show_x_guides&quot;: false, &quot;show_minor_y_labels&quot;: true, &quot;stroke&quot;: true, &quot;x_labels_major_count&quot;: null, &quot;zero&quot;: 0, &quot;style&quot;: {&quot;font_family&quot;: &quot;Consolas, \\&quot;Liberation Mono\\&quot;, Menlo, Courier, monospace&quot;, &quot;value_label_font_family&quot;: &quot;Consolas, \\&quot;Liberation Mono\\&quot;, Menlo, Courier, monospace&quot;, &quot;guide_stroke_dasharray&quot;: &quot;4,4&quot;, &quot;value_font_size&quot;: 16, &quot;colors&quot;: [&quot;#F44336&quot;, &quot;#3F51B5&quot;, &quot;#009688&quot;, &quot;#FFC107&quot;, &quot;#FF5722&quot;, &quot;#9C27B0&quot;, &quot;#03A9F4&quot;, &quot;#8BC34A&quot;, &quot;#FF9800&quot;, &quot;#E91E63&quot;, &quot;#2196F3&quot;, &quot;#4CAF50&quot;, &quot;#FFEB3B&quot;, &quot;#673AB7&quot;, &quot;#00BCD4&quot;, &quot;#CDDC39&quot;, &quot;#9E9E9E&quot;, &quot;#607D8B&quot;], &quot;title_font_family&quot;: &quot;Consolas, \\&quot;Liberation Mono\\&quot;, Menlo, Courier, monospace&quot;, &quot;foreground&quot;: &quot;rgba(0, 0, 0, .87)&quot;, &quot;value_label_font_size&quot;: 10, &quot;title_font_size&quot;: 16, &quot;value_background&quot;: &quot;rgba(229, 229, 229, 1)&quot;, &quot;value_font_family&quot;: &quot;Consolas, \\&quot;Liberation Mono\\&quot;, Menlo, Courier, monospace&quot;, &quot;stroke_opacity&quot;: &quot;.8&quot;, &quot;legend_font_size&quot;: 14, &quot;opacity_hover&quot;: &quot;.8&quot;, &quot;ci_colors&quot;: [], &quot;opacity&quot;: &quot;.7&quot;, &quot;major_guide_stroke_dasharray&quot;: &quot;6,6&quot;, &quot;background&quot;: &quot;rgba(249, 249, 249, 1)&quot;, &quot;foreground_strong&quot;: &quot;rgba(0, 0, 0, 1)&quot;, &quot;value_colors&quot;: [], &quot;tooltip_font_size&quot;: 14, &quot;no_data_font_size&quot;: 64, &quot;legend_font_family&quot;: &quot;Consolas, \\&quot;Liberation Mono\\&quot;, Menlo, Courier, monospace&quot;, &quot;stroke_opacity_hover&quot;: &quot;.9&quot;, &quot;no_data_font_family&quot;: &quot;Consolas, \\&quot;Liberation Mono\\&quot;, Menlo, Courier, monospace&quot;, &quot;major_label_font_family&quot;: &quot;Consolas, \\&quot;Liberation Mono\\&quot;, Menlo, Courier, monospace&quot;, &quot;label_font_family&quot;: &quot;Consolas, \\&quot;Liberation Mono\\&quot;, Menlo, Courier, monospace&quot;, &quot;plot_background&quot;: &quot;rgba(255, 255, 255, 1)&quot;, &quot;transition&quot;: &quot;150ms&quot;, &quot;tooltip_font_family&quot;: &quot;Consolas, \\&quot;Liberation Mono\\&quot;, Menlo, Courier, monospace&quot;, &quot;label_font_size&quot;: 10, &quot;major_label_font_size&quot;: 10, &quot;foreground_subtle&quot;: &quot;rgba(0, 0, 0, .54)&quot;}, &quot;strict&quot;: false, &quot;margin_top&quot;: null, &quot;order_min&quot;: null, &quot;show_legend&quot;: true, &quot;tooltip_fancy_mode&quot;: true, &quot;stroke_style&quot;: null, &quot;y_labels_major_every&quot;: null, &quot;margin_bottom&quot;: null, &quot;x_labels_major_every&quot;: null, &quot;legend_at_bottom&quot;: false, &quot;force_uri_protocol&quot;: &quot;https&quot;, &quot;margin_right&quot;: null, &quot;secondary_range&quot;: null, &quot;y_labels_major_count&quot;: null, &quot;x_title&quot;: null, &quot;disable_xml_declaration&quot;: false, &quot;title&quot;: &quot;\\u0412\\u0440\\u0435\\u043c\\u044f \\u0445\\u043e\\u0434\\u044c\\u0431\\u044b \\u0434\\u043e \\u043b\\u043e\\u0444\\u0442\\u0430 \\u043e\\u0442 \\u043c\\u0435\\u0442\\u0440\\u043e&quot;, &quot;show_only_major_dots&quot;: false, &quot;include_x_axis&quot;: false, &quot;explicit_size&quot;: false, &quot;height&quot;: 600, &quot;width&quot;: 800, &quot;stack_from_top&quot;: false, &quot;print_zeroes&quot;: true, &quot;show_y_labels&quot;: true, &quot;xrange&quot;: null, &quot;missing_value_fill_truncation&quot;: &quot;x&quot;, &quot;legends&quot;: [&quot;\\u042f\\u0440\\u043a\\u0438\\u0439 \\u043b\\u043e\\u0444\\u0442 \\u0432 \\u0438\\u043d\\u0434\\u0443\\u0441\\u0442\\u0440\\u0438\\u0430\\u043b\\u044c\\u043d\\u043e\\u043c \\u0441\\u0442\\u0438\\u043b\\u0435&quot;, &quot;Joys Lounge Bar&quot;, &quot;\\u0423\\u044e\\u0442\\u043d\\u044b\\u0439 \\u043b\\u043e\\u0444\\u0442 \\u0434\\u043b\\u044f \\u0441\\u0435\\u043c\\u0435\\u0439\\u043d\\u044b\\u0445 \\u0442\\u043e\\u0440\\u0436\\u0435\\u0441\\u0442\\u0432 \\u0438 \\u043e\\u0441\\u043e\\u0431\\u044b\\u0445 \\u0441\\u043b\\u0443\\u0447\\u0430\\u0435\\u0432&quot;, &quot;\\u041b\\u043e\\u0444\\u0442 \\u0441 \\u0430\\u0440\\u043a\\u0430\\u043c\\u0438&quot;, &quot;IronCage&quot;, &quot;Modul V&quot;, &quot;IronCage \\u041a\\u043e\\u043d\\u0444\\u0435\\u0440\\u0435\\u043d\\u0446 \\u0437\\u0430\\u043b&quot;, &quot;\\u0423\\u044e\\u0442\\u043d\\u044b\\u0439 \\u043b\\u043e\\u0444\\u0442 \\u043d\\u0430 \\u041a\\u0438\\u0442\\u0430\\u0439-\\u0433\\u043e\\u0440\\u043e\\u0434\\u0435&quot;, &quot;\\u041b\\u043e\\u0444\\u0442 \\u0434\\u043b\\u044f \\u0431\\u0438\\u0437\\u043d\\u0435\\u0441-\\u043c\\u0435\\u0440\\u043e\\u043f\\u0440\\u0438\\u044f\\u0442\\u0438\\u0439 \\u043d\\u0430 \\u0428\\u0430\\u0431\\u043e\\u043b\\u043e\\u0432\\u043a\\u0435&quot;, &quot;\\u0421\\u0442\\u0438\\u043b\\u044c\\u043d\\u044b\\u0439 \\u043b\\u043e\\u0444\\u0442 \\u0434\\u043b\\u044f \\u043e\\u0442\\u0434\\u044b\\u0445\\u0430 \\u0438 \\u0442\\u0432\\u043e\\u0440\\u0447\\u0435\\u0441\\u043a\\u0438\\u0445 \\u043c\\u0435\\u0440\\u043e\\u043f\\u0440\\u0438\\u044f\\u0442\\u0438\\u0439&quot;], &quot;print_values_position&quot;: &quot;center&quot;, &quot;min_scale&quot;: 4, &quot;max_scale&quot;: 16, &quot;legend_box_size&quot;: 12, &quot;half_pie&quot;: false, &quot;interpolation_precision&quot;: 250, &quot;allow_interruptions&quot;: false, &quot;box_mode&quot;: &quot;extremes&quot;, &quot;legend_at_bottom_columns&quot;: null, &quot;defs&quot;: [], &quot;classes&quot;: [&quot;pygal-chart&quot;], &quot;show_dots&quot;: true, &quot;margin&quot;: 20, &quot;dots_size&quot;: 2.5, &quot;spacing&quot;: 10, &quot;truncate_legend&quot;: null, &quot;print_values&quot;: false, &quot;pretty_print&quot;: false, &quot;show_x_labels&quot;: true, &quot;x_labels&quot;: null, &quot;tooltip_border_radius&quot;: 0, &quot;x_label_rotation&quot;: 0, &quot;show_y_guides&quot;: true, &quot;interpolate&quot;: null, &quot;y_title&quot;: null, &quot;interpolation_parameters&quot;: {}, &quot;js&quot;: [&quot;//kozea.github.io/pygal.js/2.0.x/pygal-tooltips.min.js&quot;], &quot;rounded_bars&quot;: null, &quot;dynamic_print_values&quot;: false, &quot;css&quot;: [&quot;file://style.css&quot;, &quot;file://graph.css&quot;], &quot;print_labels&quot;: false, &quot;formatter&quot;: null, &quot;no_data_text&quot;: &quot;No data&quot;, &quot;fill&quot;: false, &quot;margin_left&quot;: null, &quot;truncate_label&quot;: null, &quot;show_minor_x_labels&quot;: true, &quot;no_prefix&quot;: false, &quot;logarithmic&quot;: false, &quot;x_labels_major&quot;: null, &quot;y_labels_major&quot;: null, &quot;y_label_rotation&quot;: 0, &quot;range&quot;: [0, 3.5], &quot;inverse_y_axis&quot;: false}</script><script type=\"text/javascript\" xlink:href=\"https://kozea.github.io/pygal.js/2.0.x/pygal-tooltips.min.js\"/></defs><title>Время ходьбы до лофта от метро</title><g class=\"graph gauge-graph vertical\"><rect class=\"background\" height=\"600\" width=\"800\" x=\"0\" y=\"0\"/><g class=\"plot\" transform=\"translate(196, 46)\"><rect class=\"background\" height=\"534\" width=\"584.0\" x=\"0\" y=\"0\"/><g class=\"axis x gauge\"><g class=\"guides\"><path class=\"line\" d=\"M425.365385 478.218600 L432.384615 489.335368 Z\"/><path class=\"guide line major\" d=\"M292.000000 267.000000 L425.365385 478.218600 Z\"/><text x=\"418.34615384615387\" y=\"467.1018312782698\">0</text><title>0</title></g><g class=\"guides\"><path class=\"line\" d=\"M532.316119 372.821741 L544.964336 378.391306 Z\"/><path class=\"guide line \" d=\"M292.000000 267.000000 L532.316119 372.821741 Z\"/><text x=\"519.6679023891883\" y=\"367.25217549033584\">0.4</text><title>0.4</title></g><g class=\"guides\"><path class=\"line\" d=\"M555.751607 230.649451 L569.633270 228.736264 Z\"/><path class=\"guide line \" d=\"M292.000000 267.000000 L555.751607 230.649451 Z\"/><text x=\"541.8699433961191\" y=\"232.5626379210242\">0.8</text><title>0.8</title></g><g class=\"guides\"><path class=\"line\" d=\"M487.527490 101.109793 L497.818410 92.378730 Z\"/><path class=\"guide line \" d=\"M292.000000 267.000000 L487.527490 101.109793 Z\"/><text x=\"477.2365691508446\" y=\"109.84085684004629\">1.2</text><title>1.2</title></g><g class=\"guides\"><path class=\"line\" d=\"M351.353180 29.220707 L354.477031 16.706007 Z\"/><path class=\"guide line \" d=\"M292.000000 267.000000 L351.353180 29.220707 Z\"/><text x=\"348.2293283112687\" y=\"41.735406444911405\">1.6</text><title>1.6</title></g><g class=\"guides\"><path class=\"line\" d=\"M194.552308 39.965263 L189.423482 28.016066 Z\"/><path class=\"guide line \" d=\"M292.000000 267.000000 L194.552308 39.965263 Z\"/><text x=\"199.68113345818395\" y=\"51.914459808459355\">2</text><title>2</title></g><g class=\"guides\"><path class=\"line\" d=\"M71.616696 129.609488 L60.017575 122.378408 Z\"/><path class=\"guide line \" d=\"M292.000000 267.000000 L71.616696 129.609488 Z\"/><text x=\"83.21581741322733\" y=\"136.84056735318444\">2.4</text><title>2.4</title></g><g class=\"guides\"><path class=\"line\" d=\"M25.269231 267.000000 L11.230769 267.000000 Z\"/><path class=\"guide line \" d=\"M292.000000 267.000000 L25.269231 267.000000 Z\"/><text x=\"39.30769230769231\" y=\"266.99999999999994\">2.8</text><title>2.8</title></g><g class=\"guides\"><path class=\"line\" d=\"M71.616696 404.390512 L60.017575 411.621592 Z\"/><path class=\"guide line major\" d=\"M292.000000 267.000000 L71.616696 404.390512 Z\"/><text x=\"83.21581741322748\" y=\"397.1594326468158\">3.2</text><title>3.2</title></g></g><g class=\"axis y gauge\"><circle cx=\"292.0\" cy=\"267.0\" r=\"4\"/></g><g class=\"series serie-0 color-0\"><g class=\"dots\"><path class=\"line reactive tooltip-trigger\" d=\"M 507.019686 172.317390 L 296.402001 279.189141 A 0.050000 0.050000 1 0 1 284.322440 256.253232 Z\"/><desc class=\"value\">1</desc><desc class=\"x left\">481.7232519909902</desc><desc class=\"y left\">183.45652042472022</desc></g></g><g class=\"series serie-1 color-1\"><g class=\"dots\"><path class=\"line reactive tooltip-trigger\" d=\"M 198.203065 66.339588 L 305.514518 263.525799 A 0.050000 0.050000 1 0 1 279.914362 273.531013 Z\"/><desc class=\"value\">2.02</desc><desc class=\"x \">209.23799814210653</desc><desc class=\"y \">89.94669571785766</desc></g></g><g class=\"series serie-2 color-2\"><g class=\"dots\"><path class=\"line reactive tooltip-trigger\" d=\"M 191.680131 68.995139 L 305.394806 263.157675 A 0.050000 0.050000 1 0 1 280.133443 273.858683 Z\"/><desc class=\"value\">2.04</desc><desc class=\"x \">203.48246826942787</desc><desc class=\"y \">92.2898282815242</desc></g></g><g class=\"series serie-3 color-3\"><g class=\"dots\"><path class=\"line reactive tooltip-trigger\" d=\"M 185.246997 71.827930 L 305.263103 262.792991 A 0.050000 0.050000 1 0 1 280.363147 274.180214 Z\"/><desc class=\"value\">2.06</desc><desc class=\"x \">197.8061735758427</desc><desc class=\"y \">94.78935011040005</desc></g></g><g class=\"series serie-4 color-4\"><g class=\"dots\"><path class=\"line reactive tooltip-trigger\" d=\"M 178.909421 74.835427 L 305.119528 262.432072 A 0.050000 0.050000 1 0 1 280.603267 274.495317 Z\"/><desc class=\"value\">2.08</desc><desc class=\"x \">192.214195113859</desc><desc class=\"y \">97.44302379393093</desc></g></g><g class=\"series serie-5 color-5\"><g class=\"dots\"><path class=\"line reactive tooltip-trigger\" d=\"M 172.673077 78.014937 L 304.964209 262.075242 A 0.050000 0.050000 1 0 1 280.853589 274.803711 Z\"/><desc class=\"value\">2.1</desc><desc class=\"x \">186.7115384615383</desc><desc class=\"y \">100.24847393477529</desc></g></g><g class=\"series serie-6 color-6\"><g class=\"dots\"><path class=\"line reactive tooltip-trigger\" d=\"M 166.543546 81.363615 L 304.797286 261.722821 A 0.050000 0.050000 1 0 1 281.113888 275.105120 Z\"/><desc class=\"value\">2.12</desc><desc class=\"x \">181.30312924182638</desc><desc class=\"y \">103.20318927510601</desc></g></g><g class=\"series serie-7 color-7\"><g class=\"dots\"><path class=\"line reactive tooltip-trigger\" d=\"M 160.526317 84.878462 L 304.618907 261.375123 A 0.050000 0.050000 1 0 1 281.383931 275.399273 Z\"/><desc class=\"value\">2.14</desc><desc class=\"x \">175.99380871345156</desc><desc class=\"y \">106.30452494452794</desc></g></g><g class=\"series serie-8 color-8\"><g class=\"dots\"><path class=\"line reactive tooltip-trigger\" d=\"M 154.626773 88.556332 L 304.429233 261.032460 A 0.050000 0.050000 1 0 1 281.663478 275.685908 Z\"/><desc class=\"value\">2.16</desc><desc class=\"x \">170.78832943734358</desc><desc class=\"y \">109.54970482759398</desc></g></g><g class=\"series serie-9 color-9\"><g class=\"dots\"><path class=\"line reactive tooltip-trigger\" d=\"M 90.881402 384.479493 L 286.037909 255.378625 A 0.050000 0.050000 1 0 1 301.025884 276.831720 Z\"/><desc class=\"value\">3.18</desc><desc class=\"x top\">114.54241351419762</desc><desc class=\"y top\">370.6583758386147</desc></g></g></g><g class=\"titles\"><text class=\"title plot_title\" x=\"400.0\" y=\"26\">Время ходьбы до лофта от метро</text></g><g class=\"plot overlay\" transform=\"translate(196, 46)\"><g class=\"series serie-0 color-0\"/><g class=\"series serie-1 color-1\"/><g class=\"series serie-2 color-2\"/><g class=\"series serie-3 color-3\"/><g class=\"series serie-4 color-4\"/><g class=\"series serie-5 color-5\"/><g class=\"series serie-6 color-6\"/><g class=\"series serie-7 color-7\"/><g class=\"series serie-8 color-8\"/><g class=\"series serie-9 color-9\"/></g><g class=\"plot text-overlay\" transform=\"translate(196, 46)\"><g class=\"series serie-0 color-0\"/><g class=\"series serie-1 color-1\"/><g class=\"series serie-2 color-2\"/><g class=\"series serie-3 color-3\"/><g class=\"series serie-4 color-4\"/><g class=\"series serie-5 color-5\"/><g class=\"series serie-6 color-6\"/><g class=\"series serie-7 color-7\"/><g class=\"series serie-8 color-8\"/><g class=\"series serie-9 color-9\"/></g><g class=\"plot tooltip-overlay\" transform=\"translate(196, 46)\"><g class=\"tooltip\" style=\"opacity: 0\" transform=\"translate(0 0)\"><rect class=\"tooltip-box\" height=\"0\" rx=\"0\" ry=\"0\" width=\"0\"/><g class=\"text\"/></g></g><g class=\"legends\" transform=\"translate(10, 56)\"><g class=\"legend reactive activate-serie\" id=\"activate-serie-0\"><rect class=\"color-0 reactive\" height=\"12\" width=\"12\" x=\"0.0\" y=\"1.0\"/><text x=\"17.0\" y=\"11.2\">Яркий лофт в и…</text><title>Яркий лофт в индустриальном стиле</title></g><g class=\"legend reactive activate-serie\" id=\"activate-serie-1\"><rect class=\"color-1 reactive\" height=\"12\" width=\"12\" x=\"0.0\" y=\"22.0\"/><text x=\"17.0\" y=\"32.2\">Joys Lounge Bar</text></g><g class=\"legend reactive activate-serie\" id=\"activate-serie-2\"><rect class=\"color-2 reactive\" height=\"12\" width=\"12\" x=\"0.0\" y=\"43.0\"/><text x=\"17.0\" y=\"53.2\">Уютный лофт дл…</text><title>Уютный лофт для семейных торжеств и особых случаев</title></g><g class=\"legend reactive activate-serie\" id=\"activate-serie-3\"><rect class=\"color-3 reactive\" height=\"12\" width=\"12\" x=\"0.0\" y=\"64.0\"/><text x=\"17.0\" y=\"74.2\">Лофт с арками</text></g><g class=\"legend reactive activate-serie\" id=\"activate-serie-4\"><rect class=\"color-4 reactive\" height=\"12\" width=\"12\" x=\"0.0\" y=\"85.0\"/><text x=\"17.0\" y=\"95.2\">IronCage</text></g><g class=\"legend reactive activate-serie\" id=\"activate-serie-5\"><rect class=\"color-5 reactive\" height=\"12\" width=\"12\" x=\"0.0\" y=\"106.0\"/><text x=\"17.0\" y=\"116.2\">Modul V</text></g><g class=\"legend reactive activate-serie\" id=\"activate-serie-6\"><rect class=\"color-6 reactive\" height=\"12\" width=\"12\" x=\"0.0\" y=\"127.0\"/><text x=\"17.0\" y=\"137.2\">IronCage Конфе…</text><title>IronCage Конференц зал</title></g><g class=\"legend reactive activate-serie\" id=\"activate-serie-7\"><rect class=\"color-7 reactive\" height=\"12\" width=\"12\" x=\"0.0\" y=\"148.0\"/><text x=\"17.0\" y=\"158.2\">Уютный лофт на…</text><title>Уютный лофт на Китай-городе</title></g><g class=\"legend reactive activate-serie\" id=\"activate-serie-8\"><rect class=\"color-8 reactive\" height=\"12\" width=\"12\" x=\"0.0\" y=\"169.0\"/><text x=\"17.0\" y=\"179.2\">Лофт для бизне…</text><title>Лофт для бизнес-мероприятий на Шаболовке</title></g><g class=\"legend reactive activate-serie\" id=\"activate-serie-9\"><rect class=\"color-9 reactive\" height=\"12\" width=\"12\" x=\"0.0\" y=\"190.0\"/><text x=\"17.0\" y=\"200.2\">Стильный лофт …</text><title>Стильный лофт для отдыха и творческих мероприятий</title></g></g><g class=\"legends\" transform=\"translate(790, 56)\"/></g></svg>"
      ],
      "text/plain": [
       "<IPython.core.display.SVG object>"
      ]
     },
     "metadata": {},
     "output_type": "display_data"
    }
   ],
   "source": [
    "df_otmetro = dfc[['Name', 'OtMetro']]\n",
    "df_otmetro = df_otmetro[df_otmetro.OtMetro != 0]\n",
    "df_otmetro = df_otmetro.sort_values(by='OtMetro')\n",
    "\n",
    "import pygal\n",
    "#line_chart = pygal.HorizontalBar()\n",
    "chart = pygal.Gauge(human_readable=True)\n",
    "chart.range = [0, max(df_otmetro['OtMetro'].values[:MAX]+0.5)]\n",
    "chart.title = 'Время ходьбы до лофта от метро'\n",
    "i = 0\n",
    "for i in list(range(MAX)):\n",
    "    chart.add(df_otmetro['Name'].values[i], df_otmetro['OtMetro'].values[i]+0.02*i)\n",
    "    i+=1\n",
    "from IPython.display import SVG\n",
    "display(SVG(chart.render()))\n"
   ]
  },
  {
   "cell_type": "markdown",
   "metadata": {},
   "source": [
    "### Распределение по вместительности лофтов"
   ]
  },
  {
   "cell_type": "code",
   "execution_count": 24,
   "metadata": {},
   "outputs": [
    {
     "data": {
      "application/vnd.plotly.v1+json": {
       "data": [
        {
         "type": "bar",
         "x": [
          "Большой лофт для масштабных мероприятий",
          "Модуль 340",
          "Мультимедийный зал на Флаконе",
          "Просторный лаунж-лофт",
          "Компактный лофт для оригинальных фотосессий",
          "Атмосферная фотостудия на Шаболовской",
          "Куб",
          "Просторный лофт в два этажа на Чистых прудах",
          "Лофт для бизнес-мероприятий на Шаболовке",
          "Барный лекторий на Трехгорке"
         ],
         "y": [
          800,
          500,
          500,
          400,
          300,
          300,
          300,
          300,
          300,
          250
         ]
        }
       ],
       "layout": {
        "title": "Вместительность"
       }
      },
      "text/html": [
       "<div id=\"384764f6-d54e-42d0-a70b-77d4c5b3c46e\" style=\"height: 525px; width: 100%;\" class=\"plotly-graph-div\"></div><script type=\"text/javascript\">require([\"plotly\"], function(Plotly) { window.PLOTLYENV=window.PLOTLYENV || {};window.PLOTLYENV.BASE_URL=\"https://plot.ly\";Plotly.newPlot(\"384764f6-d54e-42d0-a70b-77d4c5b3c46e\", [{\"x\": [\"\\u0411\\u043e\\u043b\\u044c\\u0448\\u043e\\u0439 \\u043b\\u043e\\u0444\\u0442 \\u0434\\u043b\\u044f \\u043c\\u0430\\u0441\\u0448\\u0442\\u0430\\u0431\\u043d\\u044b\\u0445 \\u043c\\u0435\\u0440\\u043e\\u043f\\u0440\\u0438\\u044f\\u0442\\u0438\\u0439\", \"\\u041c\\u043e\\u0434\\u0443\\u043b\\u044c 340\", \"\\u041c\\u0443\\u043b\\u044c\\u0442\\u0438\\u043c\\u0435\\u0434\\u0438\\u0439\\u043d\\u044b\\u0439 \\u0437\\u0430\\u043b \\u043d\\u0430 \\u0424\\u043b\\u0430\\u043a\\u043e\\u043d\\u0435\", \"\\u041f\\u0440\\u043e\\u0441\\u0442\\u043e\\u0440\\u043d\\u044b\\u0439 \\u043b\\u0430\\u0443\\u043d\\u0436-\\u043b\\u043e\\u0444\\u0442\", \"\\u041a\\u043e\\u043c\\u043f\\u0430\\u043a\\u0442\\u043d\\u044b\\u0439 \\u043b\\u043e\\u0444\\u0442 \\u0434\\u043b\\u044f \\u043e\\u0440\\u0438\\u0433\\u0438\\u043d\\u0430\\u043b\\u044c\\u043d\\u044b\\u0445 \\u0444\\u043e\\u0442\\u043e\\u0441\\u0435\\u0441\\u0441\\u0438\\u0439\", \"\\u0410\\u0442\\u043c\\u043e\\u0441\\u0444\\u0435\\u0440\\u043d\\u0430\\u044f \\u0444\\u043e\\u0442\\u043e\\u0441\\u0442\\u0443\\u0434\\u0438\\u044f \\u043d\\u0430 \\u0428\\u0430\\u0431\\u043e\\u043b\\u043e\\u0432\\u0441\\u043a\\u043e\\u0439\", \"\\u041a\\u0443\\u0431\", \"\\u041f\\u0440\\u043e\\u0441\\u0442\\u043e\\u0440\\u043d\\u044b\\u0439 \\u043b\\u043e\\u0444\\u0442 \\u0432 \\u0434\\u0432\\u0430 \\u044d\\u0442\\u0430\\u0436\\u0430 \\u043d\\u0430 \\u0427\\u0438\\u0441\\u0442\\u044b\\u0445 \\u043f\\u0440\\u0443\\u0434\\u0430\\u0445\", \"\\u041b\\u043e\\u0444\\u0442 \\u0434\\u043b\\u044f \\u0431\\u0438\\u0437\\u043d\\u0435\\u0441-\\u043c\\u0435\\u0440\\u043e\\u043f\\u0440\\u0438\\u044f\\u0442\\u0438\\u0439 \\u043d\\u0430 \\u0428\\u0430\\u0431\\u043e\\u043b\\u043e\\u0432\\u043a\\u0435\", \"\\u0411\\u0430\\u0440\\u043d\\u044b\\u0439 \\u043b\\u0435\\u043a\\u0442\\u043e\\u0440\\u0438\\u0439 \\u043d\\u0430 \\u0422\\u0440\\u0435\\u0445\\u0433\\u043e\\u0440\\u043a\\u0435\"], \"y\": [800, 500, 500, 400, 300, 300, 300, 300, 300, 250], \"type\": \"bar\"}], {\"title\": \"\\u0412\\u043c\\u0435\\u0441\\u0442\\u0438\\u0442\\u0435\\u043b\\u044c\\u043d\\u043e\\u0441\\u0442\\u044c\"}, {\"showLink\": true, \"linkText\": \"Export to plot.ly\"})});</script>"
      ],
      "text/vnd.plotly.v1+html": [
       "<div id=\"384764f6-d54e-42d0-a70b-77d4c5b3c46e\" style=\"height: 525px; width: 100%;\" class=\"plotly-graph-div\"></div><script type=\"text/javascript\">require([\"plotly\"], function(Plotly) { window.PLOTLYENV=window.PLOTLYENV || {};window.PLOTLYENV.BASE_URL=\"https://plot.ly\";Plotly.newPlot(\"384764f6-d54e-42d0-a70b-77d4c5b3c46e\", [{\"x\": [\"\\u0411\\u043e\\u043b\\u044c\\u0448\\u043e\\u0439 \\u043b\\u043e\\u0444\\u0442 \\u0434\\u043b\\u044f \\u043c\\u0430\\u0441\\u0448\\u0442\\u0430\\u0431\\u043d\\u044b\\u0445 \\u043c\\u0435\\u0440\\u043e\\u043f\\u0440\\u0438\\u044f\\u0442\\u0438\\u0439\", \"\\u041c\\u043e\\u0434\\u0443\\u043b\\u044c 340\", \"\\u041c\\u0443\\u043b\\u044c\\u0442\\u0438\\u043c\\u0435\\u0434\\u0438\\u0439\\u043d\\u044b\\u0439 \\u0437\\u0430\\u043b \\u043d\\u0430 \\u0424\\u043b\\u0430\\u043a\\u043e\\u043d\\u0435\", \"\\u041f\\u0440\\u043e\\u0441\\u0442\\u043e\\u0440\\u043d\\u044b\\u0439 \\u043b\\u0430\\u0443\\u043d\\u0436-\\u043b\\u043e\\u0444\\u0442\", \"\\u041a\\u043e\\u043c\\u043f\\u0430\\u043a\\u0442\\u043d\\u044b\\u0439 \\u043b\\u043e\\u0444\\u0442 \\u0434\\u043b\\u044f \\u043e\\u0440\\u0438\\u0433\\u0438\\u043d\\u0430\\u043b\\u044c\\u043d\\u044b\\u0445 \\u0444\\u043e\\u0442\\u043e\\u0441\\u0435\\u0441\\u0441\\u0438\\u0439\", \"\\u0410\\u0442\\u043c\\u043e\\u0441\\u0444\\u0435\\u0440\\u043d\\u0430\\u044f \\u0444\\u043e\\u0442\\u043e\\u0441\\u0442\\u0443\\u0434\\u0438\\u044f \\u043d\\u0430 \\u0428\\u0430\\u0431\\u043e\\u043b\\u043e\\u0432\\u0441\\u043a\\u043e\\u0439\", \"\\u041a\\u0443\\u0431\", \"\\u041f\\u0440\\u043e\\u0441\\u0442\\u043e\\u0440\\u043d\\u044b\\u0439 \\u043b\\u043e\\u0444\\u0442 \\u0432 \\u0434\\u0432\\u0430 \\u044d\\u0442\\u0430\\u0436\\u0430 \\u043d\\u0430 \\u0427\\u0438\\u0441\\u0442\\u044b\\u0445 \\u043f\\u0440\\u0443\\u0434\\u0430\\u0445\", \"\\u041b\\u043e\\u0444\\u0442 \\u0434\\u043b\\u044f \\u0431\\u0438\\u0437\\u043d\\u0435\\u0441-\\u043c\\u0435\\u0440\\u043e\\u043f\\u0440\\u0438\\u044f\\u0442\\u0438\\u0439 \\u043d\\u0430 \\u0428\\u0430\\u0431\\u043e\\u043b\\u043e\\u0432\\u043a\\u0435\", \"\\u0411\\u0430\\u0440\\u043d\\u044b\\u0439 \\u043b\\u0435\\u043a\\u0442\\u043e\\u0440\\u0438\\u0439 \\u043d\\u0430 \\u0422\\u0440\\u0435\\u0445\\u0433\\u043e\\u0440\\u043a\\u0435\"], \"y\": [800, 500, 500, 400, 300, 300, 300, 300, 300, 250], \"type\": \"bar\"}], {\"title\": \"\\u0412\\u043c\\u0435\\u0441\\u0442\\u0438\\u0442\\u0435\\u043b\\u044c\\u043d\\u043e\\u0441\\u0442\\u044c\"}, {\"showLink\": true, \"linkText\": \"Export to plot.ly\"})});</script>"
      ]
     },
     "metadata": {},
     "output_type": "display_data"
    }
   ],
   "source": [
    "df_vmest = dfc[['Name', 'Vmestimost']]\n",
    "df_vmest = df_vmest[df_vmest.Vmestimost != 0]\n",
    "df_vmest = df_vmest.sort_values(by='Vmestimost', ascending=False)\n",
    "\n",
    "\n",
    "data = go.Bar(x=df_vmest['Name'].values[:MAX], y=df_vmest['Vmestimost'].values[:MAX])\n",
    "layout = {'title': 'Вместительность'}\n",
    "fig = go.Figure(data=[data], layout=layout)\n",
    "iplot(fig)"
   ]
  },
  {
   "cell_type": "markdown",
   "metadata": {},
   "source": [
    "### Распределение по максимальной площади лофта"
   ]
  },
  {
   "cell_type": "code",
   "execution_count": 25,
   "metadata": {},
   "outputs": [
    {
     "data": {
      "application/vnd.plotly.v1+json": {
       "data": [
        {
         "labels": [
          "wake4you",
          "Просторный пентхаус для деловых встреч и отдыха",
          "Большой лофт для масштабных мероприятий",
          "Мультимедийный зал на Флаконе",
          "Лофт для бизнес-мероприятий на Шаболовке",
          "Просторный лофт в два этажа на Чистых прудах",
          "Модуль 340",
          "IronCage",
          "Просторный лаунж-лофт",
          "Стильный лофт для проведения мероприятий"
         ],
         "type": "pie",
         "values": [
          10002,
          9902,
          8002,
          7002,
          6002,
          5202,
          3402,
          3002,
          2772,
          2702
         ]
        }
       ],
       "layout": {
        "title": "Распределение по площади"
       }
      },
      "text/html": [
       "<div id=\"4ca1fb95-e73f-47c3-9bee-8270d4d5b620\" style=\"height: 525px; width: 100%;\" class=\"plotly-graph-div\"></div><script type=\"text/javascript\">require([\"plotly\"], function(Plotly) { window.PLOTLYENV=window.PLOTLYENV || {};window.PLOTLYENV.BASE_URL=\"https://plot.ly\";Plotly.newPlot(\"4ca1fb95-e73f-47c3-9bee-8270d4d5b620\", [{\"values\": [10002, 9902, 8002, 7002, 6002, 5202, 3402, 3002, 2772, 2702], \"labels\": [\"wake4you\", \"\\u041f\\u0440\\u043e\\u0441\\u0442\\u043e\\u0440\\u043d\\u044b\\u0439 \\u043f\\u0435\\u043d\\u0442\\u0445\\u0430\\u0443\\u0441 \\u0434\\u043b\\u044f \\u0434\\u0435\\u043b\\u043e\\u0432\\u044b\\u0445 \\u0432\\u0441\\u0442\\u0440\\u0435\\u0447 \\u0438 \\u043e\\u0442\\u0434\\u044b\\u0445\\u0430\", \"\\u0411\\u043e\\u043b\\u044c\\u0448\\u043e\\u0439 \\u043b\\u043e\\u0444\\u0442 \\u0434\\u043b\\u044f \\u043c\\u0430\\u0441\\u0448\\u0442\\u0430\\u0431\\u043d\\u044b\\u0445 \\u043c\\u0435\\u0440\\u043e\\u043f\\u0440\\u0438\\u044f\\u0442\\u0438\\u0439\", \"\\u041c\\u0443\\u043b\\u044c\\u0442\\u0438\\u043c\\u0435\\u0434\\u0438\\u0439\\u043d\\u044b\\u0439 \\u0437\\u0430\\u043b \\u043d\\u0430 \\u0424\\u043b\\u0430\\u043a\\u043e\\u043d\\u0435\", \"\\u041b\\u043e\\u0444\\u0442 \\u0434\\u043b\\u044f \\u0431\\u0438\\u0437\\u043d\\u0435\\u0441-\\u043c\\u0435\\u0440\\u043e\\u043f\\u0440\\u0438\\u044f\\u0442\\u0438\\u0439 \\u043d\\u0430 \\u0428\\u0430\\u0431\\u043e\\u043b\\u043e\\u0432\\u043a\\u0435\", \"\\u041f\\u0440\\u043e\\u0441\\u0442\\u043e\\u0440\\u043d\\u044b\\u0439 \\u043b\\u043e\\u0444\\u0442 \\u0432 \\u0434\\u0432\\u0430 \\u044d\\u0442\\u0430\\u0436\\u0430 \\u043d\\u0430 \\u0427\\u0438\\u0441\\u0442\\u044b\\u0445 \\u043f\\u0440\\u0443\\u0434\\u0430\\u0445\", \"\\u041c\\u043e\\u0434\\u0443\\u043b\\u044c 340\", \"IronCage\", \"\\u041f\\u0440\\u043e\\u0441\\u0442\\u043e\\u0440\\u043d\\u044b\\u0439 \\u043b\\u0430\\u0443\\u043d\\u0436-\\u043b\\u043e\\u0444\\u0442\", \"\\u0421\\u0442\\u0438\\u043b\\u044c\\u043d\\u044b\\u0439 \\u043b\\u043e\\u0444\\u0442 \\u0434\\u043b\\u044f \\u043f\\u0440\\u043e\\u0432\\u0435\\u0434\\u0435\\u043d\\u0438\\u044f \\u043c\\u0435\\u0440\\u043e\\u043f\\u0440\\u0438\\u044f\\u0442\\u0438\\u0439\"], \"type\": \"pie\"}], {\"title\": \"\\u0420\\u0430\\u0441\\u043f\\u0440\\u0435\\u0434\\u0435\\u043b\\u0435\\u043d\\u0438\\u0435 \\u043f\\u043e \\u043f\\u043b\\u043e\\u0449\\u0430\\u0434\\u0438\"}, {\"showLink\": true, \"linkText\": \"Export to plot.ly\"})});</script>"
      ],
      "text/vnd.plotly.v1+html": [
       "<div id=\"4ca1fb95-e73f-47c3-9bee-8270d4d5b620\" style=\"height: 525px; width: 100%;\" class=\"plotly-graph-div\"></div><script type=\"text/javascript\">require([\"plotly\"], function(Plotly) { window.PLOTLYENV=window.PLOTLYENV || {};window.PLOTLYENV.BASE_URL=\"https://plot.ly\";Plotly.newPlot(\"4ca1fb95-e73f-47c3-9bee-8270d4d5b620\", [{\"values\": [10002, 9902, 8002, 7002, 6002, 5202, 3402, 3002, 2772, 2702], \"labels\": [\"wake4you\", \"\\u041f\\u0440\\u043e\\u0441\\u0442\\u043e\\u0440\\u043d\\u044b\\u0439 \\u043f\\u0435\\u043d\\u0442\\u0445\\u0430\\u0443\\u0441 \\u0434\\u043b\\u044f \\u0434\\u0435\\u043b\\u043e\\u0432\\u044b\\u0445 \\u0432\\u0441\\u0442\\u0440\\u0435\\u0447 \\u0438 \\u043e\\u0442\\u0434\\u044b\\u0445\\u0430\", \"\\u0411\\u043e\\u043b\\u044c\\u0448\\u043e\\u0439 \\u043b\\u043e\\u0444\\u0442 \\u0434\\u043b\\u044f \\u043c\\u0430\\u0441\\u0448\\u0442\\u0430\\u0431\\u043d\\u044b\\u0445 \\u043c\\u0435\\u0440\\u043e\\u043f\\u0440\\u0438\\u044f\\u0442\\u0438\\u0439\", \"\\u041c\\u0443\\u043b\\u044c\\u0442\\u0438\\u043c\\u0435\\u0434\\u0438\\u0439\\u043d\\u044b\\u0439 \\u0437\\u0430\\u043b \\u043d\\u0430 \\u0424\\u043b\\u0430\\u043a\\u043e\\u043d\\u0435\", \"\\u041b\\u043e\\u0444\\u0442 \\u0434\\u043b\\u044f \\u0431\\u0438\\u0437\\u043d\\u0435\\u0441-\\u043c\\u0435\\u0440\\u043e\\u043f\\u0440\\u0438\\u044f\\u0442\\u0438\\u0439 \\u043d\\u0430 \\u0428\\u0430\\u0431\\u043e\\u043b\\u043e\\u0432\\u043a\\u0435\", \"\\u041f\\u0440\\u043e\\u0441\\u0442\\u043e\\u0440\\u043d\\u044b\\u0439 \\u043b\\u043e\\u0444\\u0442 \\u0432 \\u0434\\u0432\\u0430 \\u044d\\u0442\\u0430\\u0436\\u0430 \\u043d\\u0430 \\u0427\\u0438\\u0441\\u0442\\u044b\\u0445 \\u043f\\u0440\\u0443\\u0434\\u0430\\u0445\", \"\\u041c\\u043e\\u0434\\u0443\\u043b\\u044c 340\", \"IronCage\", \"\\u041f\\u0440\\u043e\\u0441\\u0442\\u043e\\u0440\\u043d\\u044b\\u0439 \\u043b\\u0430\\u0443\\u043d\\u0436-\\u043b\\u043e\\u0444\\u0442\", \"\\u0421\\u0442\\u0438\\u043b\\u044c\\u043d\\u044b\\u0439 \\u043b\\u043e\\u0444\\u0442 \\u0434\\u043b\\u044f \\u043f\\u0440\\u043e\\u0432\\u0435\\u0434\\u0435\\u043d\\u0438\\u044f \\u043c\\u0435\\u0440\\u043e\\u043f\\u0440\\u0438\\u044f\\u0442\\u0438\\u0439\"], \"type\": \"pie\"}], {\"title\": \"\\u0420\\u0430\\u0441\\u043f\\u0440\\u0435\\u0434\\u0435\\u043b\\u0435\\u043d\\u0438\\u0435 \\u043f\\u043e \\u043f\\u043b\\u043e\\u0449\\u0430\\u0434\\u0438\"}, {\"showLink\": true, \"linkText\": \"Export to plot.ly\"})});</script>"
      ]
     },
     "metadata": {},
     "output_type": "display_data"
    }
   ],
   "source": [
    "df_area = dfc[['Name', 'Area']]\n",
    "df_area = df_area[df_area.Area != 0]\n",
    "df_area = df_area.sort_values(by='Area', ascending=False)\n",
    "\n",
    "\n",
    "data = go.Pie(labels=df_area['Name'].values[:MAX], values=df_area['Area'].values[:MAX])\n",
    "layout = {'title': 'Распределение по площади'}\n",
    "fig = go.Figure(data=[data], layout=layout)\n",
    "iplot(fig)"
   ]
  },
  {
   "cell_type": "markdown",
   "metadata": {},
   "source": [
    "### Количество мест для сидения в лофте"
   ]
  },
  {
   "cell_type": "code",
   "execution_count": 26,
   "metadata": {},
   "outputs": [
    {
     "data": {
      "application/vnd.plotly.v1+json": {
       "data": [
        {
         "labels": [
          "Большой лофт для масштабных мероприятий",
          "Просторный лаунж-лофт",
          "Мультимедийный зал на Флаконе",
          "Танцевальный зал на Шаболовке",
          "Куб",
          "Mira Deluxe",
          "Модуль 340",
          "Просторный белый зал со сценой и большим экраном",
          "Лофт для event-мероприятий на Алексеевской",
          "Modul V"
         ],
         "type": "pie",
         "values": [
          700,
          350,
          300,
          300,
          220,
          200,
          200,
          180,
          170,
          150
         ]
        }
       ],
       "layout": {
        "title": "Востребованность языков программирования среди работодателей"
       }
      },
      "text/html": [
       "<div id=\"ae6f3eab-1fb0-4fe9-a32a-f4aa99c88485\" style=\"height: 525px; width: 100%;\" class=\"plotly-graph-div\"></div><script type=\"text/javascript\">require([\"plotly\"], function(Plotly) { window.PLOTLYENV=window.PLOTLYENV || {};window.PLOTLYENV.BASE_URL=\"https://plot.ly\";Plotly.newPlot(\"ae6f3eab-1fb0-4fe9-a32a-f4aa99c88485\", [{\"values\": [700, 350, 300, 300, 220, 200, 200, 180, 170, 150], \"labels\": [\"\\u0411\\u043e\\u043b\\u044c\\u0448\\u043e\\u0439 \\u043b\\u043e\\u0444\\u0442 \\u0434\\u043b\\u044f \\u043c\\u0430\\u0441\\u0448\\u0442\\u0430\\u0431\\u043d\\u044b\\u0445 \\u043c\\u0435\\u0440\\u043e\\u043f\\u0440\\u0438\\u044f\\u0442\\u0438\\u0439\", \"\\u041f\\u0440\\u043e\\u0441\\u0442\\u043e\\u0440\\u043d\\u044b\\u0439 \\u043b\\u0430\\u0443\\u043d\\u0436-\\u043b\\u043e\\u0444\\u0442\", \"\\u041c\\u0443\\u043b\\u044c\\u0442\\u0438\\u043c\\u0435\\u0434\\u0438\\u0439\\u043d\\u044b\\u0439 \\u0437\\u0430\\u043b \\u043d\\u0430 \\u0424\\u043b\\u0430\\u043a\\u043e\\u043d\\u0435\", \"\\u0422\\u0430\\u043d\\u0446\\u0435\\u0432\\u0430\\u043b\\u044c\\u043d\\u044b\\u0439 \\u0437\\u0430\\u043b \\u043d\\u0430 \\u0428\\u0430\\u0431\\u043e\\u043b\\u043e\\u0432\\u043a\\u0435\", \"\\u041a\\u0443\\u0431\", \"Mira Deluxe\", \"\\u041c\\u043e\\u0434\\u0443\\u043b\\u044c 340\", \"\\u041f\\u0440\\u043e\\u0441\\u0442\\u043e\\u0440\\u043d\\u044b\\u0439 \\u0431\\u0435\\u043b\\u044b\\u0439 \\u0437\\u0430\\u043b \\u0441\\u043e \\u0441\\u0446\\u0435\\u043d\\u043e\\u0439 \\u0438 \\u0431\\u043e\\u043b\\u044c\\u0448\\u0438\\u043c \\u044d\\u043a\\u0440\\u0430\\u043d\\u043e\\u043c\", \"\\u041b\\u043e\\u0444\\u0442 \\u0434\\u043b\\u044f event-\\u043c\\u0435\\u0440\\u043e\\u043f\\u0440\\u0438\\u044f\\u0442\\u0438\\u0439 \\u043d\\u0430 \\u0410\\u043b\\u0435\\u043a\\u0441\\u0435\\u0435\\u0432\\u0441\\u043a\\u043e\\u0439\", \"Modul V\"], \"type\": \"pie\"}], {\"title\": \"\\u0412\\u043e\\u0441\\u0442\\u0440\\u0435\\u0431\\u043e\\u0432\\u0430\\u043d\\u043d\\u043e\\u0441\\u0442\\u044c \\u044f\\u0437\\u044b\\u043a\\u043e\\u0432 \\u043f\\u0440\\u043e\\u0433\\u0440\\u0430\\u043c\\u043c\\u0438\\u0440\\u043e\\u0432\\u0430\\u043d\\u0438\\u044f \\u0441\\u0440\\u0435\\u0434\\u0438 \\u0440\\u0430\\u0431\\u043e\\u0442\\u043e\\u0434\\u0430\\u0442\\u0435\\u043b\\u0435\\u0439\"}, {\"showLink\": true, \"linkText\": \"Export to plot.ly\"})});</script>"
      ],
      "text/vnd.plotly.v1+html": [
       "<div id=\"ae6f3eab-1fb0-4fe9-a32a-f4aa99c88485\" style=\"height: 525px; width: 100%;\" class=\"plotly-graph-div\"></div><script type=\"text/javascript\">require([\"plotly\"], function(Plotly) { window.PLOTLYENV=window.PLOTLYENV || {};window.PLOTLYENV.BASE_URL=\"https://plot.ly\";Plotly.newPlot(\"ae6f3eab-1fb0-4fe9-a32a-f4aa99c88485\", [{\"values\": [700, 350, 300, 300, 220, 200, 200, 180, 170, 150], \"labels\": [\"\\u0411\\u043e\\u043b\\u044c\\u0448\\u043e\\u0439 \\u043b\\u043e\\u0444\\u0442 \\u0434\\u043b\\u044f \\u043c\\u0430\\u0441\\u0448\\u0442\\u0430\\u0431\\u043d\\u044b\\u0445 \\u043c\\u0435\\u0440\\u043e\\u043f\\u0440\\u0438\\u044f\\u0442\\u0438\\u0439\", \"\\u041f\\u0440\\u043e\\u0441\\u0442\\u043e\\u0440\\u043d\\u044b\\u0439 \\u043b\\u0430\\u0443\\u043d\\u0436-\\u043b\\u043e\\u0444\\u0442\", \"\\u041c\\u0443\\u043b\\u044c\\u0442\\u0438\\u043c\\u0435\\u0434\\u0438\\u0439\\u043d\\u044b\\u0439 \\u0437\\u0430\\u043b \\u043d\\u0430 \\u0424\\u043b\\u0430\\u043a\\u043e\\u043d\\u0435\", \"\\u0422\\u0430\\u043d\\u0446\\u0435\\u0432\\u0430\\u043b\\u044c\\u043d\\u044b\\u0439 \\u0437\\u0430\\u043b \\u043d\\u0430 \\u0428\\u0430\\u0431\\u043e\\u043b\\u043e\\u0432\\u043a\\u0435\", \"\\u041a\\u0443\\u0431\", \"Mira Deluxe\", \"\\u041c\\u043e\\u0434\\u0443\\u043b\\u044c 340\", \"\\u041f\\u0440\\u043e\\u0441\\u0442\\u043e\\u0440\\u043d\\u044b\\u0439 \\u0431\\u0435\\u043b\\u044b\\u0439 \\u0437\\u0430\\u043b \\u0441\\u043e \\u0441\\u0446\\u0435\\u043d\\u043e\\u0439 \\u0438 \\u0431\\u043e\\u043b\\u044c\\u0448\\u0438\\u043c \\u044d\\u043a\\u0440\\u0430\\u043d\\u043e\\u043c\", \"\\u041b\\u043e\\u0444\\u0442 \\u0434\\u043b\\u044f event-\\u043c\\u0435\\u0440\\u043e\\u043f\\u0440\\u0438\\u044f\\u0442\\u0438\\u0439 \\u043d\\u0430 \\u0410\\u043b\\u0435\\u043a\\u0441\\u0435\\u0435\\u0432\\u0441\\u043a\\u043e\\u0439\", \"Modul V\"], \"type\": \"pie\"}], {\"title\": \"\\u0412\\u043e\\u0441\\u0442\\u0440\\u0435\\u0431\\u043e\\u0432\\u0430\\u043d\\u043d\\u043e\\u0441\\u0442\\u044c \\u044f\\u0437\\u044b\\u043a\\u043e\\u0432 \\u043f\\u0440\\u043e\\u0433\\u0440\\u0430\\u043c\\u043c\\u0438\\u0440\\u043e\\u0432\\u0430\\u043d\\u0438\\u044f \\u0441\\u0440\\u0435\\u0434\\u0438 \\u0440\\u0430\\u0431\\u043e\\u0442\\u043e\\u0434\\u0430\\u0442\\u0435\\u043b\\u0435\\u0439\"}, {\"showLink\": true, \"linkText\": \"Export to plot.ly\"})});</script>"
      ]
     },
     "metadata": {},
     "output_type": "display_data"
    }
   ],
   "source": [
    "df_foot = dfc[['Name', 'Footprint']]\n",
    "df_foot = df_foot[df_foot.Footprint != 0]\n",
    "df_foot = df_foot.sort_values(by='Footprint', ascending=False)\n",
    "\n",
    "\n",
    "data = go.Pie(labels=df_foot['Name'].values[:MAX], values=df_foot['Footprint'].values[:MAX])\n",
    "layout = {'title': 'Востребованность языков программирования среди работодателей'}\n",
    "fig = go.Figure(data=[data], layout=layout)\n",
    "iplot(fig)"
   ]
  },
  {
   "cell_type": "markdown",
   "metadata": {},
   "source": [
    "### Выбор оптимального лофта"
   ]
  },
  {
   "cell_type": "code",
   "execution_count": 27,
   "metadata": {},
   "outputs": [],
   "source": [
    "d = dict()\n",
    "for name in dfl['Name']:\n",
    "    d[name] = 0\n",
    "\n",
    "names = df_price['Name'].tolist()\n",
    "names.reverse()\n",
    "i = 0\n",
    "for name in names:\n",
    "    d[name] = d[name] + 0.1*i\n",
    "    i += 1\n",
    "\n",
    "names = df_otmetro['Name'].tolist()\n",
    "names.reverse()\n",
    "i = 0\n",
    "for name in names:\n",
    "    d[name] = d[name] + 1*i\n",
    "    i += 1\n",
    "\n",
    "    \n",
    "names = df_vmest['Name'].tolist()\n",
    "names.reverse()\n",
    "i = 0\n",
    "for name in names:\n",
    "    d[name] = d[name] + 3*i\n",
    "    i += 1\n",
    "\n",
    "    \n",
    "names = df_area['Name'].tolist()\n",
    "names.reverse()\n",
    "i = 0\n",
    "for name in names:\n",
    "    d[name] = d[name] + 3*i\n",
    "    i += 1\n",
    "\n",
    "names = df_foot['Name'].tolist()\n",
    "names.reverse()\n",
    "i = 0\n",
    "for name in names:\n",
    "    d[name] = d[name] + 0.5*i\n",
    "    i += 1"
   ]
  },
  {
   "cell_type": "code",
   "execution_count": 28,
   "metadata": {},
   "outputs": [
    {
     "name": "stdout",
     "output_type": "stream",
     "text": [
      "1009.6\n",
      "Мультимедийный зал на Флаконе\n"
     ]
    }
   ],
   "source": [
    "max_mark = max(d.values())\n",
    "print(max_mark)\n",
    "for k in d.keys():\n",
    "    if d[k] == max_mark:\n",
    "        lider = k\n",
    "print(lider)"
   ]
  },
  {
   "cell_type": "code",
   "execution_count": 29,
   "metadata": {},
   "outputs": [
    {
     "name": "stdout",
     "output_type": "stream",
     "text": [
      "94\n"
     ]
    }
   ],
   "source": [
    "lider_index = dfl['Name'].tolist().index(lider)\n",
    "print(lider_index)"
   ]
  },
  {
   "cell_type": "code",
   "execution_count": 34,
   "metadata": {},
   "outputs": [
    {
     "data": {
      "text/html": [
       "<div>\n",
       "<table border=\"1\" class=\"dataframe\">\n",
       "  <thead>\n",
       "    <tr style=\"text-align: right;\">\n",
       "      <th></th>\n",
       "      <th>Price</th>\n",
       "      <th>Metro</th>\n",
       "      <th>Name</th>\n",
       "      <th>Vmestimost</th>\n",
       "      <th>Area</th>\n",
       "      <th>Footprint</th>\n",
       "      <th>OtMetro</th>\n",
       "    </tr>\n",
       "  </thead>\n",
       "  <tbody>\n",
       "    <tr>\n",
       "      <th>94</th>\n",
       "      <td>14000</td>\n",
       "      <td>Дмитровская</td>\n",
       "      <td>Мультимедийный зал на Флаконе</td>\n",
       "      <td>500</td>\n",
       "      <td>7002</td>\n",
       "      <td>300</td>\n",
       "      <td>3</td>\n",
       "    </tr>\n",
       "  </tbody>\n",
       "</table>\n",
       "</div>"
      ],
      "text/plain": [
       "    Price        Metro                           Name Vmestimost  Area  \\\n",
       "94  14000  Дмитровская  Мультимедийный зал на Флаконе        500  7002   \n",
       "\n",
       "   Footprint OtMetro  \n",
       "94       300       3  "
      ]
     },
     "execution_count": 34,
     "metadata": {},
     "output_type": "execute_result"
    }
   ],
   "source": [
    "dd = dfl.loc[dfl['Name'].str.find(lider) != -1]\n",
    "dd.head()"
   ]
  },
  {
   "cell_type": "code",
   "execution_count": null,
   "metadata": {},
   "outputs": [],
   "source": []
  }
 ],
 "metadata": {
  "colab": {
   "name": "Untitled0.ipynb",
   "provenance": [],
   "version": "0.3.2"
  },
  "kernelspec": {
   "display_name": "Python 3",
   "language": "python",
   "name": "python3"
  },
  "language_info": {
   "codemirror_mode": {
    "name": "ipython",
    "version": 3
   },
   "file_extension": ".py",
   "mimetype": "text/x-python",
   "name": "python",
   "nbconvert_exporter": "python",
   "pygments_lexer": "ipython3",
   "version": "3.5.4"
  }
 },
 "nbformat": 4,
 "nbformat_minor": 1
}
