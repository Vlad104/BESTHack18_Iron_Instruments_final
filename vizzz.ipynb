{
 "cells": [
  {
   "cell_type": "code",
   "execution_count": 1,
   "metadata": {},
   "outputs": [],
   "source": [
    "import pandas as pd\n",
    "dfl = pd.read_csv('DataFromWebPage.csv', sep = ',', low_memory=False)"
   ]
  },
  {
   "cell_type": "code",
   "execution_count": 2,
   "metadata": {},
   "outputs": [
    {
     "data": {
      "text/html": [
       "<script>requirejs.config({paths: { 'plotly': ['https://cdn.plot.ly/plotly-latest.min']},});if(!window.Plotly) {{require(['plotly'],function(plotly) {window.Plotly=plotly;});}}</script>"
      ],
      "text/vnd.plotly.v1+html": [
       "<script>requirejs.config({paths: { 'plotly': ['https://cdn.plot.ly/plotly-latest.min']},});if(!window.Plotly) {{require(['plotly'],function(plotly) {window.Plotly=plotly;});}}</script>"
      ]
     },
     "metadata": {},
     "output_type": "display_data"
    }
   ],
   "source": [
    "from plotly.offline import download_plotlyjs, init_notebook_mode, plot, iplot\n",
    "import plotly\n",
    "import plotly.graph_objs as go\n",
    "init_notebook_mode ( connected = True )"
   ]
  },
  {
   "cell_type": "code",
   "execution_count": 19,
   "metadata": {},
   "outputs": [
    {
     "name": "stdout",
     "output_type": "stream",
     "text": [
      "боулинг\n"
     ]
    }
   ],
   "source": [
    "st = str(input())"
   ]
  },
  {
   "cell_type": "code",
   "execution_count": 20,
   "metadata": {},
   "outputs": [
    {
     "data": {
      "text/html": [
       "<div>\n",
       "<style>\n",
       "    .dataframe thead tr:only-child th {\n",
       "        text-align: right;\n",
       "    }\n",
       "\n",
       "    .dataframe thead th {\n",
       "        text-align: left;\n",
       "    }\n",
       "\n",
       "    .dataframe tbody tr th {\n",
       "        vertical-align: top;\n",
       "    }\n",
       "</style>\n",
       "<table border=\"1\" class=\"dataframe\">\n",
       "  <thead>\n",
       "    <tr style=\"text-align: right;\">\n",
       "      <th></th>\n",
       "      <th>Name</th>\n",
       "      <th>Price</th>\n",
       "      <th>Metro</th>\n",
       "      <th>Likes</th>\n",
       "      <th>Orders</th>\n",
       "      <th>Sale</th>\n",
       "    </tr>\n",
       "  </thead>\n",
       "  <tbody>\n",
       "    <tr>\n",
       "      <th>54</th>\n",
       "      <td>2 или 3 часа игры в боулинг в боулинг-клубе «П...</td>\n",
       "      <td>252 руб.</td>\n",
       "      <td>NaN</td>\n",
       "      <td>138</td>\n",
       "      <td>486</td>\n",
       "      <td>-84%</td>\n",
       "    </tr>\n",
       "    <tr>\n",
       "      <th>108</th>\n",
       "      <td>2 или 3 часа игры в боулинг в развлекательном ...</td>\n",
       "      <td>288 руб.</td>\n",
       "      <td>Люблино</td>\n",
       "      <td>418</td>\n",
       "      <td>828</td>\n",
       "      <td>-76%</td>\n",
       "    </tr>\n",
       "    <tr>\n",
       "      <th>125</th>\n",
       "      <td>2 или 3 часа игры в боулинг для компании до 6 ...</td>\n",
       "      <td>308 руб.</td>\n",
       "      <td>NaN</td>\n",
       "      <td>65</td>\n",
       "      <td>160</td>\n",
       "      <td>-86%</td>\n",
       "    </tr>\n",
       "    <tr>\n",
       "      <th>36</th>\n",
       "      <td>1 или 2 часа игры в боулинг в центре развлечен...</td>\n",
       "      <td>323 руб.</td>\n",
       "      <td>Площадь Гагарина</td>\n",
       "      <td>143</td>\n",
       "      <td>243</td>\n",
       "      <td>-81%</td>\n",
       "    </tr>\n",
       "    <tr>\n",
       "      <th>23</th>\n",
       "      <td>2 или 3 часа игры для 6 человек в боулинг-клуб...</td>\n",
       "      <td>498 руб.</td>\n",
       "      <td>Коломенская</td>\n",
       "      <td>264</td>\n",
       "      <td>705</td>\n",
       "      <td>-72%</td>\n",
       "    </tr>\n",
       "    <tr>\n",
       "      <th>37</th>\n",
       "      <td>3 часа игры в боулинг в клубе «Спортлайн»</td>\n",
       "      <td>889 руб.</td>\n",
       "      <td>Павелецкая</td>\n",
       "      <td>202</td>\n",
       "      <td>409</td>\n",
       "      <td>-81%</td>\n",
       "    </tr>\n",
       "    <tr>\n",
       "      <th>76</th>\n",
       "      <td>3 часа игры в боулинг с угощением в центре сем...</td>\n",
       "      <td>891 руб.</td>\n",
       "      <td>Перово</td>\n",
       "      <td>191</td>\n",
       "      <td>278</td>\n",
       "      <td>-67%</td>\n",
       "    </tr>\n",
       "  </tbody>\n",
       "</table>\n",
       "</div>"
      ],
      "text/plain": [
       "                                                  Name     Price  \\\n",
       "54   2 или 3 часа игры в боулинг в боулинг-клубе «П...  252 руб.   \n",
       "108  2 или 3 часа игры в боулинг в развлекательном ...  288 руб.   \n",
       "125  2 или 3 часа игры в боулинг для компании до 6 ...  308 руб.   \n",
       "36   1 или 2 часа игры в боулинг в центре развлечен...  323 руб.   \n",
       "23   2 или 3 часа игры для 6 человек в боулинг-клуб...  498 руб.   \n",
       "37           3 часа игры в боулинг в клубе «Спортлайн»  889 руб.   \n",
       "76   3 часа игры в боулинг с угощением в центре сем...  891 руб.   \n",
       "\n",
       "                Metro  Likes  Orders  Sale  \n",
       "54                NaN    138     486  -84%  \n",
       "108           Люблино    418     828  -76%  \n",
       "125               NaN     65     160  -86%  \n",
       "36   Площадь Гагарина    143     243  -81%  \n",
       "23        Коломенская    264     705  -72%  \n",
       "37         Павелецкая    202     409  -81%  \n",
       "76             Перово    191     278  -67%  "
      ]
     },
     "execution_count": 20,
     "metadata": {},
     "output_type": "execute_result"
    }
   ],
   "source": [
    "dd = dfl.loc[dfl['Name'].str.find(st) != -1]\n",
    "dd = dd.sort_values(by=['Price'])\n",
    "dd"
   ]
  },
  {
   "cell_type": "code",
   "execution_count": 23,
   "metadata": {},
   "outputs": [
    {
     "data": {
      "text/plain": [
       "54     252\n",
       "108    288\n",
       "125    308\n",
       "36     323\n",
       "23     498\n",
       "37     889\n",
       "76     891\n",
       "Name: Price, dtype: object"
      ]
     },
     "execution_count": 23,
     "metadata": {},
     "output_type": "execute_result"
    }
   ],
   "source": [
    "s = dd[\"Price\"].str.replace(\" \", \"\")\n",
    "s = s.str.extract('(\\d+)', expand=False)\n",
    "s"
   ]
  },
  {
   "cell_type": "code",
   "execution_count": 24,
   "metadata": {},
   "outputs": [
    {
     "data": {
      "application/vnd.plotly.v1+json": {
       "data": [
        {
         "type": "bar",
         "x": [
          "2 или 3 часа игры в боулинг в боулинг-клубе «Планета Боулинг»",
          "2 или 3 часа игры в боулинг в развлекательном комплексе «Наманган»",
          "2 или 3 часа игры в боулинг для компании до 6 человек в клубе «Москва»",
          "1 или 2 часа игры в боулинг в центре развлечений LaserLand",
          "2 или 3 часа игры для 6 человек в боулинг-клубе «Планета Боулинг»",
          "3 часа игры в боулинг в клубе «Спортлайн»",
          "3 часа игры в боулинг с угощением в центре семейного отдыха «Карибия»"
         ],
         "y": [
          "252",
          "288",
          "308",
          "323",
          "498",
          "889",
          "891"
         ]
        }
       ],
       "layout": {}
      },
      "text/html": [
       "<div id=\"4b3db91b-ca06-4645-ae1b-7a4033b02d43\" style=\"height: 525px; width: 100%;\" class=\"plotly-graph-div\"></div><script type=\"text/javascript\">require([\"plotly\"], function(Plotly) { window.PLOTLYENV=window.PLOTLYENV || {};window.PLOTLYENV.BASE_URL=\"https://plot.ly\";Plotly.newPlot(\"4b3db91b-ca06-4645-ae1b-7a4033b02d43\", [{\"type\": \"bar\", \"x\": [\"2 \\u0438\\u043b\\u0438 3 \\u0447\\u0430\\u0441\\u0430 \\u0438\\u0433\\u0440\\u044b \\u0432 \\u0431\\u043e\\u0443\\u043b\\u0438\\u043d\\u0433 \\u0432 \\u0431\\u043e\\u0443\\u043b\\u0438\\u043d\\u0433-\\u043a\\u043b\\u0443\\u0431\\u0435 \\u00ab\\u041f\\u043b\\u0430\\u043d\\u0435\\u0442\\u0430 \\u0411\\u043e\\u0443\\u043b\\u0438\\u043d\\u0433\\u00bb\", \"2 \\u0438\\u043b\\u0438 3 \\u0447\\u0430\\u0441\\u0430 \\u0438\\u0433\\u0440\\u044b \\u0432 \\u0431\\u043e\\u0443\\u043b\\u0438\\u043d\\u0433 \\u0432 \\u0440\\u0430\\u0437\\u0432\\u043b\\u0435\\u043a\\u0430\\u0442\\u0435\\u043b\\u044c\\u043d\\u043e\\u043c \\u043a\\u043e\\u043c\\u043f\\u043b\\u0435\\u043a\\u0441\\u0435 \\u00ab\\u041d\\u0430\\u043c\\u0430\\u043d\\u0433\\u0430\\u043d\\u00bb\", \"2 \\u0438\\u043b\\u0438 3 \\u0447\\u0430\\u0441\\u0430 \\u0438\\u0433\\u0440\\u044b \\u0432 \\u0431\\u043e\\u0443\\u043b\\u0438\\u043d\\u0433 \\u0434\\u043b\\u044f \\u043a\\u043e\\u043c\\u043f\\u0430\\u043d\\u0438\\u0438 \\u0434\\u043e 6 \\u0447\\u0435\\u043b\\u043e\\u0432\\u0435\\u043a \\u0432 \\u043a\\u043b\\u0443\\u0431\\u0435 \\u00ab\\u041c\\u043e\\u0441\\u043a\\u0432\\u0430\\u00bb\", \"1 \\u0438\\u043b\\u0438 2 \\u0447\\u0430\\u0441\\u0430 \\u0438\\u0433\\u0440\\u044b \\u0432 \\u0431\\u043e\\u0443\\u043b\\u0438\\u043d\\u0433 \\u0432 \\u0446\\u0435\\u043d\\u0442\\u0440\\u0435 \\u0440\\u0430\\u0437\\u0432\\u043b\\u0435\\u0447\\u0435\\u043d\\u0438\\u0439 LaserLand\", \"2 \\u0438\\u043b\\u0438 3 \\u0447\\u0430\\u0441\\u0430 \\u0438\\u0433\\u0440\\u044b \\u0434\\u043b\\u044f 6 \\u0447\\u0435\\u043b\\u043e\\u0432\\u0435\\u043a \\u0432 \\u0431\\u043e\\u0443\\u043b\\u0438\\u043d\\u0433-\\u043a\\u043b\\u0443\\u0431\\u0435 \\u00ab\\u041f\\u043b\\u0430\\u043d\\u0435\\u0442\\u0430 \\u0411\\u043e\\u0443\\u043b\\u0438\\u043d\\u0433\\u00bb\", \"3 \\u0447\\u0430\\u0441\\u0430 \\u0438\\u0433\\u0440\\u044b \\u0432 \\u0431\\u043e\\u0443\\u043b\\u0438\\u043d\\u0433 \\u0432 \\u043a\\u043b\\u0443\\u0431\\u0435 \\u00ab\\u0421\\u043f\\u043e\\u0440\\u0442\\u043b\\u0430\\u0439\\u043d\\u00bb\", \"3 \\u0447\\u0430\\u0441\\u0430 \\u0438\\u0433\\u0440\\u044b \\u0432 \\u0431\\u043e\\u0443\\u043b\\u0438\\u043d\\u0433 \\u0441 \\u0443\\u0433\\u043e\\u0449\\u0435\\u043d\\u0438\\u0435\\u043c \\u0432 \\u0446\\u0435\\u043d\\u0442\\u0440\\u0435 \\u0441\\u0435\\u043c\\u0435\\u0439\\u043d\\u043e\\u0433\\u043e \\u043e\\u0442\\u0434\\u044b\\u0445\\u0430 \\u00ab\\u041a\\u0430\\u0440\\u0438\\u0431\\u0438\\u044f\\u00bb\"], \"y\": [\"252\", \"288\", \"308\", \"323\", \"498\", \"889\", \"891\"]}], {}, {\"showLink\": true, \"linkText\": \"Export to plot.ly\"})});</script>"
      ],
      "text/vnd.plotly.v1+html": [
       "<div id=\"4b3db91b-ca06-4645-ae1b-7a4033b02d43\" style=\"height: 525px; width: 100%;\" class=\"plotly-graph-div\"></div><script type=\"text/javascript\">require([\"plotly\"], function(Plotly) { window.PLOTLYENV=window.PLOTLYENV || {};window.PLOTLYENV.BASE_URL=\"https://plot.ly\";Plotly.newPlot(\"4b3db91b-ca06-4645-ae1b-7a4033b02d43\", [{\"type\": \"bar\", \"x\": [\"2 \\u0438\\u043b\\u0438 3 \\u0447\\u0430\\u0441\\u0430 \\u0438\\u0433\\u0440\\u044b \\u0432 \\u0431\\u043e\\u0443\\u043b\\u0438\\u043d\\u0433 \\u0432 \\u0431\\u043e\\u0443\\u043b\\u0438\\u043d\\u0433-\\u043a\\u043b\\u0443\\u0431\\u0435 \\u00ab\\u041f\\u043b\\u0430\\u043d\\u0435\\u0442\\u0430 \\u0411\\u043e\\u0443\\u043b\\u0438\\u043d\\u0433\\u00bb\", \"2 \\u0438\\u043b\\u0438 3 \\u0447\\u0430\\u0441\\u0430 \\u0438\\u0433\\u0440\\u044b \\u0432 \\u0431\\u043e\\u0443\\u043b\\u0438\\u043d\\u0433 \\u0432 \\u0440\\u0430\\u0437\\u0432\\u043b\\u0435\\u043a\\u0430\\u0442\\u0435\\u043b\\u044c\\u043d\\u043e\\u043c \\u043a\\u043e\\u043c\\u043f\\u043b\\u0435\\u043a\\u0441\\u0435 \\u00ab\\u041d\\u0430\\u043c\\u0430\\u043d\\u0433\\u0430\\u043d\\u00bb\", \"2 \\u0438\\u043b\\u0438 3 \\u0447\\u0430\\u0441\\u0430 \\u0438\\u0433\\u0440\\u044b \\u0432 \\u0431\\u043e\\u0443\\u043b\\u0438\\u043d\\u0433 \\u0434\\u043b\\u044f \\u043a\\u043e\\u043c\\u043f\\u0430\\u043d\\u0438\\u0438 \\u0434\\u043e 6 \\u0447\\u0435\\u043b\\u043e\\u0432\\u0435\\u043a \\u0432 \\u043a\\u043b\\u0443\\u0431\\u0435 \\u00ab\\u041c\\u043e\\u0441\\u043a\\u0432\\u0430\\u00bb\", \"1 \\u0438\\u043b\\u0438 2 \\u0447\\u0430\\u0441\\u0430 \\u0438\\u0433\\u0440\\u044b \\u0432 \\u0431\\u043e\\u0443\\u043b\\u0438\\u043d\\u0433 \\u0432 \\u0446\\u0435\\u043d\\u0442\\u0440\\u0435 \\u0440\\u0430\\u0437\\u0432\\u043b\\u0435\\u0447\\u0435\\u043d\\u0438\\u0439 LaserLand\", \"2 \\u0438\\u043b\\u0438 3 \\u0447\\u0430\\u0441\\u0430 \\u0438\\u0433\\u0440\\u044b \\u0434\\u043b\\u044f 6 \\u0447\\u0435\\u043b\\u043e\\u0432\\u0435\\u043a \\u0432 \\u0431\\u043e\\u0443\\u043b\\u0438\\u043d\\u0433-\\u043a\\u043b\\u0443\\u0431\\u0435 \\u00ab\\u041f\\u043b\\u0430\\u043d\\u0435\\u0442\\u0430 \\u0411\\u043e\\u0443\\u043b\\u0438\\u043d\\u0433\\u00bb\", \"3 \\u0447\\u0430\\u0441\\u0430 \\u0438\\u0433\\u0440\\u044b \\u0432 \\u0431\\u043e\\u0443\\u043b\\u0438\\u043d\\u0433 \\u0432 \\u043a\\u043b\\u0443\\u0431\\u0435 \\u00ab\\u0421\\u043f\\u043e\\u0440\\u0442\\u043b\\u0430\\u0439\\u043d\\u00bb\", \"3 \\u0447\\u0430\\u0441\\u0430 \\u0438\\u0433\\u0440\\u044b \\u0432 \\u0431\\u043e\\u0443\\u043b\\u0438\\u043d\\u0433 \\u0441 \\u0443\\u0433\\u043e\\u0449\\u0435\\u043d\\u0438\\u0435\\u043c \\u0432 \\u0446\\u0435\\u043d\\u0442\\u0440\\u0435 \\u0441\\u0435\\u043c\\u0435\\u0439\\u043d\\u043e\\u0433\\u043e \\u043e\\u0442\\u0434\\u044b\\u0445\\u0430 \\u00ab\\u041a\\u0430\\u0440\\u0438\\u0431\\u0438\\u044f\\u00bb\"], \"y\": [\"252\", \"288\", \"308\", \"323\", \"498\", \"889\", \"891\"]}], {}, {\"showLink\": true, \"linkText\": \"Export to plot.ly\"})});</script>"
      ]
     },
     "metadata": {},
     "output_type": "display_data"
    }
   ],
   "source": [
    "data = [plotly.graph_objs.Bar(x=dd['Name'], y=s)]\n",
    "plotly.offline.iplot(plotly.graph_objs.Figure(data=data))"
   ]
  },
  {
   "cell_type": "code",
   "execution_count": null,
   "metadata": {},
   "outputs": [],
   "source": []
  }
 ],
 "metadata": {
  "kernelspec": {
   "display_name": "Python 3.6",
   "language": "python",
   "name": "python36"
  },
  "language_info": {
   "codemirror_mode": {
    "name": "ipython",
    "version": 3
   },
   "file_extension": ".py",
   "mimetype": "text/x-python",
   "name": "python",
   "nbconvert_exporter": "python",
   "pygments_lexer": "ipython3",
   "version": "3.6.3"
  }
 },
 "nbformat": 4,
 "nbformat_minor": 2
}
